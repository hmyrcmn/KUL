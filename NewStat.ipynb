{
  "nbformat": 4,
  "nbformat_minor": 0,
  "metadata": {
    "colab": {
      "provenance": [],
      "toc_visible": true,
      "gpuType": "T4",
      "include_colab_link": true
    },
    "kernelspec": {
      "name": "python3",
      "display_name": "Python 3"
    },
    "language_info": {
      "name": "python"
    },
    "accelerator": "GPU"
  },
  "cells": [
    {
      "cell_type": "markdown",
      "metadata": {
        "id": "view-in-github",
        "colab_type": "text"
      },
      "source": [
        "<a href=\"https://colab.research.google.com/github/hmyrcmn/KUL/blob/main/NewStat.ipynb\" target=\"_parent\"><img src=\"https://colab.research.google.com/assets/colab-badge.svg\" alt=\"Open In Colab\"/></a>"
      ]
    },
    {
      "cell_type": "code",
      "source": [
        "pip install tensorboard"
      ],
      "metadata": {
        "colab": {
          "base_uri": "https://localhost:8080/"
        },
        "id": "XklicHU61CVB",
        "outputId": "994a4a10-d8d5-4d56-850e-1b856a681521"
      },
      "execution_count": 1,
      "outputs": [
        {
          "output_type": "stream",
          "name": "stdout",
          "text": [
            "Requirement already satisfied: tensorboard in /usr/local/lib/python3.10/dist-packages (2.15.2)\n",
            "Requirement already satisfied: absl-py>=0.4 in /usr/local/lib/python3.10/dist-packages (from tensorboard) (1.4.0)\n",
            "Requirement already satisfied: grpcio>=1.48.2 in /usr/local/lib/python3.10/dist-packages (from tensorboard) (1.62.0)\n",
            "Requirement already satisfied: google-auth<3,>=1.6.3 in /usr/local/lib/python3.10/dist-packages (from tensorboard) (2.27.0)\n",
            "Requirement already satisfied: google-auth-oauthlib<2,>=0.5 in /usr/local/lib/python3.10/dist-packages (from tensorboard) (1.2.0)\n",
            "Requirement already satisfied: markdown>=2.6.8 in /usr/local/lib/python3.10/dist-packages (from tensorboard) (3.5.2)\n",
            "Requirement already satisfied: numpy>=1.12.0 in /usr/local/lib/python3.10/dist-packages (from tensorboard) (1.25.2)\n",
            "Requirement already satisfied: protobuf!=4.24.0,>=3.19.6 in /usr/local/lib/python3.10/dist-packages (from tensorboard) (3.20.3)\n",
            "Requirement already satisfied: requests<3,>=2.21.0 in /usr/local/lib/python3.10/dist-packages (from tensorboard) (2.31.0)\n",
            "Requirement already satisfied: setuptools>=41.0.0 in /usr/local/lib/python3.10/dist-packages (from tensorboard) (67.7.2)\n",
            "Requirement already satisfied: six>1.9 in /usr/local/lib/python3.10/dist-packages (from tensorboard) (1.16.0)\n",
            "Requirement already satisfied: tensorboard-data-server<0.8.0,>=0.7.0 in /usr/local/lib/python3.10/dist-packages (from tensorboard) (0.7.2)\n",
            "Requirement already satisfied: werkzeug>=1.0.1 in /usr/local/lib/python3.10/dist-packages (from tensorboard) (3.0.1)\n",
            "Requirement already satisfied: cachetools<6.0,>=2.0.0 in /usr/local/lib/python3.10/dist-packages (from google-auth<3,>=1.6.3->tensorboard) (5.3.3)\n",
            "Requirement already satisfied: pyasn1-modules>=0.2.1 in /usr/local/lib/python3.10/dist-packages (from google-auth<3,>=1.6.3->tensorboard) (0.3.0)\n",
            "Requirement already satisfied: rsa<5,>=3.1.4 in /usr/local/lib/python3.10/dist-packages (from google-auth<3,>=1.6.3->tensorboard) (4.9)\n",
            "Requirement already satisfied: requests-oauthlib>=0.7.0 in /usr/local/lib/python3.10/dist-packages (from google-auth-oauthlib<2,>=0.5->tensorboard) (1.3.1)\n",
            "Requirement already satisfied: charset-normalizer<4,>=2 in /usr/local/lib/python3.10/dist-packages (from requests<3,>=2.21.0->tensorboard) (3.3.2)\n",
            "Requirement already satisfied: idna<4,>=2.5 in /usr/local/lib/python3.10/dist-packages (from requests<3,>=2.21.0->tensorboard) (3.6)\n",
            "Requirement already satisfied: urllib3<3,>=1.21.1 in /usr/local/lib/python3.10/dist-packages (from requests<3,>=2.21.0->tensorboard) (2.0.7)\n",
            "Requirement already satisfied: certifi>=2017.4.17 in /usr/local/lib/python3.10/dist-packages (from requests<3,>=2.21.0->tensorboard) (2024.2.2)\n",
            "Requirement already satisfied: MarkupSafe>=2.1.1 in /usr/local/lib/python3.10/dist-packages (from werkzeug>=1.0.1->tensorboard) (2.1.5)\n",
            "Requirement already satisfied: pyasn1<0.6.0,>=0.4.6 in /usr/local/lib/python3.10/dist-packages (from pyasn1-modules>=0.2.1->google-auth<3,>=1.6.3->tensorboard) (0.5.1)\n",
            "Requirement already satisfied: oauthlib>=3.0.0 in /usr/local/lib/python3.10/dist-packages (from requests-oauthlib>=0.7.0->google-auth-oauthlib<2,>=0.5->tensorboard) (3.2.2)\n"
          ]
        }
      ]
    },
    {
      "cell_type": "code",
      "execution_count": 3,
      "metadata": {
        "colab": {
          "base_uri": "https://localhost:8080/"
        },
        "id": "zp-AbDMx0ut2",
        "outputId": "42500170-5e90-43b0-ee17-fce9bd2175cd"
      },
      "outputs": [
        {
          "output_type": "stream",
          "name": "stdout",
          "text": [
            "fatal: destination path 'KUL' already exists and is not an empty directory.\n",
            "x_data shape:  (2000, 1000, 1)\n"
          ]
        },
        {
          "output_type": "execute_result",
          "data": {
            "text/plain": [
              "array([[[201.32509767],\n",
              "        [201.29264308],\n",
              "        [201.2567427 ],\n",
              "        ...,\n",
              "        [201.05048642],\n",
              "        [200.92746245],\n",
              "        [200.79717031]],\n",
              "\n",
              "       [[201.32509767],\n",
              "        [201.29264308],\n",
              "        [201.2567427 ],\n",
              "        ...,\n",
              "        [201.05048642],\n",
              "        [200.92746245],\n",
              "        [200.79717031]],\n",
              "\n",
              "       [[201.32509767],\n",
              "        [201.29264308],\n",
              "        [201.2567427 ],\n",
              "        ...,\n",
              "        [201.05048642],\n",
              "        [200.92746245],\n",
              "        [200.79717031]],\n",
              "\n",
              "       ...,\n",
              "\n",
              "       [[201.32509767],\n",
              "        [201.29264308],\n",
              "        [201.2567427 ],\n",
              "        ...,\n",
              "        [201.05048642],\n",
              "        [200.92746245],\n",
              "        [200.79717031]],\n",
              "\n",
              "       [[201.32509767],\n",
              "        [197.31288499],\n",
              "        [201.2567427 ],\n",
              "        ...,\n",
              "        [201.05048642],\n",
              "        [200.92746245],\n",
              "        [200.79717031]],\n",
              "\n",
              "       [[201.29354412],\n",
              "        [201.29264308],\n",
              "        [200.41032504],\n",
              "        ...,\n",
              "        [201.05048642],\n",
              "        [200.92746245],\n",
              "        [200.79717031]]])"
            ]
          },
          "metadata": {},
          "execution_count": 3
        }
      ],
      "source": [
        "import os\n",
        "import numpy as np\n",
        "from sklearn.model_selection import train_test_split\n",
        "from sklearn.preprocessing import MinMaxScaler\n",
        "from keras.models import Sequential\n",
        "from keras.layers import Dense, Dropout\n",
        "from sklearn.utils import shuffle\n",
        "\n",
        "\n",
        "!git clone https://github.com/hmyrcmn/KUL.git\n",
        "\n",
        "# Veri yükleme\n",
        "true_folder ='/content/KUL/BigData/TrueValues'\n",
        "X_data = []\n",
        "x2_data=[]\n",
        "Y_labels = []\n",
        "\n",
        "for filename in os.listdir(true_folder):\n",
        "    data = np.genfromtxt(os.path.join(true_folder, filename), delimiter=',')\n",
        "    # X_data.append(data)\n",
        "    X_data.append(data[:, 1:])  # Sadece virgül sonrasındaki değerleri ekledim\n",
        "    # x2_data.append(data[:, 0:])\n",
        "    Y_labels.append(1)\n",
        "\n",
        "\n",
        "\n",
        "\n",
        "\n",
        "\n",
        "\n",
        "\n",
        "false_folder = '/content/KUL/BigData/FalseValues'\n",
        "for filename in os.listdir(false_folder):\n",
        "    data = np.genfromtxt(os.path.join(false_folder, filename), delimiter=',')\n",
        "    # X_data.append(data)\n",
        "    X_data.append(data[:, 1:])  # Sadece virgül sonrasındaki değerleri ekledim\n",
        "    # x2_data.append(data[:, 0:])\n",
        "    Y_labels.append(0)\n",
        "\n",
        "\n",
        "\n",
        "\n",
        "X_data = np.array(X_data)\n",
        "Y_labels = np.array(Y_labels)\n",
        "\n",
        "\n",
        "# X_data ve Y_labels dizilerini karıştırın\n",
        "X_data, Y_labels = shuffle(X_data, Y_labels)\n",
        "\n",
        "# x2_data=np.array(x2_data)\n",
        "print(\"x_data shape: \",X_data.shape)\n",
        "# X_data=X_data,x2_data\n",
        "X_data\n",
        "\n"
      ]
    },
    {
      "cell_type": "code",
      "source": [
        "# Verileri düzenleme ve normalleştirme\n",
        "num_samples = len(X_data)\n",
        "sequence_length = X_data.shape[1]\n",
        "num_features = X_data.shape[2]\n",
        "\n",
        "X_data_normalized = X_data.reshape(num_samples, sequence_length * num_features)\n",
        "\n",
        "# Eğitim ve test setlerine bölme\n",
        "\n",
        "\n",
        "X_train, X_test, y_train, y_test = train_test_split(X_data_normalized, Y_labels, test_size=0.2, random_state=42)\n",
        "\n",
        "print(\"X_train.shape:\",X_train.shape)\n",
        "X_train"
      ],
      "metadata": {
        "colab": {
          "base_uri": "https://localhost:8080/"
        },
        "id": "de6_iL8O1GH2",
        "outputId": "4e09a8e5-e038-4e44-f814-0b067ca625fe"
      },
      "execution_count": 10,
      "outputs": [
        {
          "output_type": "stream",
          "name": "stdout",
          "text": [
            "X_train.shape: (1600, 1000)\n"
          ]
        },
        {
          "output_type": "execute_result",
          "data": {
            "text/plain": [
              "array([[201.32509767, 201.29264308, 201.2567427 , ..., 201.05048642,\n",
              "        200.92746245, 200.79717031],\n",
              "       [201.32509767, 201.29264308, 201.2567427 , ..., 201.05048642,\n",
              "        200.92746245, 200.79717031],\n",
              "       [201.32509767, 201.29264308, 201.2567427 , ..., 201.05048642,\n",
              "        200.92746245, 200.79717031],\n",
              "       ...,\n",
              "       [201.32509767, 201.29264308, 201.2567427 , ..., 201.05048642,\n",
              "        200.92746245, 200.79717031],\n",
              "       [201.32509767, 201.29264308, 201.2567427 , ..., 201.05048642,\n",
              "        200.92746245, 200.79717031],\n",
              "       [201.32509767, 201.29264308, 201.2567427 , ..., 201.05048642,\n",
              "        200.92746245, 200.79717031]])"
            ]
          },
          "metadata": {},
          "execution_count": 10
        }
      ]
    },
    {
      "cell_type": "code",
      "source": [
        "\n",
        "print(y_train.shape)\n",
        "y_train"
      ],
      "metadata": {
        "id": "3gv_Um1akSmA",
        "outputId": "25861f22-a608-4d1c-c190-97e0ec7fc21e",
        "colab": {
          "base_uri": "https://localhost:8080/"
        }
      },
      "execution_count": 5,
      "outputs": [
        {
          "output_type": "stream",
          "name": "stdout",
          "text": [
            "(1600,)\n"
          ]
        },
        {
          "output_type": "execute_result",
          "data": {
            "text/plain": [
              "array([0, 0, 1, ..., 0, 1, 1])"
            ]
          },
          "metadata": {},
          "execution_count": 5
        }
      ]
    },
    {
      "cell_type": "markdown",
      "source": [
        "#deneme"
      ],
      "metadata": {
        "id": "SVfpCLXblhj-"
      }
    },
    {
      "cell_type": "code",
      "source": [
        "import numpy as np\n",
        "from sklearn.model_selection import train_test_split\n",
        "from tensorflow.keras.models import Sequential\n",
        "from tensorflow.keras.layers import Conv1D, MaxPooling1D, Flatten, Dense\n",
        "\n",
        "# Verileri uygun şekilde düzenleme ve ölçeklendirme\n",
        "X_train = np.expand_dims(X_train, axis=-1)\n",
        "y_train = np.array(y_train)\n",
        "\n",
        "# Veriyi eğitim ve test setlerine bölme\n",
        "X_train, X_test, y_train, y_test = train_test_split(X_train, y_train, test_size=0.2, random_state=42)\n",
        "model = Sequential()\n",
        "model.add(Conv1D(filters=32, kernel_size=3, activation='relu', input_shape=(1000, 1)))\n",
        "model.add(MaxPooling1D(pool_size=2))\n",
        "model.add(Flatten())\n",
        "model.add(Dense(1, activation='sigmoid'))\n",
        "\n",
        "model.compile(optimizer='adam', loss='binary_crossentropy', metrics=['accuracy'])\n",
        "\n",
        "model.fit(X_train, y_train, epochs=80, batch_size=32, validation_data=(X_test, y_test))\n"
      ],
      "metadata": {
        "id": "i9dUPedklhFR",
        "outputId": "0a2cd3a9-9fd2-491b-cdc9-a7475fc68349",
        "colab": {
          "base_uri": "https://localhost:8080/"
        }
      },
      "execution_count": 12,
      "outputs": [
        {
          "output_type": "stream",
          "name": "stdout",
          "text": [
            "Epoch 1/80\n",
            "32/32 [==============================] - 2s 19ms/step - loss: 51.2611 - accuracy: 0.4814 - val_loss: 40.8095 - val_accuracy: 0.4570\n",
            "Epoch 2/80\n",
            "32/32 [==============================] - 0s 12ms/step - loss: 14.0797 - accuracy: 0.4854 - val_loss: 8.4113 - val_accuracy: 0.5430\n",
            "Epoch 3/80\n",
            "32/32 [==============================] - 0s 9ms/step - loss: 6.2391 - accuracy: 0.5264 - val_loss: 6.7004 - val_accuracy: 0.4570\n",
            "Epoch 4/80\n",
            "32/32 [==============================] - 0s 10ms/step - loss: 5.1233 - accuracy: 0.5020 - val_loss: 1.4575 - val_accuracy: 0.5430\n",
            "Epoch 5/80\n",
            "32/32 [==============================] - 0s 13ms/step - loss: 2.4229 - accuracy: 0.5068 - val_loss: 5.2693 - val_accuracy: 0.5430\n",
            "Epoch 6/80\n",
            "32/32 [==============================] - 0s 10ms/step - loss: 4.6286 - accuracy: 0.4902 - val_loss: 15.2852 - val_accuracy: 0.4570\n",
            "Epoch 7/80\n",
            "32/32 [==============================] - 0s 9ms/step - loss: 11.6851 - accuracy: 0.4932 - val_loss: 7.2988 - val_accuracy: 0.4570\n",
            "Epoch 8/80\n",
            "32/32 [==============================] - 0s 12ms/step - loss: 4.1081 - accuracy: 0.5107 - val_loss: 2.3156 - val_accuracy: 0.4570\n",
            "Epoch 9/80\n",
            "32/32 [==============================] - 0s 11ms/step - loss: 0.9424 - accuracy: 0.5293 - val_loss: 0.6767 - val_accuracy: 0.5195\n",
            "Epoch 10/80\n",
            "32/32 [==============================] - 0s 10ms/step - loss: 0.8125 - accuracy: 0.5205 - val_loss: 0.8230 - val_accuracy: 0.4648\n",
            "Epoch 11/80\n",
            "32/32 [==============================] - 0s 10ms/step - loss: 0.8853 - accuracy: 0.5195 - val_loss: 0.7064 - val_accuracy: 0.5195\n",
            "Epoch 12/80\n",
            "32/32 [==============================] - 0s 8ms/step - loss: 0.9027 - accuracy: 0.5244 - val_loss: 0.6463 - val_accuracy: 0.8125\n",
            "Epoch 13/80\n",
            "32/32 [==============================] - 0s 7ms/step - loss: 0.6689 - accuracy: 0.6035 - val_loss: 1.0866 - val_accuracy: 0.4570\n",
            "Epoch 14/80\n",
            "32/32 [==============================] - 0s 6ms/step - loss: 0.7986 - accuracy: 0.5322 - val_loss: 1.0180 - val_accuracy: 0.5430\n",
            "Epoch 15/80\n",
            "32/32 [==============================] - 0s 9ms/step - loss: 0.9218 - accuracy: 0.5381 - val_loss: 0.7920 - val_accuracy: 0.5430\n",
            "Epoch 16/80\n",
            "32/32 [==============================] - 0s 6ms/step - loss: 0.8207 - accuracy: 0.5254 - val_loss: 0.8005 - val_accuracy: 0.4766\n",
            "Epoch 17/80\n",
            "32/32 [==============================] - 0s 6ms/step - loss: 0.8770 - accuracy: 0.5254 - val_loss: 0.6257 - val_accuracy: 0.5312\n",
            "Epoch 18/80\n",
            "32/32 [==============================] - 0s 8ms/step - loss: 0.7683 - accuracy: 0.5596 - val_loss: 0.6714 - val_accuracy: 0.5664\n",
            "Epoch 19/80\n",
            "32/32 [==============================] - 0s 7ms/step - loss: 0.6163 - accuracy: 0.6768 - val_loss: 0.5841 - val_accuracy: 0.7773\n",
            "Epoch 20/80\n",
            "32/32 [==============================] - 0s 8ms/step - loss: 0.5975 - accuracy: 0.6611 - val_loss: 0.5680 - val_accuracy: 0.8086\n",
            "Epoch 21/80\n",
            "32/32 [==============================] - 0s 6ms/step - loss: 0.7331 - accuracy: 0.5791 - val_loss: 0.9622 - val_accuracy: 0.5430\n",
            "Epoch 22/80\n",
            "32/32 [==============================] - 0s 10ms/step - loss: 0.8613 - accuracy: 0.5645 - val_loss: 0.7509 - val_accuracy: 0.5430\n",
            "Epoch 23/80\n",
            "32/32 [==============================] - 0s 12ms/step - loss: 0.6942 - accuracy: 0.5693 - val_loss: 0.5983 - val_accuracy: 0.7578\n",
            "Epoch 24/80\n",
            "32/32 [==============================] - 0s 8ms/step - loss: 0.6377 - accuracy: 0.5889 - val_loss: 0.6125 - val_accuracy: 0.5430\n",
            "Epoch 25/80\n",
            "32/32 [==============================] - 0s 4ms/step - loss: 0.5675 - accuracy: 0.7266 - val_loss: 0.5969 - val_accuracy: 0.5430\n",
            "Epoch 26/80\n",
            "32/32 [==============================] - 0s 4ms/step - loss: 0.5822 - accuracy: 0.6729 - val_loss: 0.5627 - val_accuracy: 0.7383\n",
            "Epoch 27/80\n",
            "32/32 [==============================] - 0s 4ms/step - loss: 0.5852 - accuracy: 0.6484 - val_loss: 0.5682 - val_accuracy: 0.5430\n",
            "Epoch 28/80\n",
            "32/32 [==============================] - 0s 4ms/step - loss: 0.5681 - accuracy: 0.6484 - val_loss: 0.5340 - val_accuracy: 0.5391\n",
            "Epoch 29/80\n",
            "32/32 [==============================] - 0s 4ms/step - loss: 0.5964 - accuracy: 0.6738 - val_loss: 0.5797 - val_accuracy: 0.5430\n",
            "Epoch 30/80\n",
            "32/32 [==============================] - 0s 4ms/step - loss: 0.5007 - accuracy: 0.7637 - val_loss: 0.5367 - val_accuracy: 0.5430\n",
            "Epoch 31/80\n",
            "32/32 [==============================] - 0s 4ms/step - loss: 0.5032 - accuracy: 0.7764 - val_loss: 0.4938 - val_accuracy: 0.6797\n",
            "Epoch 32/80\n",
            "32/32 [==============================] - 0s 4ms/step - loss: 0.5191 - accuracy: 0.7217 - val_loss: 0.5389 - val_accuracy: 0.7148\n",
            "Epoch 33/80\n",
            "32/32 [==============================] - 0s 4ms/step - loss: 0.5029 - accuracy: 0.7637 - val_loss: 0.5824 - val_accuracy: 0.6797\n",
            "Epoch 34/80\n",
            "32/32 [==============================] - 0s 4ms/step - loss: 0.4615 - accuracy: 0.8096 - val_loss: 0.5176 - val_accuracy: 0.7266\n",
            "Epoch 35/80\n",
            "32/32 [==============================] - 0s 4ms/step - loss: 0.5084 - accuracy: 0.7549 - val_loss: 0.5426 - val_accuracy: 0.5430\n",
            "Epoch 36/80\n",
            "32/32 [==============================] - 0s 4ms/step - loss: 0.4761 - accuracy: 0.7764 - val_loss: 0.4877 - val_accuracy: 0.8984\n",
            "Epoch 37/80\n",
            "32/32 [==============================] - 0s 4ms/step - loss: 0.5386 - accuracy: 0.7168 - val_loss: 0.4942 - val_accuracy: 0.7461\n",
            "Epoch 38/80\n",
            "32/32 [==============================] - 0s 4ms/step - loss: 0.4512 - accuracy: 0.8428 - val_loss: 0.5894 - val_accuracy: 0.5430\n",
            "Epoch 39/80\n",
            "32/32 [==============================] - 0s 4ms/step - loss: 0.5384 - accuracy: 0.6943 - val_loss: 0.6758 - val_accuracy: 0.6055\n",
            "Epoch 40/80\n",
            "32/32 [==============================] - 0s 4ms/step - loss: 0.4181 - accuracy: 0.8604 - val_loss: 0.4222 - val_accuracy: 0.9062\n",
            "Epoch 41/80\n",
            "32/32 [==============================] - 0s 4ms/step - loss: 0.4379 - accuracy: 0.8340 - val_loss: 0.4510 - val_accuracy: 0.8633\n",
            "Epoch 42/80\n",
            "32/32 [==============================] - 0s 4ms/step - loss: 0.4170 - accuracy: 0.8496 - val_loss: 0.4729 - val_accuracy: 0.7617\n",
            "Epoch 43/80\n",
            "32/32 [==============================] - 0s 4ms/step - loss: 0.3667 - accuracy: 0.8887 - val_loss: 0.3950 - val_accuracy: 0.8945\n",
            "Epoch 44/80\n",
            "32/32 [==============================] - 0s 4ms/step - loss: 0.3656 - accuracy: 0.8750 - val_loss: 0.5158 - val_accuracy: 0.7383\n",
            "Epoch 45/80\n",
            "32/32 [==============================] - 0s 4ms/step - loss: 0.3993 - accuracy: 0.8330 - val_loss: 0.4503 - val_accuracy: 0.8359\n",
            "Epoch 46/80\n",
            "32/32 [==============================] - 0s 4ms/step - loss: 0.4652 - accuracy: 0.7666 - val_loss: 0.6545 - val_accuracy: 0.5820\n",
            "Epoch 47/80\n",
            "32/32 [==============================] - 0s 4ms/step - loss: 0.4389 - accuracy: 0.8682 - val_loss: 0.4151 - val_accuracy: 0.9805\n",
            "Epoch 48/80\n",
            "32/32 [==============================] - 0s 4ms/step - loss: 0.3911 - accuracy: 0.8809 - val_loss: 0.4014 - val_accuracy: 0.8594\n",
            "Epoch 49/80\n",
            "32/32 [==============================] - 0s 4ms/step - loss: 0.3354 - accuracy: 0.8965 - val_loss: 0.3699 - val_accuracy: 0.8398\n",
            "Epoch 50/80\n",
            "32/32 [==============================] - 0s 4ms/step - loss: 0.3458 - accuracy: 0.8887 - val_loss: 0.4564 - val_accuracy: 0.7812\n",
            "Epoch 51/80\n",
            "32/32 [==============================] - 0s 4ms/step - loss: 0.4153 - accuracy: 0.8516 - val_loss: 0.4668 - val_accuracy: 0.8164\n",
            "Epoch 52/80\n",
            "32/32 [==============================] - 0s 4ms/step - loss: 0.3712 - accuracy: 0.8770 - val_loss: 0.4614 - val_accuracy: 0.7617\n",
            "Epoch 53/80\n",
            "32/32 [==============================] - 0s 4ms/step - loss: 0.3806 - accuracy: 0.8828 - val_loss: 0.3632 - val_accuracy: 0.8633\n",
            "Epoch 54/80\n",
            "32/32 [==============================] - 0s 4ms/step - loss: 0.5093 - accuracy: 0.8213 - val_loss: 0.5158 - val_accuracy: 0.7539\n",
            "Epoch 55/80\n",
            "32/32 [==============================] - 0s 4ms/step - loss: 0.4725 - accuracy: 0.8467 - val_loss: 0.5483 - val_accuracy: 0.8125\n",
            "Epoch 56/80\n",
            "32/32 [==============================] - 0s 4ms/step - loss: 0.4763 - accuracy: 0.8594 - val_loss: 0.4523 - val_accuracy: 0.8906\n",
            "Epoch 57/80\n",
            "32/32 [==============================] - 0s 4ms/step - loss: 0.4406 - accuracy: 0.8594 - val_loss: 0.4635 - val_accuracy: 0.8164\n",
            "Epoch 58/80\n",
            "32/32 [==============================] - 0s 4ms/step - loss: 0.4271 - accuracy: 0.8828 - val_loss: 0.5008 - val_accuracy: 0.7539\n",
            "Epoch 59/80\n",
            "32/32 [==============================] - 0s 4ms/step - loss: 0.4085 - accuracy: 0.8848 - val_loss: 0.4369 - val_accuracy: 0.8242\n",
            "Epoch 60/80\n",
            "32/32 [==============================] - 0s 4ms/step - loss: 0.4522 - accuracy: 0.8740 - val_loss: 0.5193 - val_accuracy: 0.7852\n",
            "Epoch 61/80\n",
            "32/32 [==============================] - 0s 4ms/step - loss: 0.4056 - accuracy: 0.8926 - val_loss: 0.4479 - val_accuracy: 0.8008\n",
            "Epoch 62/80\n",
            "32/32 [==============================] - 0s 4ms/step - loss: 0.4008 - accuracy: 0.8789 - val_loss: 0.4107 - val_accuracy: 0.9062\n",
            "Epoch 63/80\n",
            "32/32 [==============================] - 0s 4ms/step - loss: 0.4142 - accuracy: 0.8564 - val_loss: 0.4583 - val_accuracy: 0.7969\n",
            "Epoch 64/80\n",
            "32/32 [==============================] - 0s 4ms/step - loss: 0.4372 - accuracy: 0.8799 - val_loss: 0.5709 - val_accuracy: 0.6758\n",
            "Epoch 65/80\n",
            "32/32 [==============================] - 0s 4ms/step - loss: 0.3992 - accuracy: 0.8564 - val_loss: 0.4655 - val_accuracy: 0.7773\n",
            "Epoch 66/80\n",
            "32/32 [==============================] - 0s 4ms/step - loss: 0.4481 - accuracy: 0.8164 - val_loss: 0.5227 - val_accuracy: 0.7344\n",
            "Epoch 67/80\n",
            "32/32 [==============================] - 0s 4ms/step - loss: 0.4877 - accuracy: 0.7920 - val_loss: 0.5391 - val_accuracy: 0.8281\n",
            "Epoch 68/80\n",
            "32/32 [==============================] - 0s 4ms/step - loss: 0.4927 - accuracy: 0.7861 - val_loss: 0.5278 - val_accuracy: 0.7188\n",
            "Epoch 69/80\n",
            "32/32 [==============================] - 0s 4ms/step - loss: 0.4141 - accuracy: 0.8818 - val_loss: 0.4222 - val_accuracy: 0.9258\n",
            "Epoch 70/80\n",
            "32/32 [==============================] - 0s 4ms/step - loss: 0.3729 - accuracy: 0.8926 - val_loss: 0.4191 - val_accuracy: 0.8359\n",
            "Epoch 71/80\n",
            "32/32 [==============================] - 0s 6ms/step - loss: 0.4469 - accuracy: 0.8350 - val_loss: 0.5313 - val_accuracy: 0.8438\n",
            "Epoch 72/80\n",
            "32/32 [==============================] - 0s 6ms/step - loss: 0.4662 - accuracy: 0.8828 - val_loss: 0.4149 - val_accuracy: 0.8125\n",
            "Epoch 73/80\n",
            "32/32 [==============================] - 0s 6ms/step - loss: 0.3724 - accuracy: 0.8896 - val_loss: 0.3896 - val_accuracy: 0.8867\n",
            "Epoch 74/80\n",
            "32/32 [==============================] - 0s 6ms/step - loss: 0.3470 - accuracy: 0.8965 - val_loss: 0.4355 - val_accuracy: 0.7930\n",
            "Epoch 75/80\n",
            "32/32 [==============================] - 0s 6ms/step - loss: 0.3342 - accuracy: 0.8975 - val_loss: 0.3949 - val_accuracy: 0.8203\n",
            "Epoch 76/80\n",
            "32/32 [==============================] - 0s 5ms/step - loss: 0.3420 - accuracy: 0.8906 - val_loss: 0.4338 - val_accuracy: 0.8008\n",
            "Epoch 77/80\n",
            "32/32 [==============================] - 0s 7ms/step - loss: 0.3747 - accuracy: 0.8799 - val_loss: 0.4847 - val_accuracy: 0.8477\n",
            "Epoch 78/80\n",
            "32/32 [==============================] - 0s 6ms/step - loss: 0.4419 - accuracy: 0.8389 - val_loss: 0.4968 - val_accuracy: 0.7930\n",
            "Epoch 79/80\n",
            "32/32 [==============================] - 0s 6ms/step - loss: 0.4068 - accuracy: 0.8574 - val_loss: 0.5065 - val_accuracy: 0.7734\n",
            "Epoch 80/80\n",
            "32/32 [==============================] - 0s 7ms/step - loss: 0.4063 - accuracy: 0.8594 - val_loss: 0.3958 - val_accuracy: 0.9297\n"
          ]
        },
        {
          "output_type": "execute_result",
          "data": {
            "text/plain": [
              "<keras.src.callbacks.History at 0x7f013c35bfd0>"
            ]
          },
          "metadata": {},
          "execution_count": 12
        }
      ]
    },
    {
      "cell_type": "code",
      "source": [],
      "metadata": {
        "id": "hCvfa8MslhCA"
      },
      "execution_count": null,
      "outputs": []
    },
    {
      "cell_type": "code",
      "source": [
        "from keras.models import Sequential\n",
        "from keras.layers import Dense, Flatten\n",
        "from keras.callbacks import TensorBoard\n",
        "import tensorflow as tf\n",
        "import numpy as np\n",
        "from datetime import datetime\n",
        "\n",
        "\n",
        "# TensorBoard için bir log dizini oluşturun\n",
        "log_dir = \"logs/fit/\" + datetime.now().strftime(\"%Y%m%d-%H%M%S\")\n",
        "print(f\"TensorBoard Link: https://tensorboard.dev/experiment/{log_dir}\")\n",
        "\n",
        "# TensorBoard Callback'ini oluşturun\n",
        "tensorboard_callback = tf.keras.callbacks.TensorBoard(log_dir=log_dir, histogram_freq=1)\n",
        "\n",
        "# Model oluşturma\n",
        "model = Sequential()\n",
        "model.add(Flatten(input_shape=(1000, 1)))\n",
        "model.add(Dense(100, activation='relu'))\n",
        "model.add(Dense(100, activation='sigmoid'))\n",
        "model.add(Dense(2, activation='softmax'))\n",
        "\n",
        "# Model derleme\n",
        "model.compile(optimizer='Nadam', loss='mean_squared_error', metrics=['mse','accuracy'])\n",
        "\n",
        "# Model özetini yazdırma\n",
        "model.summary()\n",
        "\n",
        "# Modeli eğitme ve TensorBoard geri çağırımını kullanma\n",
        "model.fit(X_train, y_train, epochs=50, batch_size=128, validation_split=0.2, callbacks=[tensorboard_callback])\n",
        "\n",
        "# Diğer değerlendirmeleri yapma ve sonuçları yazdırma\n",
        "test_loss, test_mse, test_acc = model.evaluate(X_test, y_test)\n",
        "print(f'Test MSE: {test_mse}, Test Accuracy: {test_acc}')\n",
        "\n",
        "# Model özetini yazdırma\n",
        "model.summary()\n",
        "\n",
        "# Test seti üzerinde tahminler yapma\n",
        "y_pred_probabilities = model.predict(X_test)\n",
        "y_pred_classes = np.argmax(y_pred_probabilities, axis=1)\n",
        "\n",
        "# Tahmin edilen sınıfları ve olasılıkları yazdırma\n",
        "for i in range(5):\n",
        "    print(f\"Actual Class: {y_test[i]}, Predicted Class: {y_pred_classes[i]}, Probabilities: {y_pred_probabilities[i]}\")\n",
        "\n",
        "\n",
        "\n",
        "log_dir = \"logs/fit/\" + datetime.now().strftime(\"%Y%m%d-%H%M%S\")\n",
        "tensorboard_callback = tf.keras.callbacks.TensorBoard(log_dir=log_dir, histogram_freq=1)\n",
        "model.fit(X_train, y_train, epochs=60, batch_size=128, validation_split=0.2, callbacks=[tensorboard_callback])\n",
        "%load_ext tensorboard\n",
        "%tensorboard --logdir logs/fit\n",
        "\n",
        "\n",
        "\n"
      ],
      "metadata": {
        "id": "OO1DQMk81GEG"
      },
      "execution_count": null,
      "outputs": []
    },
    {
      "cell_type": "markdown",
      "source": [
        "# confusion matrix"
      ],
      "metadata": {
        "id": "W6CncJhvoWqr"
      }
    },
    {
      "cell_type": "code",
      "source": [
        "from sklearn.metrics import confusion_matrix, classification_report\n",
        "import seaborn as sns\n",
        "import matplotlib.pyplot as plt\n",
        "\n",
        "# Modelin tahminlerini alın\n",
        "y_pred = model.predict(X_test)\n",
        "y_pred_binary = (y_pred > 0.5).astype(int)\n",
        "\n",
        "# Confusion matrix hesaplayın\n",
        "cm = confusion_matrix(y_test, y_pred_binary)\n",
        "\n",
        "# Confusion matrix'i görselleştirme\n",
        "plt.figure(figsize=(8, 6))\n",
        "sns.heatmap(cm, annot=True, fmt='d', cmap='Blues', cbar=False,\n",
        "            xticklabels=['Normal', 'Arızalı'], yticklabels=['Normal', 'Arızalı'])\n",
        "plt.xlabel('Tahmin Edilen Etiket')\n",
        "plt.ylabel('Gerçek Etiket')\n",
        "plt.title('Confusion Matrix')\n",
        "plt.show()\n",
        "\n",
        "# Sınıflandırma raporu\n",
        "print(\"\\nSınıflandırma Raporu:\\n\", classification_report(y_test, y_pred_binary))\n"
      ],
      "metadata": {
        "id": "OMuf5McHomqi",
        "outputId": "e3ee5795-525b-4bc3-ab74-51bad0701883",
        "colab": {
          "base_uri": "https://localhost:8080/",
          "height": 772
        }
      },
      "execution_count": 13,
      "outputs": [
        {
          "output_type": "stream",
          "name": "stdout",
          "text": [
            "8/8 [==============================] - 0s 4ms/step\n"
          ]
        },
        {
          "output_type": "display_data",
          "data": {
            "text/plain": [
              "<Figure size 800x600 with 1 Axes>"
            ],
            "image/png": "[encoded data removed]"
          },
          "metadata": {}
        },
        {
          "output_type": "stream",
          "name": "stdout",
          "text": [
            "\n",
            "Sınıflandırma Raporu:\n",
            "               precision    recall  f1-score   support\n",
            "\n",
            "           0       1.00      0.87      0.93       139\n",
            "           1       0.87      1.00      0.93       117\n",
            "\n",
            "    accuracy                           0.93       256\n",
            "   macro avg       0.93      0.94      0.93       256\n",
            "weighted avg       0.94      0.93      0.93       256\n",
            "\n"
          ]
        }
      ]
    },
    {
      "cell_type": "code",
      "source": [
        "import seaborn as sns\n",
        "import matplotlib.pyplot as plt\n",
        "from sklearn.metrics import confusion_matrix\n",
        "\n",
        "# Modelin tahminlerini alın\n",
        "y_pred_proba = model.predict(X_test)\n",
        "y_pred = (y_pred_proba[:, 1] > 0.5).astype(int)  # Eşik değeri üzerinden sınıflara dönüştürme\n",
        "\n",
        "# Confusion matrix oluşturun\n",
        "conf_matrix = confusion_matrix(y_test, y_pred)\n",
        "\n",
        "# Confusion matrix'i seaborn ile görselleştirme\n",
        "plt.figure(figsize=(8, 6))\n",
        "sns.heatmap(conf_matrix, annot=True, fmt='d', cmap='Reds', xticklabels=['0', '1'], yticklabels=['0', '1'])\n",
        "plt.title('Confusion Matrix')\n",
        "plt.xlabel('Predicted')\n",
        "plt.ylabel('True')\n",
        "plt.show()\n",
        "\n",
        "\n",
        "\n"
      ],
      "metadata": {
        "id": "2uEyOBlz1GBY",
        "outputId": "0ab90321-d651-460d-b811-6b956f06858b",
        "colab": {
          "base_uri": "https://localhost:8080/",
          "height": 228
        }
      },
      "execution_count": 14,
      "outputs": [
        {
          "output_type": "stream",
          "name": "stdout",
          "text": [
            "8/8 [==============================] - 0s 2ms/step\n"
          ]
        },
        {
          "output_type": "error",
          "ename": "IndexError",
          "evalue": "index 1 is out of bounds for axis 1 with size 1",
          "traceback": [
            "\u001b[0;31m---------------------------------------------------------------------------\u001b[0m",
            "\u001b[0;31mIndexError\u001b[0m                                Traceback (most recent call last)",
            "\u001b[0;32m<ipython-input-14-9cd7af8b5094>\u001b[0m in \u001b[0;36m<cell line: 7>\u001b[0;34m()\u001b[0m\n\u001b[1;32m      5\u001b[0m \u001b[0;31m# Modelin tahminlerini alın\u001b[0m\u001b[0;34m\u001b[0m\u001b[0;34m\u001b[0m\u001b[0m\n\u001b[1;32m      6\u001b[0m \u001b[0my_pred_proba\u001b[0m \u001b[0;34m=\u001b[0m \u001b[0mmodel\u001b[0m\u001b[0;34m.\u001b[0m\u001b[0mpredict\u001b[0m\u001b[0;34m(\u001b[0m\u001b[0mX_test\u001b[0m\u001b[0;34m)\u001b[0m\u001b[0;34m\u001b[0m\u001b[0;34m\u001b[0m\u001b[0m\n\u001b[0;32m----> 7\u001b[0;31m \u001b[0my_pred\u001b[0m \u001b[0;34m=\u001b[0m \u001b[0;34m(\u001b[0m\u001b[0my_pred_proba\u001b[0m\u001b[0;34m[\u001b[0m\u001b[0;34m:\u001b[0m\u001b[0;34m,\u001b[0m \u001b[0;36m1\u001b[0m\u001b[0;34m]\u001b[0m \u001b[0;34m>\u001b[0m \u001b[0;36m0.5\u001b[0m\u001b[0;34m)\u001b[0m\u001b[0;34m.\u001b[0m\u001b[0mastype\u001b[0m\u001b[0;34m(\u001b[0m\u001b[0mint\u001b[0m\u001b[0;34m)\u001b[0m  \u001b[0;31m# Eşik değeri üzerinden sınıflara dönüştürme\u001b[0m\u001b[0;34m\u001b[0m\u001b[0;34m\u001b[0m\u001b[0m\n\u001b[0m\u001b[1;32m      8\u001b[0m \u001b[0;34m\u001b[0m\u001b[0m\n\u001b[1;32m      9\u001b[0m \u001b[0;31m# Confusion matrix oluşturun\u001b[0m\u001b[0;34m\u001b[0m\u001b[0;34m\u001b[0m\u001b[0m\n",
            "\u001b[0;31mIndexError\u001b[0m: index 1 is out of bounds for axis 1 with size 1"
          ]
        }
      ]
    },
    {
      "cell_type": "code",
      "source": [
        "import os\n",
        "import numpy as np\n",
        "from sklearn.model_selection import train_test_split\n",
        "from sklearn.preprocessing import MinMaxScaler\n",
        "from keras.models import Sequential\n",
        "from keras.layers import Dense, Dropout\n",
        "\n",
        "# !git clone https://github.com/hmyrcmn/KUL.git\n",
        "\n",
        "# Veri yükleme\n",
        "true_folder = '/content/KUL/BigData/TrueValues'\n",
        "X_data1 = []\n",
        "X_data2 = []\n",
        "\n",
        "Y_labels = []\n",
        "Y_labels2 = []\n",
        "\n",
        "\n",
        "for filename in os.listdir(true_folder):\n",
        "    data = np.genfromtxt(os.path.join(true_folder, filename), delimiter=',')\n",
        "    # X_data.append(data)\n",
        "    X_data1.append(data[:, 1:])  # Sadece virgül sonrasındaki değerleri ekledim\n",
        "\n",
        "    Y_labels.append(1)\n",
        "\n",
        "false_folder = '/content/KUL/BigData/FalseValues'\n",
        "for filename in os.listdir(false_folder):\n",
        "    data = np.genfromtxt(os.path.join(false_folder, filename), delimiter=',')\n",
        "    # X_data.append(data)\n",
        "    X_data2.append(data[:, 1:])  # Sadece virgül sonrasındaki değerleri ekledim\n",
        "\n",
        "    Y_labels2.append(0)\n",
        "\n",
        "X_data1 = np.array(X_data1)\n",
        "X_data2 = np.array(X_data2)\n",
        "\n",
        "Y_labels = np.array(Y_labels)\n",
        "Y_labels2 = np.array(Y_labels2)\n"
      ],
      "metadata": {
        "id": "efCTl3w91rjT"
      },
      "execution_count": 15,
      "outputs": []
    },
    {
      "cell_type": "code",
      "source": [],
      "metadata": {
        "id": "DOpkYHOV1reF"
      },
      "execution_count": null,
      "outputs": []
    },
    {
      "cell_type": "markdown",
      "source": [
        "# new\n"
      ],
      "metadata": {
        "id": "SmnSRXp4vsfv"
      }
    },
    {
      "cell_type": "code",
      "source": [
        "import numpy as np\n",
        "from sklearn.model_selection import train_test_split\n",
        "from tensorflow.keras.models import Sequential\n",
        "from tensorflow.keras.layers import Conv1D, MaxPooling1D, Flatten, Dense\n",
        "\n",
        "# Verileri uygun şekilde düzenleme ve ölçeklendirme\n",
        "X_train = np.expand_dims(X_train, axis=-1)\n",
        "y_train = np.array(y_train)\n",
        "\n",
        "# Veriyi eğitim ve test setlerine bölme\n",
        "X_train, X_test, y_train, y_test = train_test_split(X_train, y_train, test_size=0.2, random_state=42)\n",
        "model = Sequential()\n",
        "model.add(Conv1D(filters=32, kernel_size=3, activation='relu', input_shape=(1000, 1)))\n",
        "model.add(MaxPooling1D(pool_size=2))\n",
        "model.add(Flatten())\n",
        "model.add(Dense(1, activation='sigmoid'))\n",
        "\n",
        "model.compile(optimizer='adam', loss='binary_crossentropy', metrics=['accuracy'])\n",
        "\n",
        "model.fit(X_train, y_train, epochs=100, batch_size=32, validation_data=(X_test, y_test))\n"
      ],
      "metadata": {
        "id": "uuf14C06vxGK",
        "outputId": "7738d3d5-b343-47d1-f6c0-ff4bc91b8a69",
        "colab": {
          "base_uri": "https://localhost:8080/"
        }
      },
      "execution_count": null,
      "outputs": [
        {
          "output_type": "stream",
          "name": "stdout",
          "text": [
            "Epoch 1/100\n",
            "40/40 [==============================] - 2s 30ms/step - loss: 29.0441 - accuracy: 0.4977 - val_loss: 4.0627 - val_accuracy: 0.4500\n",
            "Epoch 2/100\n",
            "40/40 [==============================] - 1s 22ms/step - loss: 3.8064 - accuracy: 0.4789 - val_loss: 12.8297 - val_accuracy: 0.5500\n",
            "Epoch 3/100\n",
            "40/40 [==============================] - 1s 20ms/step - loss: 5.5996 - accuracy: 0.5008 - val_loss: 2.8576 - val_accuracy: 0.5500\n",
            "Epoch 4/100\n",
            "40/40 [==============================] - 1s 22ms/step - loss: 7.7351 - accuracy: 0.5133 - val_loss: 2.4355 - val_accuracy: 0.5500\n",
            "Epoch 5/100\n",
            "40/40 [==============================] - 1s 22ms/step - loss: 4.4902 - accuracy: 0.4898 - val_loss: 6.3633 - val_accuracy: 0.4500\n",
            "Epoch 6/100\n",
            "40/40 [==============================] - 1s 22ms/step - loss: 1.8877 - accuracy: 0.4742 - val_loss: 0.6788 - val_accuracy: 0.5813\n",
            "Epoch 7/100\n",
            "40/40 [==============================] - 1s 20ms/step - loss: 1.1812 - accuracy: 0.5141 - val_loss: 2.2257 - val_accuracy: 0.5500\n",
            "Epoch 8/100\n",
            "40/40 [==============================] - 1s 21ms/step - loss: 1.2342 - accuracy: 0.5203 - val_loss: 0.7465 - val_accuracy: 0.4500\n",
            "Epoch 9/100\n",
            "40/40 [==============================] - 1s 18ms/step - loss: 0.7391 - accuracy: 0.5742 - val_loss: 0.7607 - val_accuracy: 0.5500\n",
            "Epoch 10/100\n",
            "40/40 [==============================] - 1s 26ms/step - loss: 0.8836 - accuracy: 0.5266 - val_loss: 1.4253 - val_accuracy: 0.5500\n",
            "Epoch 11/100\n",
            "40/40 [==============================] - 1s 33ms/step - loss: 1.0168 - accuracy: 0.5445 - val_loss: 0.9103 - val_accuracy: 0.4500\n",
            "Epoch 12/100\n",
            "40/40 [==============================] - 1s 23ms/step - loss: 0.8734 - accuracy: 0.5531 - val_loss: 2.3319 - val_accuracy: 0.5500\n",
            "Epoch 13/100\n",
            "40/40 [==============================] - 1s 19ms/step - loss: 1.4672 - accuracy: 0.5164 - val_loss: 1.7789 - val_accuracy: 0.5500\n",
            "Epoch 14/100\n",
            "40/40 [==============================] - 1s 21ms/step - loss: 1.0604 - accuracy: 0.5531 - val_loss: 1.2920 - val_accuracy: 0.4500\n",
            "Epoch 15/100\n",
            "40/40 [==============================] - 1s 22ms/step - loss: 0.8011 - accuracy: 0.5258 - val_loss: 0.6538 - val_accuracy: 0.5750\n",
            "Epoch 16/100\n",
            "40/40 [==============================] - 1s 20ms/step - loss: 0.7244 - accuracy: 0.5570 - val_loss: 0.6269 - val_accuracy: 0.5969\n",
            "Epoch 17/100\n",
            "40/40 [==============================] - 1s 19ms/step - loss: 0.7865 - accuracy: 0.5266 - val_loss: 0.7958 - val_accuracy: 0.5500\n",
            "Epoch 18/100\n",
            "40/40 [==============================] - 1s 20ms/step - loss: 0.6167 - accuracy: 0.7047 - val_loss: 0.5771 - val_accuracy: 0.8750\n",
            "Epoch 19/100\n",
            "40/40 [==============================] - 1s 22ms/step - loss: 0.6471 - accuracy: 0.6273 - val_loss: 0.5583 - val_accuracy: 0.7531\n",
            "Epoch 20/100\n",
            "40/40 [==============================] - 1s 23ms/step - loss: 0.7239 - accuracy: 0.5891 - val_loss: 0.5846 - val_accuracy: 0.6781\n",
            "Epoch 21/100\n",
            "40/40 [==============================] - 1s 20ms/step - loss: 0.6880 - accuracy: 0.5992 - val_loss: 0.5529 - val_accuracy: 0.8062\n",
            "Epoch 22/100\n",
            "40/40 [==============================] - 1s 19ms/step - loss: 0.6151 - accuracy: 0.6609 - val_loss: 0.6575 - val_accuracy: 0.4500\n",
            "Epoch 23/100\n",
            "40/40 [==============================] - 1s 17ms/step - loss: 0.6074 - accuracy: 0.6180 - val_loss: 0.6409 - val_accuracy: 0.4500\n",
            "Epoch 24/100\n",
            "40/40 [==============================] - 1s 22ms/step - loss: 0.7644 - accuracy: 0.5406 - val_loss: 1.1048 - val_accuracy: 0.4500\n",
            "Epoch 25/100\n",
            "40/40 [==============================] - 1s 31ms/step - loss: 0.7260 - accuracy: 0.5609 - val_loss: 0.5482 - val_accuracy: 0.9625\n",
            "Epoch 26/100\n",
            "40/40 [==============================] - 1s 32ms/step - loss: 0.5919 - accuracy: 0.6672 - val_loss: 0.5993 - val_accuracy: 0.8156\n",
            "Epoch 27/100\n",
            "40/40 [==============================] - 1s 22ms/step - loss: 0.6430 - accuracy: 0.5875 - val_loss: 0.5649 - val_accuracy: 0.8094\n",
            "Epoch 28/100\n",
            "40/40 [==============================] - 1s 22ms/step - loss: 0.6028 - accuracy: 0.6727 - val_loss: 0.6781 - val_accuracy: 0.4500\n",
            "Epoch 29/100\n",
            "40/40 [==============================] - 1s 17ms/step - loss: 0.6028 - accuracy: 0.6773 - val_loss: 0.6332 - val_accuracy: 0.5781\n",
            "Epoch 30/100\n",
            "40/40 [==============================] - 1s 16ms/step - loss: 0.5869 - accuracy: 0.7531 - val_loss: 0.5509 - val_accuracy: 0.4500\n",
            "Epoch 31/100\n",
            "40/40 [==============================] - 1s 20ms/step - loss: 0.4995 - accuracy: 0.7703 - val_loss: 0.4801 - val_accuracy: 0.8875\n",
            "Epoch 32/100\n",
            "40/40 [==============================] - 1s 21ms/step - loss: 0.4774 - accuracy: 0.8594 - val_loss: 0.5153 - val_accuracy: 0.7281\n",
            "Epoch 33/100\n",
            "40/40 [==============================] - 1s 19ms/step - loss: 0.4625 - accuracy: 0.8383 - val_loss: 0.4431 - val_accuracy: 0.8813\n",
            "Epoch 34/100\n",
            "40/40 [==============================] - 1s 18ms/step - loss: 0.4729 - accuracy: 0.7930 - val_loss: 0.4859 - val_accuracy: 0.7875\n",
            "Epoch 35/100\n",
            "40/40 [==============================] - 1s 16ms/step - loss: 0.6268 - accuracy: 0.6258 - val_loss: 0.6328 - val_accuracy: 0.6375\n",
            "Epoch 36/100\n",
            "40/40 [==============================] - 1s 20ms/step - loss: 0.5184 - accuracy: 0.8391 - val_loss: 0.4527 - val_accuracy: 0.8594\n",
            "Epoch 37/100\n",
            "40/40 [==============================] - 1s 17ms/step - loss: 0.4204 - accuracy: 0.8844 - val_loss: 0.4376 - val_accuracy: 0.8750\n",
            "Epoch 38/100\n",
            "40/40 [==============================] - 1s 17ms/step - loss: 0.4542 - accuracy: 0.8539 - val_loss: 0.4242 - val_accuracy: 0.8625\n",
            "Epoch 39/100\n",
            "40/40 [==============================] - 1s 22ms/step - loss: 0.4669 - accuracy: 0.8445 - val_loss: 0.4346 - val_accuracy: 0.8031\n",
            "Epoch 40/100\n",
            "40/40 [==============================] - 1s 29ms/step - loss: 0.4778 - accuracy: 0.8133 - val_loss: 0.4448 - val_accuracy: 0.8875\n",
            "Epoch 41/100\n",
            "40/40 [==============================] - 1s 32ms/step - loss: 0.4229 - accuracy: 0.8703 - val_loss: 0.3983 - val_accuracy: 0.8344\n",
            "Epoch 42/100\n",
            "40/40 [==============================] - 1s 30ms/step - loss: 0.5321 - accuracy: 0.7852 - val_loss: 0.5170 - val_accuracy: 0.9656\n",
            "Epoch 43/100\n",
            "40/40 [==============================] - 1s 18ms/step - loss: 0.4049 - accuracy: 0.8891 - val_loss: 0.4273 - val_accuracy: 0.8094\n",
            "Epoch 44/100\n",
            "40/40 [==============================] - 1s 16ms/step - loss: 0.4031 - accuracy: 0.8641 - val_loss: 0.4297 - val_accuracy: 0.8938\n",
            "Epoch 45/100\n",
            "40/40 [==============================] - 1s 19ms/step - loss: 0.3846 - accuracy: 0.8938 - val_loss: 0.4141 - val_accuracy: 0.9594\n",
            "Epoch 46/100\n",
            "40/40 [==============================] - 1s 17ms/step - loss: 0.3681 - accuracy: 0.8914 - val_loss: 0.3798 - val_accuracy: 0.8719\n",
            "Epoch 47/100\n",
            "40/40 [==============================] - 1s 16ms/step - loss: 0.3927 - accuracy: 0.8594 - val_loss: 0.3944 - val_accuracy: 0.8781\n",
            "Epoch 48/100\n",
            "40/40 [==============================] - 1s 20ms/step - loss: 0.4118 - accuracy: 0.8828 - val_loss: 0.4027 - val_accuracy: 0.9250\n",
            "Epoch 49/100\n",
            "40/40 [==============================] - 1s 22ms/step - loss: 0.3760 - accuracy: 0.8852 - val_loss: 0.3790 - val_accuracy: 0.8687\n",
            "Epoch 50/100\n",
            "40/40 [==============================] - 1s 23ms/step - loss: 0.3792 - accuracy: 0.8852 - val_loss: 0.3906 - val_accuracy: 0.9500\n",
            "Epoch 51/100\n",
            "40/40 [==============================] - 1s 20ms/step - loss: 0.3267 - accuracy: 0.8961 - val_loss: 0.3393 - val_accuracy: 0.8781\n",
            "Epoch 52/100\n",
            "40/40 [==============================] - 1s 20ms/step - loss: 0.3514 - accuracy: 0.8875 - val_loss: 0.3933 - val_accuracy: 0.9563\n",
            "Epoch 53/100\n",
            "40/40 [==============================] - 1s 22ms/step - loss: 0.3467 - accuracy: 0.8945 - val_loss: 0.3388 - val_accuracy: 0.8875\n",
            "Epoch 54/100\n",
            "40/40 [==============================] - 1s 19ms/step - loss: 0.3310 - accuracy: 0.8992 - val_loss: 0.3523 - val_accuracy: 0.8938\n",
            "Epoch 55/100\n",
            "40/40 [==============================] - 1s 27ms/step - loss: 0.3261 - accuracy: 0.8906 - val_loss: 0.3387 - val_accuracy: 0.9312\n",
            "Epoch 56/100\n",
            "40/40 [==============================] - 1s 37ms/step - loss: 0.3291 - accuracy: 0.8984 - val_loss: 0.3349 - val_accuracy: 0.8813\n",
            "Epoch 57/100\n",
            "40/40 [==============================] - 2s 48ms/step - loss: 0.3746 - accuracy: 0.8727 - val_loss: 0.6498 - val_accuracy: 0.5875\n",
            "Epoch 58/100\n",
            "40/40 [==============================] - 1s 22ms/step - loss: 0.6330 - accuracy: 0.8547 - val_loss: 0.5620 - val_accuracy: 0.9656\n",
            "Epoch 59/100\n",
            "40/40 [==============================] - 1s 21ms/step - loss: 0.4353 - accuracy: 0.9148 - val_loss: 0.4518 - val_accuracy: 0.9750\n",
            "Epoch 60/100\n",
            "40/40 [==============================] - 1s 22ms/step - loss: 0.4014 - accuracy: 0.9828 - val_loss: 0.4364 - val_accuracy: 0.9719\n",
            "Epoch 61/100\n",
            "40/40 [==============================] - 1s 20ms/step - loss: 0.3916 - accuracy: 0.9875 - val_loss: 0.4273 - val_accuracy: 0.9688\n",
            "Epoch 62/100\n",
            "40/40 [==============================] - 1s 20ms/step - loss: 0.3846 - accuracy: 0.9844 - val_loss: 0.4189 - val_accuracy: 0.9688\n",
            "Epoch 63/100\n",
            "40/40 [==============================] - 1s 21ms/step - loss: 0.3774 - accuracy: 0.9789 - val_loss: 0.4111 - val_accuracy: 0.9688\n",
            "Epoch 64/100\n",
            "40/40 [==============================] - 1s 21ms/step - loss: 0.3706 - accuracy: 0.9703 - val_loss: 0.4040 - val_accuracy: 0.9688\n",
            "Epoch 65/100\n",
            "40/40 [==============================] - 1s 21ms/step - loss: 0.3642 - accuracy: 0.9680 - val_loss: 0.3965 - val_accuracy: 0.9656\n",
            "Epoch 66/100\n",
            "40/40 [==============================] - 1s 19ms/step - loss: 0.3591 - accuracy: 0.9648 - val_loss: 0.3907 - val_accuracy: 0.9656\n",
            "Epoch 67/100\n",
            "40/40 [==============================] - 1s 19ms/step - loss: 0.3531 - accuracy: 0.9617 - val_loss: 0.3835 - val_accuracy: 0.9656\n",
            "Epoch 68/100\n",
            "40/40 [==============================] - 1s 16ms/step - loss: 0.3471 - accuracy: 0.9594 - val_loss: 0.3777 - val_accuracy: 0.9656\n",
            "Epoch 69/100\n",
            "40/40 [==============================] - 1s 21ms/step - loss: 0.3425 - accuracy: 0.9578 - val_loss: 0.3715 - val_accuracy: 0.9625\n",
            "Epoch 70/100\n",
            "40/40 [==============================] - 1s 30ms/step - loss: 0.3373 - accuracy: 0.9578 - val_loss: 0.3669 - val_accuracy: 0.9625\n",
            "Epoch 71/100\n",
            "40/40 [==============================] - 1s 32ms/step - loss: 0.3326 - accuracy: 0.9578 - val_loss: 0.3613 - val_accuracy: 0.9625\n",
            "Epoch 72/100\n",
            "40/40 [==============================] - 1s 22ms/step - loss: 0.3279 - accuracy: 0.9563 - val_loss: 0.3569 - val_accuracy: 0.9625\n",
            "Epoch 73/100\n",
            "40/40 [==============================] - 1s 17ms/step - loss: 0.3233 - accuracy: 0.9555 - val_loss: 0.3511 - val_accuracy: 0.9594\n",
            "Epoch 74/100\n",
            "40/40 [==============================] - 1s 16ms/step - loss: 0.3190 - accuracy: 0.9547 - val_loss: 0.3465 - val_accuracy: 0.9594\n",
            "Epoch 75/100\n",
            "40/40 [==============================] - 1s 16ms/step - loss: 0.3161 - accuracy: 0.9539 - val_loss: 0.3429 - val_accuracy: 0.9594\n",
            "Epoch 76/100\n",
            "40/40 [==============================] - 1s 20ms/step - loss: 0.3116 - accuracy: 0.9523 - val_loss: 0.3419 - val_accuracy: 0.9531\n",
            "Epoch 77/100\n",
            "40/40 [==============================] - 1s 21ms/step - loss: 0.3081 - accuracy: 0.9500 - val_loss: 0.3330 - val_accuracy: 0.9563\n",
            "Epoch 78/100\n",
            "40/40 [==============================] - 1s 22ms/step - loss: 0.3038 - accuracy: 0.9500 - val_loss: 0.3296 - val_accuracy: 0.9594\n",
            "Epoch 79/100\n",
            "40/40 [==============================] - 1s 21ms/step - loss: 0.3004 - accuracy: 0.9500 - val_loss: 0.3251 - val_accuracy: 0.9563\n",
            "Epoch 80/100\n",
            "40/40 [==============================] - 1s 22ms/step - loss: 0.2971 - accuracy: 0.9484 - val_loss: 0.3218 - val_accuracy: 0.9563\n",
            "Epoch 81/100\n",
            "40/40 [==============================] - 1s 16ms/step - loss: 0.2942 - accuracy: 0.9484 - val_loss: 0.3192 - val_accuracy: 0.9563\n",
            "Epoch 82/100\n",
            "40/40 [==============================] - 1s 16ms/step - loss: 0.2905 - accuracy: 0.9477 - val_loss: 0.3147 - val_accuracy: 0.9563\n",
            "Epoch 83/100\n",
            "40/40 [==============================] - 1s 16ms/step - loss: 0.2870 - accuracy: 0.9461 - val_loss: 0.3105 - val_accuracy: 0.9563\n",
            "Epoch 84/100\n",
            "40/40 [==============================] - 1s 16ms/step - loss: 0.2837 - accuracy: 0.9469 - val_loss: 0.3073 - val_accuracy: 0.9531\n",
            "Epoch 85/100\n",
            "40/40 [==============================] - 1s 26ms/step - loss: 0.2817 - accuracy: 0.9469 - val_loss: 0.3037 - val_accuracy: 0.9500\n",
            "Epoch 86/100\n",
            "40/40 [==============================] - 1s 29ms/step - loss: 0.2784 - accuracy: 0.9453 - val_loss: 0.3007 - val_accuracy: 0.9500\n",
            "Epoch 87/100\n",
            "40/40 [==============================] - 1s 28ms/step - loss: 0.2770 - accuracy: 0.9430 - val_loss: 0.3025 - val_accuracy: 0.9563\n",
            "Epoch 88/100\n",
            "40/40 [==============================] - 1s 21ms/step - loss: 0.2733 - accuracy: 0.9453 - val_loss: 0.2970 - val_accuracy: 0.9531\n",
            "Epoch 89/100\n",
            "40/40 [==============================] - 1s 21ms/step - loss: 0.2716 - accuracy: 0.9453 - val_loss: 0.2941 - val_accuracy: 0.9531\n",
            "Epoch 90/100\n",
            "40/40 [==============================] - 1s 22ms/step - loss: 0.2694 - accuracy: 0.9422 - val_loss: 0.2889 - val_accuracy: 0.9500\n",
            "Epoch 91/100\n",
            "40/40 [==============================] - 1s 19ms/step - loss: 0.2652 - accuracy: 0.9445 - val_loss: 0.2875 - val_accuracy: 0.9500\n",
            "Epoch 92/100\n",
            "40/40 [==============================] - 1s 16ms/step - loss: 0.2625 - accuracy: 0.9438 - val_loss: 0.2924 - val_accuracy: 0.9563\n",
            "Epoch 93/100\n",
            "40/40 [==============================] - 1s 19ms/step - loss: 0.2608 - accuracy: 0.9461 - val_loss: 0.2817 - val_accuracy: 0.9500\n",
            "Epoch 94/100\n",
            "40/40 [==============================] - 1s 19ms/step - loss: 0.2583 - accuracy: 0.9414 - val_loss: 0.2809 - val_accuracy: 0.9531\n",
            "Epoch 95/100\n",
            "40/40 [==============================] - 2s 42ms/step - loss: 0.2564 - accuracy: 0.9414 - val_loss: 0.2799 - val_accuracy: 0.9406\n",
            "Epoch 96/100\n",
            "40/40 [==============================] - 2s 48ms/step - loss: 0.2538 - accuracy: 0.9391 - val_loss: 0.2738 - val_accuracy: 0.9500\n",
            "Epoch 97/100\n",
            "40/40 [==============================] - 2s 47ms/step - loss: 0.2508 - accuracy: 0.9430 - val_loss: 0.2725 - val_accuracy: 0.9438\n",
            "Epoch 98/100\n",
            "40/40 [==============================] - 2s 50ms/step - loss: 0.2491 - accuracy: 0.9422 - val_loss: 0.2695 - val_accuracy: 0.9500\n",
            "Epoch 99/100\n",
            "40/40 [==============================] - 2s 42ms/step - loss: 0.2458 - accuracy: 0.9445 - val_loss: 0.2658 - val_accuracy: 0.9500\n",
            "Epoch 100/100\n",
            "40/40 [==============================] - 2s 43ms/step - loss: 0.2445 - accuracy: 0.9422 - val_loss: 0.2644 - val_accuracy: 0.9438\n"
          ]
        },
        {
          "output_type": "execute_result",
          "data": {
            "text/plain": [
              "<keras.src.callbacks.History at 0x7a2292695e40>"
            ]
          },
          "metadata": {},
          "execution_count": 22
        }
      ]
    },
    {
      "cell_type": "markdown",
      "source": [
        "# confusion matrix"
      ],
      "metadata": {
        "id": "SBmuUdoBv1OH"
      }
    },
    {
      "cell_type": "code",
      "source": [
        "from sklearn.metrics import confusion_matrix, classification_report\n",
        "import seaborn as sns\n",
        "import matplotlib.pyplot as plt\n",
        "\n",
        "# Modelin tahminlerini alın\n",
        "y_pred = model.predict(X_test)\n",
        "y_pred_binary = (y_pred > 0.5).astype(int)\n",
        "\n",
        "# Confusion matrix hesaplayın\n",
        "cm = confusion_matrix(y_test, y_pred_binary)\n",
        "\n",
        "# Confusion matrix'i görselleştirme\n",
        "plt.figure(figsize=(8, 6))\n",
        "sns.heatmap(cm, annot=True, fmt='d', cmap='Blues', cbar=False,\n",
        "            xticklabels=['Normal', 'Arızalı'], yticklabels=['Normal', 'Arızalı'])\n",
        "plt.xlabel('Tahmin Edilen Etiket')\n",
        "plt.ylabel('Gerçek Etiket')\n",
        "plt.title('Confusion Matrix')\n",
        "plt.show()\n",
        "\n",
        "# Sınıflandırma raporu\n",
        "print(\"\\nSınıflandırma Raporu:\\n\", classification_report(y_test, y_pred_binary))\n"
      ],
      "metadata": {
        "id": "Y-0JzcuAv4be",
        "outputId": "4e669fd7-4e10-417a-981d-abfdefe4464c",
        "colab": {
          "base_uri": "https://localhost:8080/",
          "height": 772
        }
      },
      "execution_count": null,
      "outputs": [
        {
          "output_type": "stream",
          "name": "stdout",
          "text": [
            "10/10 [==============================] - 1s 23ms/step\n"
          ]
        },
        {
          "output_type": "display_data",
          "data": {
            "text/plain": [
              "<Figure size 800x600 with 1 Axes>"
            ],
            "image/png": "[encoded data removed]"
          },
          "metadata": {}
        },
        {
          "output_type": "stream",
          "name": "stdout",
          "text": [
            "\n",
            "Sınıflandırma Raporu:\n",
            "               precision    recall  f1-score   support\n",
            "\n",
            "           0       1.00      0.88      0.93       144\n",
            "           1       0.91      1.00      0.95       176\n",
            "\n",
            "    accuracy                           0.94       320\n",
            "   macro avg       0.95      0.94      0.94       320\n",
            "weighted avg       0.95      0.94      0.94       320\n",
            "\n"
          ]
        }
      ]
    }
  ]
}