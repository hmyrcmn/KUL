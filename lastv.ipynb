{
  "nbformat": 4,
  "nbformat_minor": 0,
  "metadata": {
    "colab": {
      "provenance": [],
      "authorship_tag": "ABX9TyMm1URSt13e1vffOKbsFBD7",
      "include_colab_link": true
    },
    "kernelspec": {
      "name": "python3",
      "display_name": "Python 3"
    },
    "language_info": {
      "name": "python"
    }
  },
  "cells": [
    {
      "cell_type": "markdown",
      "metadata": {
        "id": "view-in-github",
        "colab_type": "text"
      },
      "source": [
        "<a href=\"https://colab.research.google.com/github/hmyrcmn/KUL/blob/main/lastv.ipynb\" target=\"_parent\"><img src=\"https://colab.research.google.com/assets/colab-badge.svg\" alt=\"Open In Colab\"/></a>"
      ]
    },
    {
      "cell_type": "code",
      "source": [
        "import os\n",
        "import numpy as np\n",
        "from sklearn.model_selection import train_test_split\n",
        "from sklearn.preprocessing import MinMaxScaler\n",
        "from keras.models import Sequential\n",
        "from keras.layers import Flatten, Dense\n",
        "\n",
        "# Veri yükleme\n",
        "true_folder = '/content/trueValues3'\n",
        "X_data = []\n",
        "Y_labels = []\n",
        "\n",
        "for filename in os.listdir(true_folder):\n",
        "    data = np.genfromtxt(os.path.join(true_folder, filename), delimiter=',')\n",
        "    X_data.append(data)\n",
        "    Y_labels.append(1)\n",
        "\n",
        "false_folder = '/content/falseValues3'\n",
        "for filename in os.listdir(false_folder):\n",
        "    data = np.genfromtxt(os.path.join(false_folder, filename), delimiter=',')\n",
        "    X_data.append(data)\n",
        "    Y_labels.append(0)\n",
        "X_data"
      ],
      "metadata": {
        "id": "QTu2G_1VRQgl"
      },
      "execution_count": null,
      "outputs": []
    },
    {
      "cell_type": "code",
      "source": [
        "\n",
        "X_data = np.array(X_data)\n",
        "Y_labels = np.array(Y_labels)\n",
        "\n",
        "# Verileri düzenleme ve normalleştirme\n",
        "num_samples = len(X_data)\n",
        "sequence_length = X_data.shape[1]\n",
        "num_features = X_data.shape[2]"
      ],
      "metadata": {
        "id": "WYoGct69X-cG"
      },
      "execution_count": 67,
      "outputs": []
    },
    {
      "cell_type": "code",
      "source": [
        "X_data.shape"
      ],
      "metadata": {
        "colab": {
          "base_uri": "https://localhost:8080/"
        },
        "id": "TVuF-faCX-aq",
        "outputId": "76562c4a-06ae-43e3-e287-997b8f5bb5d0"
      },
      "execution_count": 71,
      "outputs": [
        {
          "output_type": "execute_result",
          "data": {
            "text/plain": [
              "(2000, 100, 2)"
            ]
          },
          "metadata": {},
          "execution_count": 71
        }
      ]
    },
    {
      "cell_type": "code",
      "source": [
        "X_data_normalized = X_data.reshape(num_samples, sequence_length * num_features)\n",
        "X_data_normalized.shape"
      ],
      "metadata": {
        "colab": {
          "base_uri": "https://localhost:8080/"
        },
        "id": "-Cscc6QtX-ZH",
        "outputId": "9d8758c5-a7c1-4bb0-d08a-1e1c740046f8"
      },
      "execution_count": 70,
      "outputs": [
        {
          "output_type": "execute_result",
          "data": {
            "text/plain": [
              "(2000, 200)"
            ]
          },
          "metadata": {},
          "execution_count": 70
        }
      ]
    },
    {
      "cell_type": "code",
      "source": [],
      "metadata": {
        "id": "JSW-JrlJX-W6"
      },
      "execution_count": null,
      "outputs": []
    },
    {
      "cell_type": "code",
      "source": [
        "\n",
        "# Eğitim ve test setlerine bölme\n",
        "X_train, X_test, y_train, y_test = train_test_split(X_data_normalized, Y_labels, test_size=0.2, random_state=42)\n",
        "\n",
        "# Sinir ağı modelini oluşturma\n",
        "model = Sequential()\n",
        "model.add(Dense(128, activation='relu', input_shape=(sequence_length * num_features,)))\n",
        "model.add(Dense(64, activation='relu'))\n",
        "model.add(Dense(1, activation='sigmoid'))\n",
        "\n",
        "# Modeli derleme\n",
        "model.compile(optimizer='adam', loss='binary_crossentropy', metrics=['accuracy'])\n",
        "\n",
        "# Modeli eğitme\n",
        "model.fit(X_train, y_train, epochs=50, batch_size=32, validation_split=0.2)\n",
        "\n",
        "# Modelin performansını değerlendirme\n",
        "test_loss, test_acc = model.evaluate(X_test, y_test)\n",
        "print(f'Test accuracy: {test_acc}')\n"
      ],
      "metadata": {
        "colab": {
          "base_uri": "https://localhost:8080/"
        },
        "id": "bn_zYp4vX-Uh",
        "outputId": "d32413b9-8918-4aee-c255-fc0c6f0a624a"
      },
      "execution_count": 75,
      "outputs": [
        {
          "output_type": "stream",
          "name": "stdout",
          "text": [
            "Epoch 1/50\n",
            "40/40 [==============================] - 1s 9ms/step - loss: 17.4620 - accuracy: 0.5000 - val_loss: 16.4569 - val_accuracy: 0.5437\n",
            "Epoch 2/50\n",
            "40/40 [==============================] - 0s 4ms/step - loss: 7.4710 - accuracy: 0.5047 - val_loss: 6.9297 - val_accuracy: 0.5437\n",
            "Epoch 3/50\n",
            "40/40 [==============================] - 0s 3ms/step - loss: 7.6110 - accuracy: 0.4961 - val_loss: 0.9278 - val_accuracy: 0.5312\n",
            "Epoch 4/50\n",
            "40/40 [==============================] - 0s 4ms/step - loss: 6.5485 - accuracy: 0.5203 - val_loss: 1.6843 - val_accuracy: 0.4563\n",
            "Epoch 5/50\n",
            "40/40 [==============================] - 0s 5ms/step - loss: 4.7042 - accuracy: 0.5047 - val_loss: 19.4222 - val_accuracy: 0.4563\n",
            "Epoch 6/50\n",
            "40/40 [==============================] - 0s 2ms/step - loss: 8.2753 - accuracy: 0.4938 - val_loss: 15.8135 - val_accuracy: 0.4563\n",
            "Epoch 7/50\n",
            "40/40 [==============================] - 0s 2ms/step - loss: 4.6951 - accuracy: 0.5016 - val_loss: 0.8881 - val_accuracy: 0.4906\n",
            "Epoch 8/50\n",
            "40/40 [==============================] - 0s 2ms/step - loss: 2.9568 - accuracy: 0.4719 - val_loss: 12.1484 - val_accuracy: 0.4563\n",
            "Epoch 9/50\n",
            "40/40 [==============================] - 0s 2ms/step - loss: 6.7187 - accuracy: 0.4898 - val_loss: 6.8803 - val_accuracy: 0.4563\n",
            "Epoch 10/50\n",
            "40/40 [==============================] - 0s 2ms/step - loss: 5.4653 - accuracy: 0.5070 - val_loss: 0.7596 - val_accuracy: 0.5469\n",
            "Epoch 11/50\n",
            "40/40 [==============================] - 0s 3ms/step - loss: 5.1652 - accuracy: 0.5102 - val_loss: 0.9427 - val_accuracy: 0.4750\n",
            "Epoch 12/50\n",
            "40/40 [==============================] - 0s 4ms/step - loss: 5.6804 - accuracy: 0.5016 - val_loss: 3.3312 - val_accuracy: 0.5437\n",
            "Epoch 13/50\n",
            "40/40 [==============================] - 0s 3ms/step - loss: 3.0203 - accuracy: 0.4789 - val_loss: 0.7028 - val_accuracy: 0.6281\n",
            "Epoch 14/50\n",
            "40/40 [==============================] - 0s 3ms/step - loss: 1.8829 - accuracy: 0.5000 - val_loss: 1.5617 - val_accuracy: 0.4563\n",
            "Epoch 15/50\n",
            "40/40 [==============================] - 0s 3ms/step - loss: 1.7579 - accuracy: 0.5141 - val_loss: 1.4763 - val_accuracy: 0.5437\n",
            "Epoch 16/50\n",
            "40/40 [==============================] - 0s 3ms/step - loss: 4.0765 - accuracy: 0.4922 - val_loss: 11.7664 - val_accuracy: 0.4563\n",
            "Epoch 17/50\n",
            "40/40 [==============================] - 0s 3ms/step - loss: 7.3964 - accuracy: 0.4992 - val_loss: 16.2997 - val_accuracy: 0.4563\n",
            "Epoch 18/50\n",
            "40/40 [==============================] - 0s 4ms/step - loss: 4.7911 - accuracy: 0.4758 - val_loss: 5.3256 - val_accuracy: 0.5437\n",
            "Epoch 19/50\n",
            "40/40 [==============================] - 0s 3ms/step - loss: 2.0241 - accuracy: 0.5188 - val_loss: 0.8299 - val_accuracy: 0.5312\n",
            "Epoch 20/50\n",
            "40/40 [==============================] - 0s 3ms/step - loss: 1.1716 - accuracy: 0.5102 - val_loss: 1.2166 - val_accuracy: 0.4563\n",
            "Epoch 21/50\n",
            "40/40 [==============================] - 0s 3ms/step - loss: 1.7201 - accuracy: 0.4984 - val_loss: 0.8557 - val_accuracy: 0.4844\n",
            "Epoch 22/50\n",
            "40/40 [==============================] - 0s 3ms/step - loss: 1.7730 - accuracy: 0.5039 - val_loss: 1.0013 - val_accuracy: 0.5437\n",
            "Epoch 23/50\n",
            "40/40 [==============================] - 0s 2ms/step - loss: 1.5809 - accuracy: 0.4695 - val_loss: 0.7077 - val_accuracy: 0.4781\n",
            "Epoch 24/50\n",
            "40/40 [==============================] - 0s 2ms/step - loss: 1.4096 - accuracy: 0.5016 - val_loss: 0.9967 - val_accuracy: 0.5437\n",
            "Epoch 25/50\n",
            "40/40 [==============================] - 0s 2ms/step - loss: 1.3897 - accuracy: 0.4984 - val_loss: 0.9520 - val_accuracy: 0.4594\n",
            "Epoch 26/50\n",
            "40/40 [==============================] - 0s 2ms/step - loss: 1.3992 - accuracy: 0.5023 - val_loss: 1.8919 - val_accuracy: 0.4563\n",
            "Epoch 27/50\n",
            "40/40 [==============================] - 0s 2ms/step - loss: 1.0803 - accuracy: 0.5047 - val_loss: 0.7376 - val_accuracy: 0.5344\n",
            "Epoch 28/50\n",
            "40/40 [==============================] - 0s 2ms/step - loss: 0.9922 - accuracy: 0.4977 - val_loss: 0.7445 - val_accuracy: 0.5156\n",
            "Epoch 29/50\n",
            "40/40 [==============================] - 0s 2ms/step - loss: 0.9933 - accuracy: 0.5195 - val_loss: 1.8579 - val_accuracy: 0.5437\n",
            "Epoch 30/50\n",
            "40/40 [==============================] - 0s 2ms/step - loss: 1.3385 - accuracy: 0.4961 - val_loss: 0.7029 - val_accuracy: 0.4344\n",
            "Epoch 31/50\n",
            "40/40 [==============================] - 0s 2ms/step - loss: 1.5836 - accuracy: 0.4891 - val_loss: 0.6997 - val_accuracy: 0.4062\n",
            "Epoch 32/50\n",
            "40/40 [==============================] - 0s 3ms/step - loss: 0.8332 - accuracy: 0.5016 - val_loss: 0.7555 - val_accuracy: 0.5031\n",
            "Epoch 33/50\n",
            "40/40 [==============================] - 0s 2ms/step - loss: 0.7665 - accuracy: 0.5078 - val_loss: 0.7397 - val_accuracy: 0.5188\n",
            "Epoch 34/50\n",
            "40/40 [==============================] - 0s 3ms/step - loss: 0.9296 - accuracy: 0.4922 - val_loss: 1.0441 - val_accuracy: 0.5437\n",
            "Epoch 35/50\n",
            "40/40 [==============================] - 0s 2ms/step - loss: 1.3487 - accuracy: 0.4914 - val_loss: 2.0373 - val_accuracy: 0.5437\n",
            "Epoch 36/50\n",
            "40/40 [==============================] - 0s 2ms/step - loss: 1.3251 - accuracy: 0.5102 - val_loss: 1.1336 - val_accuracy: 0.4563\n",
            "Epoch 37/50\n",
            "40/40 [==============================] - 0s 2ms/step - loss: 0.8407 - accuracy: 0.5172 - val_loss: 0.7699 - val_accuracy: 0.5437\n",
            "Epoch 38/50\n",
            "40/40 [==============================] - 0s 2ms/step - loss: 0.9067 - accuracy: 0.5000 - val_loss: 0.9289 - val_accuracy: 0.4563\n",
            "Epoch 39/50\n",
            "40/40 [==============================] - 0s 2ms/step - loss: 0.7888 - accuracy: 0.4805 - val_loss: 0.9738 - val_accuracy: 0.5437\n",
            "Epoch 40/50\n",
            "40/40 [==============================] - 0s 2ms/step - loss: 0.7709 - accuracy: 0.5203 - val_loss: 0.7863 - val_accuracy: 0.5437\n",
            "Epoch 41/50\n",
            "40/40 [==============================] - 0s 3ms/step - loss: 0.9305 - accuracy: 0.4688 - val_loss: 0.7359 - val_accuracy: 0.4969\n",
            "Epoch 42/50\n",
            "40/40 [==============================] - 0s 2ms/step - loss: 0.7981 - accuracy: 0.4875 - val_loss: 1.0095 - val_accuracy: 0.5437\n",
            "Epoch 43/50\n",
            "40/40 [==============================] - 0s 2ms/step - loss: 0.7870 - accuracy: 0.5281 - val_loss: 0.9704 - val_accuracy: 0.4563\n",
            "Epoch 44/50\n",
            "40/40 [==============================] - 0s 2ms/step - loss: 0.8323 - accuracy: 0.4992 - val_loss: 0.8814 - val_accuracy: 0.4563\n",
            "Epoch 45/50\n",
            "40/40 [==============================] - 0s 2ms/step - loss: 1.0033 - accuracy: 0.4914 - val_loss: 0.8377 - val_accuracy: 0.4563\n",
            "Epoch 46/50\n",
            "40/40 [==============================] - 0s 2ms/step - loss: 0.7353 - accuracy: 0.4914 - val_loss: 0.6946 - val_accuracy: 0.4062\n",
            "Epoch 47/50\n",
            "40/40 [==============================] - 0s 2ms/step - loss: 0.7999 - accuracy: 0.5023 - val_loss: 0.7024 - val_accuracy: 0.6187\n",
            "Epoch 48/50\n",
            "40/40 [==============================] - 0s 2ms/step - loss: 0.7362 - accuracy: 0.4859 - val_loss: 0.8088 - val_accuracy: 0.4563\n",
            "Epoch 49/50\n",
            "40/40 [==============================] - 0s 2ms/step - loss: 0.7826 - accuracy: 0.5055 - val_loss: 0.7000 - val_accuracy: 0.5938\n",
            "Epoch 50/50\n",
            "40/40 [==============================] - 0s 3ms/step - loss: 0.7589 - accuracy: 0.5102 - val_loss: 1.0095 - val_accuracy: 0.4563\n",
            "13/13 [==============================] - 0s 2ms/step - loss: 0.9372 - accuracy: 0.4975\n",
            "Test accuracy: 0.4975000023841858\n"
          ]
        }
      ]
    },
    {
      "cell_type": "code",
      "source": [],
      "metadata": {
        "id": "J9fMoT-iRQY3"
      },
      "execution_count": null,
      "outputs": []
    },
    {
      "cell_type": "code",
      "source": [
        "import os\n",
        "import numpy as np\n",
        "from sklearn.model_selection import train_test_split\n",
        "from sklearn.preprocessing import MinMaxScaler\n",
        "from keras.models import Sequential\n",
        "from keras.layers import Flatten, Dense\n",
        "\n",
        "# truevalues klasöründeki txt dosyalarını yükleme\n",
        "true_folder = '/content/trueValues3'\n",
        "X_data = []\n",
        "Y_labels = []\n",
        "say=0\n",
        "for filename in os.listdir(true_folder):\n",
        "    data = np.genfromtxt(os.path.join(true_folder, filename), delimiter=',')\n",
        "    X_data.append(data)  # X verilerini ekleme\n",
        "    say+=1\n",
        "    Y_labels.append(1)  # truevalues için etiket ekleme\n",
        "\n",
        "# falsevalues klasöründeki txt dosyalarını yükleme\n",
        "false_folder = '/content/falseValues3'\n",
        "for filename in os.listdir(false_folder):\n",
        "    data = np.genfromtxt(os.path.join(false_folder, filename), delimiter=',')\n",
        "    X_data.append(data)  # X verilerini ekleme\n",
        "    say+=1\n",
        "    Y_labels.append(0)  # falsevalues için etiket ekleme\n",
        "\n",
        "X_data = np.array(X_data)  # X verilerini bir numpy dizisine dönüştürme\n",
        "Y_labels = np.array(Y_labels)  # Etiketleri bir numpy dizisine dönüştürme\n",
        "\n",
        "# Verileri yeniden şekillendirme\n",
        "num_samples = len(X_data)\n",
        "sequence_length = X_data.shape[1]\n",
        "num_features = X_data.shape[2]\n",
        "\n",
        "X_data_normalized = X_data.reshape(num_samples, sequence_length, num_features)\n",
        "\n",
        "# Eğitim ve test setlerine bölme\n",
        "X_train, X_test, y_train, y_test = train_test_split(X_data, Y_labels, test_size=0.2, random_state=42)\n",
        "\n",
        "print(\"X_data.shape:\",X_data.shape)\n",
        "print(\"y_labels.shape:\",Y_labels.shape)\n",
        "print(\"say: \",say)\n",
        "print(\"X_data_normalized:\",X_data.shape)\n",
        "print(\"X_train: \",X_train.shape)\n",
        "print(\"y_train:\",y_train.shape)\n"
      ],
      "metadata": {
        "colab": {
          "base_uri": "https://localhost:8080/"
        },
        "id": "bP0BORnyJYum",
        "outputId": "36086496-55c2-463b-978e-3f3213a5dc36"
      },
      "execution_count": 40,
      "outputs": [
        {
          "output_type": "stream",
          "name": "stdout",
          "text": [
            "X_data.shape: (2000, 100, 2)\n",
            "y_labels.shape: (2000,)\n",
            "say:  2000\n",
            "X_data_normalized: (2000, 100, 2)\n",
            "X_train:  (1600, 100, 2)\n",
            "y_train: (1600,)\n"
          ]
        }
      ]
    },
    {
      "cell_type": "code",
      "source": [
        "from keras.models import Sequential\n",
        "from keras.layers import Flatten, Dense\n",
        "from sklearn.metrics import accuracy_score\n",
        "\n",
        "# Sinir Ağı modelini oluşturma\n",
        "model = Sequential()\n",
        "\n",
        "# Flatten katmanı: 3D veriyi düzleştirme\n",
        "model.add(Flatten(input_shape=(sequence_length, num_features))) #100 e 2\n",
        "print(\"input_shape=(sequence_length, num_features):\",(sequence_length, num_features))\n",
        "# Tam Bağlantılı (Dense) katmanlar\n",
        "model.add(Dense(128, activation='relu'))\n",
        "model.add(Dense(64, activation='relu'))\n",
        "model.add(Dense(1, activation='sigmoid'))  # Binary classification için sigmoid aktivasyonu\n",
        "\n",
        "# Modeli derleme\n",
        "model.compile(optimizer='adam', loss='binary_crossentropy', metrics=['accuracy'])\n",
        "\n",
        "# Modeli eğitme\n",
        "model.fit(X_train, y_train, epochs=100, batch_size=32, validation_split=0.2)\n",
        "\n",
        "# Modelin test seti üzerinde performansını değerlendirme\n",
        "y_pred = (model.predict(X_test) > 0.5).astype(\"int32\")\n",
        "test_accuracy = accuracy_score(y_test, y_pred)\n",
        "print(f'Test accuracy: {test_accuracy}')\n"
      ],
      "metadata": {
        "colab": {
          "base_uri": "https://localhost:8080/"
        },
        "id": "kVACAZ6RN_Bb",
        "outputId": "d4eb9ca0-877f-4b0a-8795-5525d540d77d"
      },
      "execution_count": 45,
      "outputs": [
        {
          "output_type": "stream",
          "name": "stdout",
          "text": [
            "input_shape=(sequence_length, num_features): (100, 2)\n",
            "Epoch 1/100\n",
            "40/40 [==============================] - 1s 7ms/step - loss: 33.9329 - accuracy: 0.5109 - val_loss: 5.4695 - val_accuracy: 0.5437\n",
            "Epoch 2/100\n",
            "40/40 [==============================] - 0s 2ms/step - loss: 17.1951 - accuracy: 0.5164 - val_loss: 8.0566 - val_accuracy: 0.5437\n",
            "Epoch 3/100\n",
            "40/40 [==============================] - 0s 2ms/step - loss: 15.1695 - accuracy: 0.4922 - val_loss: 22.0430 - val_accuracy: 0.5437\n",
            "Epoch 4/100\n",
            "40/40 [==============================] - 0s 2ms/step - loss: 15.8139 - accuracy: 0.5102 - val_loss: 2.6913 - val_accuracy: 0.5437\n",
            "Epoch 5/100\n",
            "40/40 [==============================] - 0s 2ms/step - loss: 4.7996 - accuracy: 0.5312 - val_loss: 6.6807 - val_accuracy: 0.5437\n",
            "Epoch 6/100\n",
            "40/40 [==============================] - 0s 2ms/step - loss: 10.1079 - accuracy: 0.5055 - val_loss: 9.8474 - val_accuracy: 0.5437\n",
            "Epoch 7/100\n",
            "40/40 [==============================] - 0s 2ms/step - loss: 4.5611 - accuracy: 0.5055 - val_loss: 3.9675 - val_accuracy: 0.5437\n",
            "Epoch 8/100\n",
            "40/40 [==============================] - 0s 2ms/step - loss: 3.4769 - accuracy: 0.4984 - val_loss: 1.9271 - val_accuracy: 0.4563\n",
            "Epoch 9/100\n",
            "40/40 [==============================] - 0s 2ms/step - loss: 4.2933 - accuracy: 0.5344 - val_loss: 6.5504 - val_accuracy: 0.5437\n",
            "Epoch 10/100\n",
            "40/40 [==============================] - 0s 2ms/step - loss: 3.7973 - accuracy: 0.5109 - val_loss: 5.0452 - val_accuracy: 0.4563\n",
            "Epoch 11/100\n",
            "40/40 [==============================] - 0s 2ms/step - loss: 4.4004 - accuracy: 0.5148 - val_loss: 16.1016 - val_accuracy: 0.5437\n",
            "Epoch 12/100\n",
            "40/40 [==============================] - 0s 2ms/step - loss: 5.6505 - accuracy: 0.4836 - val_loss: 2.3153 - val_accuracy: 0.4563\n",
            "Epoch 13/100\n",
            "40/40 [==============================] - 0s 2ms/step - loss: 3.7443 - accuracy: 0.4945 - val_loss: 0.8004 - val_accuracy: 0.5031\n",
            "Epoch 14/100\n",
            "40/40 [==============================] - 0s 2ms/step - loss: 2.0591 - accuracy: 0.5023 - val_loss: 0.9082 - val_accuracy: 0.4781\n",
            "Epoch 15/100\n",
            "40/40 [==============================] - 0s 3ms/step - loss: 7.3094 - accuracy: 0.5273 - val_loss: 12.2034 - val_accuracy: 0.4563\n",
            "Epoch 16/100\n",
            "40/40 [==============================] - 0s 3ms/step - loss: 8.2521 - accuracy: 0.4836 - val_loss: 0.9430 - val_accuracy: 0.5406\n",
            "Epoch 17/100\n",
            "40/40 [==============================] - 0s 3ms/step - loss: 4.5884 - accuracy: 0.4977 - val_loss: 0.7457 - val_accuracy: 0.4875\n",
            "Epoch 18/100\n",
            "40/40 [==============================] - 0s 2ms/step - loss: 2.1436 - accuracy: 0.4938 - val_loss: 1.2355 - val_accuracy: 0.5437\n",
            "Epoch 19/100\n",
            "40/40 [==============================] - 0s 2ms/step - loss: 3.9496 - accuracy: 0.4906 - val_loss: 6.5073 - val_accuracy: 0.4563\n",
            "Epoch 20/100\n",
            "40/40 [==============================] - 0s 3ms/step - loss: 2.7689 - accuracy: 0.5188 - val_loss: 8.9250 - val_accuracy: 0.4563\n",
            "Epoch 21/100\n",
            "40/40 [==============================] - 0s 2ms/step - loss: 4.9086 - accuracy: 0.5156 - val_loss: 1.7054 - val_accuracy: 0.5437\n",
            "Epoch 22/100\n",
            "40/40 [==============================] - 0s 2ms/step - loss: 8.5550 - accuracy: 0.5055 - val_loss: 5.8835 - val_accuracy: 0.5437\n",
            "Epoch 23/100\n",
            "40/40 [==============================] - 0s 3ms/step - loss: 7.3658 - accuracy: 0.5047 - val_loss: 3.0035 - val_accuracy: 0.5437\n",
            "Epoch 24/100\n",
            "40/40 [==============================] - 0s 2ms/step - loss: 2.0319 - accuracy: 0.5172 - val_loss: 5.0139 - val_accuracy: 0.5437\n",
            "Epoch 25/100\n",
            "40/40 [==============================] - 0s 3ms/step - loss: 2.8481 - accuracy: 0.5031 - val_loss: 1.2390 - val_accuracy: 0.4563\n",
            "Epoch 26/100\n",
            "40/40 [==============================] - 0s 2ms/step - loss: 2.2837 - accuracy: 0.4836 - val_loss: 3.9081 - val_accuracy: 0.4563\n",
            "Epoch 27/100\n",
            "40/40 [==============================] - 0s 2ms/step - loss: 6.2002 - accuracy: 0.5023 - val_loss: 6.2093 - val_accuracy: 0.5437\n",
            "Epoch 28/100\n",
            "40/40 [==============================] - 0s 2ms/step - loss: 3.1369 - accuracy: 0.5063 - val_loss: 0.8999 - val_accuracy: 0.4563\n",
            "Epoch 29/100\n",
            "40/40 [==============================] - 0s 3ms/step - loss: 0.9077 - accuracy: 0.5297 - val_loss: 0.7130 - val_accuracy: 0.4000\n",
            "Epoch 30/100\n",
            "40/40 [==============================] - 0s 2ms/step - loss: 2.3810 - accuracy: 0.5070 - val_loss: 2.8079 - val_accuracy: 0.4563\n",
            "Epoch 31/100\n",
            "40/40 [==============================] - 0s 2ms/step - loss: 1.3964 - accuracy: 0.5203 - val_loss: 0.7013 - val_accuracy: 0.3938\n",
            "Epoch 32/100\n",
            "40/40 [==============================] - 0s 2ms/step - loss: 0.9456 - accuracy: 0.5031 - val_loss: 1.0951 - val_accuracy: 0.5437\n",
            "Epoch 33/100\n",
            "40/40 [==============================] - 0s 2ms/step - loss: 1.1503 - accuracy: 0.4859 - val_loss: 1.6583 - val_accuracy: 0.4563\n",
            "Epoch 34/100\n",
            "40/40 [==============================] - 0s 2ms/step - loss: 2.0220 - accuracy: 0.5133 - val_loss: 4.6692 - val_accuracy: 0.5437\n",
            "Epoch 35/100\n",
            "40/40 [==============================] - 0s 2ms/step - loss: 2.8191 - accuracy: 0.4766 - val_loss: 2.6751 - val_accuracy: 0.4563\n",
            "Epoch 36/100\n",
            "40/40 [==============================] - 0s 2ms/step - loss: 1.3579 - accuracy: 0.5266 - val_loss: 0.7785 - val_accuracy: 0.4688\n",
            "Epoch 37/100\n",
            "40/40 [==============================] - 0s 3ms/step - loss: 0.8721 - accuracy: 0.5148 - val_loss: 1.1743 - val_accuracy: 0.4563\n",
            "Epoch 38/100\n",
            "40/40 [==============================] - 0s 2ms/step - loss: 1.5504 - accuracy: 0.5016 - val_loss: 1.0852 - val_accuracy: 0.4563\n",
            "Epoch 39/100\n",
            "40/40 [==============================] - 0s 2ms/step - loss: 1.3012 - accuracy: 0.5055 - val_loss: 0.8123 - val_accuracy: 0.5437\n",
            "Epoch 40/100\n",
            "40/40 [==============================] - 0s 2ms/step - loss: 0.8857 - accuracy: 0.5250 - val_loss: 0.9405 - val_accuracy: 0.4563\n",
            "Epoch 41/100\n",
            "40/40 [==============================] - 0s 3ms/step - loss: 1.2200 - accuracy: 0.4883 - val_loss: 2.8637 - val_accuracy: 0.4563\n",
            "Epoch 42/100\n",
            "40/40 [==============================] - 0s 3ms/step - loss: 1.3319 - accuracy: 0.5102 - val_loss: 0.7324 - val_accuracy: 0.4906\n",
            "Epoch 43/100\n",
            "40/40 [==============================] - 0s 3ms/step - loss: 0.8031 - accuracy: 0.5063 - val_loss: 0.7007 - val_accuracy: 0.4000\n",
            "Epoch 44/100\n",
            "40/40 [==============================] - 0s 3ms/step - loss: 0.8115 - accuracy: 0.4828 - val_loss: 0.7499 - val_accuracy: 0.5437\n",
            "Epoch 45/100\n",
            "40/40 [==============================] - 0s 3ms/step - loss: 0.9084 - accuracy: 0.4836 - val_loss: 0.7172 - val_accuracy: 0.5281\n",
            "Epoch 46/100\n",
            "40/40 [==============================] - 0s 4ms/step - loss: 0.9000 - accuracy: 0.5297 - val_loss: 0.7020 - val_accuracy: 0.4875\n",
            "Epoch 47/100\n",
            "40/40 [==============================] - 0s 3ms/step - loss: 0.8955 - accuracy: 0.4883 - val_loss: 0.7499 - val_accuracy: 0.5437\n",
            "Epoch 48/100\n",
            "40/40 [==============================] - 0s 3ms/step - loss: 1.1323 - accuracy: 0.4930 - val_loss: 0.7029 - val_accuracy: 0.5031\n",
            "Epoch 49/100\n",
            "40/40 [==============================] - 0s 3ms/step - loss: 0.7725 - accuracy: 0.5211 - val_loss: 0.7405 - val_accuracy: 0.5437\n",
            "Epoch 50/100\n",
            "40/40 [==============================] - 0s 3ms/step - loss: 0.7724 - accuracy: 0.5234 - val_loss: 0.6997 - val_accuracy: 0.4656\n",
            "Epoch 51/100\n",
            "40/40 [==============================] - 0s 3ms/step - loss: 0.8090 - accuracy: 0.5047 - val_loss: 0.9430 - val_accuracy: 0.4563\n",
            "Epoch 52/100\n",
            "40/40 [==============================] - 0s 3ms/step - loss: 0.7751 - accuracy: 0.5078 - val_loss: 0.9765 - val_accuracy: 0.5437\n",
            "Epoch 53/100\n",
            "40/40 [==============================] - 0s 3ms/step - loss: 0.8207 - accuracy: 0.5063 - val_loss: 0.7816 - val_accuracy: 0.5437\n",
            "Epoch 54/100\n",
            "40/40 [==============================] - 0s 2ms/step - loss: 0.7872 - accuracy: 0.5023 - val_loss: 0.6987 - val_accuracy: 0.4500\n",
            "Epoch 55/100\n",
            "40/40 [==============================] - 0s 3ms/step - loss: 0.8448 - accuracy: 0.5047 - val_loss: 0.9644 - val_accuracy: 0.5437\n",
            "Epoch 56/100\n",
            "40/40 [==============================] - 0s 3ms/step - loss: 0.8740 - accuracy: 0.5242 - val_loss: 0.9294 - val_accuracy: 0.4563\n",
            "Epoch 57/100\n",
            "40/40 [==============================] - 0s 2ms/step - loss: 0.9921 - accuracy: 0.5297 - val_loss: 0.7305 - val_accuracy: 0.5437\n",
            "Epoch 58/100\n",
            "40/40 [==============================] - 0s 2ms/step - loss: 1.1557 - accuracy: 0.5188 - val_loss: 1.7572 - val_accuracy: 0.5437\n",
            "Epoch 59/100\n",
            "40/40 [==============================] - 0s 2ms/step - loss: 0.8643 - accuracy: 0.4961 - val_loss: 0.7061 - val_accuracy: 0.5750\n",
            "Epoch 60/100\n",
            "40/40 [==============================] - 0s 2ms/step - loss: 0.8931 - accuracy: 0.4836 - val_loss: 0.9260 - val_accuracy: 0.5437\n",
            "Epoch 61/100\n",
            "40/40 [==============================] - 0s 2ms/step - loss: 0.9838 - accuracy: 0.5148 - val_loss: 0.9472 - val_accuracy: 0.4563\n",
            "Epoch 62/100\n",
            "40/40 [==============================] - 0s 2ms/step - loss: 0.8142 - accuracy: 0.5141 - val_loss: 0.8376 - val_accuracy: 0.4563\n",
            "Epoch 63/100\n",
            "40/40 [==============================] - 0s 2ms/step - loss: 0.7633 - accuracy: 0.4773 - val_loss: 0.8030 - val_accuracy: 0.5437\n",
            "Epoch 64/100\n",
            "40/40 [==============================] - 0s 2ms/step - loss: 0.8298 - accuracy: 0.5078 - val_loss: 0.6978 - val_accuracy: 0.5219\n",
            "Epoch 65/100\n",
            "40/40 [==============================] - 0s 2ms/step - loss: 0.8839 - accuracy: 0.5141 - val_loss: 0.8135 - val_accuracy: 0.4563\n",
            "Epoch 66/100\n",
            "40/40 [==============================] - 0s 3ms/step - loss: 1.0281 - accuracy: 0.5156 - val_loss: 0.9077 - val_accuracy: 0.4563\n",
            "Epoch 67/100\n",
            "40/40 [==============================] - 0s 3ms/step - loss: 0.7873 - accuracy: 0.5016 - val_loss: 0.7558 - val_accuracy: 0.5437\n",
            "Epoch 68/100\n",
            "40/40 [==============================] - 0s 2ms/step - loss: 0.8002 - accuracy: 0.5352 - val_loss: 0.9419 - val_accuracy: 0.5437\n",
            "Epoch 69/100\n",
            "40/40 [==============================] - 0s 2ms/step - loss: 0.7537 - accuracy: 0.5078 - val_loss: 0.6946 - val_accuracy: 0.5344\n",
            "Epoch 70/100\n",
            "40/40 [==============================] - 0s 2ms/step - loss: 0.7672 - accuracy: 0.5195 - val_loss: 0.7043 - val_accuracy: 0.5437\n",
            "Epoch 71/100\n",
            "40/40 [==============================] - 0s 2ms/step - loss: 0.7584 - accuracy: 0.4875 - val_loss: 0.6963 - val_accuracy: 0.5406\n",
            "Epoch 72/100\n",
            "40/40 [==============================] - 0s 2ms/step - loss: 0.7370 - accuracy: 0.4883 - val_loss: 0.6923 - val_accuracy: 0.4812\n",
            "Epoch 73/100\n",
            "40/40 [==============================] - 0s 2ms/step - loss: 0.8216 - accuracy: 0.4898 - val_loss: 0.7329 - val_accuracy: 0.4594\n",
            "Epoch 74/100\n",
            "40/40 [==============================] - 0s 2ms/step - loss: 0.7356 - accuracy: 0.5453 - val_loss: 0.7162 - val_accuracy: 0.5437\n",
            "Epoch 75/100\n",
            "40/40 [==============================] - 0s 2ms/step - loss: 0.8149 - accuracy: 0.4969 - val_loss: 0.7805 - val_accuracy: 0.4563\n",
            "Epoch 76/100\n",
            "40/40 [==============================] - 0s 3ms/step - loss: 0.8214 - accuracy: 0.4953 - val_loss: 0.7070 - val_accuracy: 0.5437\n",
            "Epoch 77/100\n",
            "40/40 [==============================] - 0s 2ms/step - loss: 0.9755 - accuracy: 0.4898 - val_loss: 0.7485 - val_accuracy: 0.5437\n",
            "Epoch 78/100\n",
            "40/40 [==============================] - 0s 2ms/step - loss: 0.7501 - accuracy: 0.4867 - val_loss: 0.6975 - val_accuracy: 0.5875\n",
            "Epoch 79/100\n",
            "40/40 [==============================] - 0s 2ms/step - loss: 0.7084 - accuracy: 0.5211 - val_loss: 0.6982 - val_accuracy: 0.5437\n",
            "Epoch 80/100\n",
            "40/40 [==============================] - 0s 2ms/step - loss: 0.7615 - accuracy: 0.4875 - val_loss: 0.7151 - val_accuracy: 0.5437\n",
            "Epoch 81/100\n",
            "40/40 [==============================] - 0s 2ms/step - loss: 0.7565 - accuracy: 0.4953 - val_loss: 0.6910 - val_accuracy: 0.4656\n",
            "Epoch 82/100\n",
            "40/40 [==============================] - 0s 3ms/step - loss: 0.8025 - accuracy: 0.4672 - val_loss: 0.7438 - val_accuracy: 0.5437\n",
            "Epoch 83/100\n",
            "40/40 [==============================] - 0s 3ms/step - loss: 0.7415 - accuracy: 0.4898 - val_loss: 0.7049 - val_accuracy: 0.4844\n",
            "Epoch 84/100\n",
            "40/40 [==============================] - 0s 2ms/step - loss: 0.7581 - accuracy: 0.5109 - val_loss: 0.7429 - val_accuracy: 0.4563\n",
            "Epoch 85/100\n",
            "40/40 [==============================] - 0s 2ms/step - loss: 0.7422 - accuracy: 0.5172 - val_loss: 0.7818 - val_accuracy: 0.4563\n",
            "Epoch 86/100\n",
            "40/40 [==============================] - 0s 2ms/step - loss: 0.7465 - accuracy: 0.4812 - val_loss: 0.7745 - val_accuracy: 0.4563\n",
            "Epoch 87/100\n",
            "40/40 [==============================] - 0s 2ms/step - loss: 0.7187 - accuracy: 0.5000 - val_loss: 0.7809 - val_accuracy: 0.5437\n",
            "Epoch 88/100\n",
            "40/40 [==============================] - 0s 2ms/step - loss: 0.7629 - accuracy: 0.4742 - val_loss: 0.6897 - val_accuracy: 0.5281\n",
            "Epoch 89/100\n",
            "40/40 [==============================] - 0s 2ms/step - loss: 0.7244 - accuracy: 0.4945 - val_loss: 0.7948 - val_accuracy: 0.4563\n",
            "Epoch 90/100\n",
            "40/40 [==============================] - 0s 2ms/step - loss: 0.7322 - accuracy: 0.5117 - val_loss: 0.6913 - val_accuracy: 0.5437\n",
            "Epoch 91/100\n",
            "40/40 [==============================] - 0s 2ms/step - loss: 0.7148 - accuracy: 0.4883 - val_loss: 0.7729 - val_accuracy: 0.5437\n",
            "Epoch 92/100\n",
            "40/40 [==============================] - 0s 2ms/step - loss: 0.7103 - accuracy: 0.4805 - val_loss: 0.6989 - val_accuracy: 0.5437\n",
            "Epoch 93/100\n",
            "40/40 [==============================] - 0s 2ms/step - loss: 0.7150 - accuracy: 0.5164 - val_loss: 0.6905 - val_accuracy: 0.4875\n",
            "Epoch 94/100\n",
            "40/40 [==============================] - 0s 2ms/step - loss: 0.7130 - accuracy: 0.5023 - val_loss: 0.6896 - val_accuracy: 0.5437\n",
            "Epoch 95/100\n",
            "40/40 [==============================] - 0s 2ms/step - loss: 0.7087 - accuracy: 0.4984 - val_loss: 0.8076 - val_accuracy: 0.4563\n",
            "Epoch 96/100\n",
            "40/40 [==============================] - 0s 3ms/step - loss: 0.7194 - accuracy: 0.4906 - val_loss: 0.7001 - val_accuracy: 0.4781\n",
            "Epoch 97/100\n",
            "40/40 [==============================] - 0s 2ms/step - loss: 0.7255 - accuracy: 0.5117 - val_loss: 0.7417 - val_accuracy: 0.4563\n",
            "Epoch 98/100\n",
            "40/40 [==============================] - 0s 2ms/step - loss: 0.6988 - accuracy: 0.4969 - val_loss: 0.7112 - val_accuracy: 0.4563\n",
            "Epoch 99/100\n",
            "40/40 [==============================] - 0s 2ms/step - loss: 0.7168 - accuracy: 0.4891 - val_loss: 0.6902 - val_accuracy: 0.5437\n",
            "Epoch 100/100\n",
            "40/40 [==============================] - 0s 2ms/step - loss: 0.7231 - accuracy: 0.5031 - val_loss: 0.7322 - val_accuracy: 0.4563\n",
            "13/13 [==============================] - 0s 2ms/step\n",
            "Test accuracy: 0.4975\n"
          ]
        }
      ]
    },
    {
      "cell_type": "code",
      "source": [
        "X_data"
      ],
      "metadata": {
        "id": "bBKsY31vNBqC"
      },
      "execution_count": null,
      "outputs": []
    },
    {
      "cell_type": "code",
      "source": [
        "import numpy as np\n",
        "from sklearn.model_selection import train_test_split\n",
        "from sklearn.preprocessing import StandardScaler\n",
        "from tensorflow.keras import layers, models\n",
        "\n",
        "# Örnek veri seti (x_train ve y_train'i kendi veri setinizle değiştirin)\n",
        "# Örnek veri seti şekli: (örnek_sayısı, zaman_adımı, özellik_sayısı)\n",
        "x_train = np.random.rand(100, 10, 2)  # Örnek: 100 zaman adımı, her biri 2 özellik\n",
        "y_train = np.random.randint(2, size=(100, 1))  # Sınıf etiketleri (binary classification)\n",
        "\n",
        "# Veri setini eğitim ve test setlerine bölme\n",
        "x_train, x_test, y_train, y_test = train_test_split(x_train, y_train, test_size=0.2, random_state=42)\n",
        "\n",
        "# Veri setini düzenleme ve normalleştirme\n",
        "scaler = StandardScaler()\n",
        "x_train_normalized = scaler.fit_transform(x_train.reshape(-1, x_train.shape[-1])).reshape(x_train.shape)\n",
        "x_test_normalized = scaler.transform(x_test.reshape(-1, x_test.shape[-1])).reshape(x_test.shape)\n",
        "\n",
        "# CNN modelini oluşturma\n",
        "model = models.Sequential()\n",
        "\n",
        "# # 1D Convolutional katman eklemek\n",
        "# model.add(layers.Conv1D(filters=32, kernel_size=13, activation='relu', input_shape=(x_train.shape[1], x_train.shape[2])))\n",
        "# model.add(layers.MaxPooling1D(pool_size=2))\n",
        "# model.add(layers.Flatten())\n",
        "\n",
        "# Tam Bağlantılı (Dense) katmanlar eklemek\n",
        "model.add(layers.Dense(128, activation='relu'))\n",
        "\n",
        "model.add(layers.Dense(64, activation='relu'))\n",
        "\n",
        "model.add(layers.Dense(32, activation='relu'))\n",
        "model.add(layers.Dense(16, activation='relu'))\n",
        "\n",
        "model.add(layers.Dense(8, activation='relu'))\n",
        "\n",
        "\n",
        "\n",
        "model.add(layers.Dense(1, activation='relu'))  # Binary classification için sigmoid aktivasyonu\n",
        "\n",
        "# Modeli derlemek\n",
        "model.compile(optimizer='adam', loss='binary_crossentropy', metrics=['accuracy'])\n",
        "\n",
        "# Modeli eğitmek\n",
        "model.fit(x_train_normalized, y_train, epochs=1000, batch_size=32, validation_split=0.2)\n",
        "model.summary\n",
        "# Modelin test seti üzerinde performansını değerlendirmek\n",
        "test_loss, test_acc = model.evaluate(x_test_normalized, y_test)\n",
        "print(f'Test accuracy: {test_acc}')\n"
      ],
      "metadata": {
        "id": "ubkMyWe11kAe"
      },
      "execution_count": null,
      "outputs": []
    },
    {
      "cell_type": "code",
      "source": [
        "# Modeli oluşturma\n",
        "from keras.models import Sequential\n",
        "from keras.layers import Conv1D, MaxPooling1D, Flatten, Dense\n",
        "\n",
        "model = Sequential()\n",
        "model.add(Conv1D(32, kernel_size=3, activation='relu', input_shape=(sequence_length, num_features)))\n",
        "model.add(MaxPooling1D(pool_size=2))\n",
        "model.add(Flatten())\n",
        "\n",
        "model.add(Dense(256, activation='relu'))\n",
        "\n",
        "model.add(Dense(128, activation='relu'))\n",
        "model.add(layers.Dropout(0.5))\n",
        "\n",
        "model.add(Dense(64, activation='relu'))\n",
        "model.add(layers.Dropout(0.5))\n",
        "\n",
        "model.add(Dense(32, activation='relu'))\n",
        "model.add(layers.Dropout(0.5))\n",
        "\n",
        "model.add(Dense(16, activation='relu'))\n",
        "model.add(layers.Dropout(0.5))\n",
        "\n",
        "model.add(Dense(8, activation='relu'))\n",
        "model.add(layers.Dropout(0.5))\n",
        "\n",
        "model.add(Dense(4, activation='relu'))\n",
        "model.add(layers.Dropout(0.5))\n",
        "\n",
        "model.add(Dense(2, activation='relu'))\n",
        "model.add(layers.Dropout(0.5))\n",
        "\n",
        "model.add(Dense(1, activation='sigmoid'))\n",
        "\n",
        "model.compile(optimizer='adam', loss='binary_crossentropy', metrics=['accuracy'])\n",
        "\n",
        "# Modeli eğitme\n",
        "model.fit(X_train, y_train, epochs=100, validation_split=0.1)\n",
        "model.summary()\n",
        "# Modeli test etme\n",
        "test_loss, test_acc = model.evaluate(X_test, y_test)\n",
        "print(f'Test accuracy: {test_acc}')"
      ],
      "metadata": {
        "colab": {
          "base_uri": "https://localhost:8080/",
          "height": 457
        },
        "id": "ZNMlLlfvk9JQ",
        "outputId": "97b4fde9-5d44-43bc-ff7d-19864006fa91"
      },
      "execution_count": 39,
      "outputs": [
        {
          "output_type": "error",
          "ename": "ValueError",
          "evalue": "ignored",
          "traceback": [
            "\u001b[0;31m---------------------------------------------------------------------------\u001b[0m",
            "\u001b[0;31mValueError\u001b[0m                                Traceback (most recent call last)",
            "\u001b[0;32m<ipython-input-39-b2e66d2fb0ea>\u001b[0m in \u001b[0;36m<cell line: 38>\u001b[0;34m()\u001b[0m\n\u001b[1;32m     36\u001b[0m \u001b[0;34m\u001b[0m\u001b[0m\n\u001b[1;32m     37\u001b[0m \u001b[0;31m# Modeli eğitme\u001b[0m\u001b[0;34m\u001b[0m\u001b[0;34m\u001b[0m\u001b[0m\n\u001b[0;32m---> 38\u001b[0;31m \u001b[0mmodel\u001b[0m\u001b[0;34m.\u001b[0m\u001b[0mfit\u001b[0m\u001b[0;34m(\u001b[0m\u001b[0mX_train\u001b[0m\u001b[0;34m,\u001b[0m \u001b[0my_train\u001b[0m\u001b[0;34m,\u001b[0m \u001b[0mepochs\u001b[0m\u001b[0;34m=\u001b[0m\u001b[0;36m100\u001b[0m\u001b[0;34m,\u001b[0m \u001b[0mvalidation_split\u001b[0m\u001b[0;34m=\u001b[0m\u001b[0;36m0.1\u001b[0m\u001b[0;34m)\u001b[0m\u001b[0;34m\u001b[0m\u001b[0;34m\u001b[0m\u001b[0m\n\u001b[0m\u001b[1;32m     39\u001b[0m \u001b[0mmodel\u001b[0m\u001b[0;34m.\u001b[0m\u001b[0msummary\u001b[0m\u001b[0;34m(\u001b[0m\u001b[0;34m)\u001b[0m\u001b[0;34m\u001b[0m\u001b[0;34m\u001b[0m\u001b[0m\n\u001b[1;32m     40\u001b[0m \u001b[0;31m# Modeli test etme\u001b[0m\u001b[0;34m\u001b[0m\u001b[0;34m\u001b[0m\u001b[0m\n",
            "\u001b[0;32m/usr/local/lib/python3.10/dist-packages/keras/src/utils/traceback_utils.py\u001b[0m in \u001b[0;36merror_handler\u001b[0;34m(*args, **kwargs)\u001b[0m\n\u001b[1;32m     68\u001b[0m             \u001b[0;31m# To get the full stack trace, call:\u001b[0m\u001b[0;34m\u001b[0m\u001b[0;34m\u001b[0m\u001b[0m\n\u001b[1;32m     69\u001b[0m             \u001b[0;31m# `tf.debugging.disable_traceback_filtering()`\u001b[0m\u001b[0;34m\u001b[0m\u001b[0;34m\u001b[0m\u001b[0m\n\u001b[0;32m---> 70\u001b[0;31m             \u001b[0;32mraise\u001b[0m \u001b[0me\u001b[0m\u001b[0;34m.\u001b[0m\u001b[0mwith_traceback\u001b[0m\u001b[0;34m(\u001b[0m\u001b[0mfiltered_tb\u001b[0m\u001b[0;34m)\u001b[0m \u001b[0;32mfrom\u001b[0m \u001b[0;32mNone\u001b[0m\u001b[0;34m\u001b[0m\u001b[0;34m\u001b[0m\u001b[0m\n\u001b[0m\u001b[1;32m     71\u001b[0m         \u001b[0;32mfinally\u001b[0m\u001b[0;34m:\u001b[0m\u001b[0;34m\u001b[0m\u001b[0;34m\u001b[0m\u001b[0m\n\u001b[1;32m     72\u001b[0m             \u001b[0;32mdel\u001b[0m \u001b[0mfiltered_tb\u001b[0m\u001b[0;34m\u001b[0m\u001b[0;34m\u001b[0m\u001b[0m\n",
            "\u001b[0;32m/usr/local/lib/python3.10/dist-packages/keras/src/engine/data_adapter.py\u001b[0m in \u001b[0;36m_check_data_cardinality\u001b[0;34m(data)\u001b[0m\n\u001b[1;32m   1958\u001b[0m             )\n\u001b[1;32m   1959\u001b[0m         \u001b[0mmsg\u001b[0m \u001b[0;34m+=\u001b[0m \u001b[0;34m\"Make sure all arrays contain the same number of samples.\"\u001b[0m\u001b[0;34m\u001b[0m\u001b[0;34m\u001b[0m\u001b[0m\n\u001b[0;32m-> 1960\u001b[0;31m         \u001b[0;32mraise\u001b[0m \u001b[0mValueError\u001b[0m\u001b[0;34m(\u001b[0m\u001b[0mmsg\u001b[0m\u001b[0;34m)\u001b[0m\u001b[0;34m\u001b[0m\u001b[0;34m\u001b[0m\u001b[0m\n\u001b[0m\u001b[1;32m   1961\u001b[0m \u001b[0;34m\u001b[0m\u001b[0m\n\u001b[1;32m   1962\u001b[0m \u001b[0;34m\u001b[0m\u001b[0m\n",
            "\u001b[0;31mValueError\u001b[0m: Data cardinality is ambiguous:\n  x sizes: 1440\n  y sizes: 80\nMake sure all arrays contain the same number of samples."
          ]
        }
      ]
    },
    {
      "cell_type": "code",
      "source": [
        "import tensorflow as tf\n",
        "from tensorflow.keras import layers, models\n",
        "\n",
        "# Convolutional Neural Network modelini oluşturma\n",
        "model = models.Sequential()\n",
        "\n",
        "# Convolutional katman eklemek\n",
        "model.add(layers.Conv2D(10, (1, 1), strides=(1, 1), input_shape=(2000,100, 2), activation='relu', kernel_initializer='random_uniform', bias_initializer='random_uniform', name='conv1'))\n",
        "\n",
        "# MaxPooling2D katmanı eklemek\n",
        "model.add(layers.MaxPooling2D(pool_size=(2, 2)))\n",
        "\n",
        "# Flatten katmanı eklemek\n",
        "model.add(layers.Flatten())\n",
        "\n",
        "# Daha fazla katman eklemek için bu kısmı çoğaltabilirsiniz\n",
        "# Örneğin, bir Tam Bağlantılı (Dense) katman ekleyelim:\n",
        "model.add(layers.Dense(128, activation='relu'))\n",
        "\n",
        "# Son çıkış katmanını eklemek\n",
        "model.add(layers.Dense(1, activation='sigmoid'))\n",
        "\n",
        "# Modelin özetini görüntüleme\n",
        "model.summary()"
      ],
      "metadata": {
        "colab": {
          "base_uri": "https://localhost:8080/"
        },
        "id": "25bw_zFezvgZ",
        "outputId": "6af52e1a-94dd-4994-b41f-05d44d7616dd"
      },
      "execution_count": 13,
      "outputs": [
        {
          "output_type": "stream",
          "name": "stdout",
          "text": [
            "Model: \"sequential_5\"\n",
            "_________________________________________________________________\n",
            " Layer (type)                Output Shape              Param #   \n",
            "=================================================================\n",
            " conv1 (Conv2D)              (None, 2000, 100, 10)     30        \n",
            "                                                                 \n",
            " max_pooling2d_1 (MaxPoolin  (None, 100, 5, 10)        0         \n",
            " g2D)                                                            \n",
            "                                                                 \n",
            " flatten_4 (Flatten)         (None, 5000)              0         \n",
            "                                                                 \n",
            " dense_26 (Dense)            (None, 128)               640128    \n",
            "                                                                 \n",
            " dense_27 (Dense)            (None, 1)                 129       \n",
            "                                                                 \n",
            "=================================================================\n",
            "Total params: 640287 (2.44 MB)\n",
            "Trainable params: 640287 (2.44 MB)\n",
            "Non-trainable params: 0 (0.00 Byte)\n",
            "_________________________________________________________________\n"
          ]
        }
      ]
    },
    {
      "cell_type": "code",
      "source": [
        "from keras.models import Sequential\n",
        "from keras.layers import Flatten, Dense,Dropout\n",
        "\n",
        "# Modeli oluşturma\n",
        "model = Sequential()\n",
        "model.add(Flatten(input_shape=(sequence_length, num_features)))\n",
        "model.add(Dense(128, activation='relu'))\n",
        "model.add(Dropout(0.5))  # Dropout ekleniyor\n",
        "\n",
        "model.add(Dense(64, activation='relu'))\n",
        "model.add(Dropout(0.5))  # Dropout ekleniyor\n",
        "\n",
        "model.add(Dense(32, activation='relu'))\n",
        "model.add(Dense(16, activation='relu'))\n",
        "model.add(Dropout(0.5))  # Dropout ekleniyor\n",
        "\n",
        "\n",
        "model.add(Dense(8, activation='relu'))\n",
        "model.add(Dense(4, activation='relu'))\n",
        "model.add(Dropout(0.5))  # Dropout ekleniyor\n",
        "\n",
        "model.add(Dense(2, activation='relu'))\n",
        "model.add(Dense(1, activation='sigmoid'))\n",
        "\n",
        "model.compile(optimizer='adam', loss='binary_crossentropy', metrics=['accuracy'])\n",
        "# Modeli eğitme\n",
        "model.fit(X_train, y_train, epochs=100, validation_split=0.1)\n",
        "model.summary\n",
        "\n",
        "# Modeli test etme\n",
        "test_loss, test_acc = model.evaluate(X_test, y_test)\n",
        "print(f'Test accuracy: {test_acc}')\n"
      ],
      "metadata": {
        "id": "k5RwdbY0ke2-"
      },
      "execution_count": null,
      "outputs": []
    },
    {
      "cell_type": "code",
      "source": [
        "import matplotlib.pyplot as plt\n",
        "\n",
        "# Modelin test seti üzerinde tahminlerini al\n",
        "predictions = model.predict(X_test)\n",
        "\n",
        "# Tahminleri ikili sınıflara dönüştür (ör. 0.5 eşik değeri)\n",
        "binary_predictions = (predictions > 0.5).astype(int)\n",
        "\n",
        "# Hatalı sınıflandırılan örnekleri bul\n",
        "incorrect_predictions = np.where(binary_predictions != y_test)[0]\n",
        "\n",
        "# Hatalı sınıflandırılan örnekleri görselleştirin\n",
        "plt.figure(figsize=(15, 5))\n",
        "plt.plot(X_test[incorrect_predictions, :, 0].reshape(-1, 1).T, color='gray', alpha=0.7, label='Hatalı Örnekler')\n",
        "plt.scatter(range(len(incorrect_predictions)), binary_predictions[incorrect_predictions].flatten(), color='red', label='Tahmin', marker='x')\n",
        "plt.scatter(range(len(incorrect_predictions)), y_test[incorrect_predictions].flatten(), color='blue', label='Gerçek Etiket', marker='o')\n",
        "plt.legend()\n",
        "plt.show()\n"
      ],
      "metadata": {
        "colab": {
          "base_uri": "https://localhost:8080/"
        },
        "id": "OORgDcqulsg1",
        "outputId": "09b1a6ce-a04f-4dfb-f71f-3ef097641ab2"
      },
      "execution_count": null,
      "outputs": [
        {
          "output_type": "stream",
          "name": "stdout",
          "text": [
            "7/7 [==============================] - 0s 5ms/step\n"
          ]
        }
      ]
    },
    {
      "cell_type": "code",
      "source": [
        "import numpy as np\n",
        "import matplotlib.pyplot as plt\n",
        "\n",
        "# 'dene.txt' dosyasını okuma ve içeriği bir Numpy dizisine çevirme\n",
        "dene_data = np.genfromtxt('/content/error/smooth2001_error.txt', delimiter=',')\n",
        "\n",
        "# Modeli kullanarak tahminlerde bulunma\n",
        "predictions = model.predict(dene_data)\n",
        "\n",
        "# Tahmin sonuçlarını eşik değere göre ikili sınıflara dönüştürme\n",
        "binary_predictions = (predictions > 0.5).astype(int)\n",
        "\n",
        "# Hatalı sınıflandırılan örnekleri görselleştirme\n",
        "plt.plot(dene_data[:, 0], label='Gerçek Etiket', color='blue')\n",
        "plt.scatter(range(len(dene_data)), binary_predictions.flatten(), color='red', label='Tahmin', marker='x')\n",
        "plt.xlabel('Örnek Numarası')\n",
        "plt.ylabel('Sınıflandırma ve Tahmin Değeri')\n",
        "plt.legend()\n",
        "plt.show()\n"
      ],
      "metadata": {
        "id": "1ZYFdQ_slsei"
      },
      "execution_count": null,
      "outputs": []
    },
    {
      "cell_type": "code",
      "source": [],
      "metadata": {
        "id": "X5NO82yilscJ"
      },
      "execution_count": null,
      "outputs": []
    },
    {
      "cell_type": "code",
      "source": [
        "------------------------------------------------------------"
      ],
      "metadata": {
        "id": "8AnUE46AlLgg"
      },
      "execution_count": null,
      "outputs": []
    },
    {
      "cell_type": "code",
      "source": [
        "import os\n",
        "import shutil\n",
        "import zipfile\n",
        "from sklearn.model_selection import train_test_split\n",
        "from tensorflow.keras.preprocessing.image import ImageDataGenerator\n",
        "from tensorflow.keras.models import Sequential\n",
        "from tensorflow.keras.layers import Conv2D, MaxPooling2D, Flatten, Dense\n",
        "\n",
        "# GitHub reposundan veri setini indirme\n",
        "!git clone https://github.com/hmyrcmn/KUL.git\n",
        "\n",
        "# falseValues ve trueValues klasörlerini Colab ortamına taşıma\n",
        "shutil.move('/content/KUL/falseValues3', '/content/falseValues3')\n",
        "shutil.move('/content/KUL/trueValues3', '/content/trueValues3')\n",
        "# shutil.move('/content/KUL/error', '/content/error')\n",
        "\n",
        "\n",
        "# Veri setinin içeriğini kontrol etme\n",
        "!ls"
      ],
      "metadata": {
        "colab": {
          "base_uri": "https://localhost:8080/"
        },
        "id": "2-yODlq4wSpP",
        "outputId": "c9ab6398-fc2e-40df-87e3-112c5b41d083"
      },
      "execution_count": 1,
      "outputs": [
        {
          "output_type": "stream",
          "name": "stdout",
          "text": [
            "Cloning into 'KUL'...\n",
            "remote: Enumerating objects: 5170, done.\u001b[K\n",
            "remote: Counting objects: 100% (5170/5170), done.\u001b[K\n",
            "remote: Compressing objects: 100% (135/135), done.\u001b[K\n",
            "remote: Total 5170 (delta 5078), reused 5122 (delta 5032), pack-reused 0\u001b[K\n",
            "Receiving objects: 100% (5170/5170), 2.35 MiB | 5.16 MiB/s, done.\n",
            "Resolving deltas: 100% (5078/5078), done.\n",
            "falseValues3  KUL  sample_data\ttrueValues3\n"
          ]
        }
      ]
    },
    {
      "cell_type": "code",
      "execution_count": 4,
      "metadata": {
        "colab": {
          "base_uri": "https://localhost:8080/"
        },
        "id": "hKfBiivqrf8p",
        "outputId": "10a99f66-f67d-465e-e81d-ab3a28e556c6"
      },
      "outputs": [
        {
          "output_type": "execute_result",
          "data": {
            "text/plain": [
              "(1001, 100, 2)"
            ]
          },
          "metadata": {},
          "execution_count": 4
        }
      ],
      "source": [
        "import os\n",
        "import numpy as np\n",
        "from sklearn.model_selection import train_test_split\n",
        "from sklearn.preprocessing import MinMaxScaler\n",
        "\n",
        "X_data = []\n",
        "Y_labels = []\n",
        "\n",
        "# truevalues klasöründeki txt dosyalarını yükleme\n",
        "true_folder = '/content/trueValues2'\n",
        "for filename in os.listdir(true_folder):\n",
        "    data = np.genfromtxt(os.path.join(true_folder, filename), delimiter=',')\n",
        "    X_data.append(data)  # X verilerini ekleme\n",
        "    Y_labels.append(1)  # truevalues için etiket ekleme\n",
        "\n",
        "# falsevalues klasöründeki txt dosyalarını yükleme\n",
        "false_folder = '/content/falseValues2'\n",
        "for filename in os.listdir(false_folder):\n",
        "    data = np.genfromtxt(os.path.join(false_folder, filename), delimiter=',')\n",
        "    X_data.append(data)  # X verilerini ekleme\n",
        "    Y_labels.append(0)  # falsevalues için etiket ekleme\n",
        "\n",
        "X_data = np.array(X_data)  # X verilerini bir numpy dizisine dönüştürme\n",
        "Y_labels = np.array(Y_labels)  # Etiketleri bir numpy dizisine dönüştürme\n",
        "\n",
        "print(\"X_data.shape:\",X_data.shape)"
      ]
    },
    {
      "cell_type": "code",
      "source": [
        "X_data"
      ],
      "metadata": {
        "colab": {
          "base_uri": "https://localhost:8080/"
        },
        "id": "NOyRDWalHZbh",
        "outputId": "1d97b8f7-2d1b-4f6d-8b64-48337b0e77bd"
      },
      "execution_count": 5,
      "outputs": [
        {
          "output_type": "execute_result",
          "data": {
            "text/plain": [
              "array([[[ 50.40322581, 239.58333333],\n",
              "        [ 59.28233952, 240.5232024 ],\n",
              "        [ 68.16145324, 241.16042515],\n",
              "        ...,\n",
              "        [911.67725644, 239.09361956],\n",
              "        [920.55637015, 238.88162163],\n",
              "        [929.43548387, 238.23051948]],\n",
              "\n",
              "       [[ 50.40322581, 239.58333333],\n",
              "        [ 59.28233952, 240.5232024 ],\n",
              "        [ 68.16145324, 241.16042515],\n",
              "        ...,\n",
              "        [911.67725644, 236.50279475],\n",
              "        [920.55637015, 238.88162163],\n",
              "        [929.43548387, 238.23051948]],\n",
              "\n",
              "       [[ 50.40322581, 239.58333333],\n",
              "        [ 59.28233952, 240.47005375],\n",
              "        [ 68.16145324, 241.16042515],\n",
              "        ...,\n",
              "        [911.67725644, 239.09361956],\n",
              "        [920.55637015, 238.88162163],\n",
              "        [929.43548387, 238.23051948]],\n",
              "\n",
              "       ...,\n",
              "\n",
              "       [[ 50.40322581, 239.58333333],\n",
              "        [ 59.28233952, 240.5232024 ],\n",
              "        [ 68.16145324, 241.74487631],\n",
              "        ...,\n",
              "        [911.67725644, 239.09361956],\n",
              "        [920.55637015, 238.0432138 ],\n",
              "        [929.43548387, 238.23051948]],\n",
              "\n",
              "       [[ 50.40322581, 239.58333333],\n",
              "        [ 59.28233952, 240.5232024 ],\n",
              "        [ 68.16145324, 241.16042515],\n",
              "        ...,\n",
              "        [911.67725644, 239.09361956],\n",
              "        [920.55637015, 238.88162163],\n",
              "        [929.43548387, 238.23051948]],\n",
              "\n",
              "       [[ 50.40322581, 245.23360276],\n",
              "        [ 59.28233952, 240.02095396],\n",
              "        [ 68.16145324, 243.96579412],\n",
              "        ...,\n",
              "        [911.67725644, 242.3236325 ],\n",
              "        [920.55637015, 238.88162163],\n",
              "        [929.43548387, 238.23051948]]])"
            ]
          },
          "metadata": {},
          "execution_count": 5
        }
      ]
    },
    {
      "cell_type": "code",
      "source": [
        "print(\"X_data.shape:\",X_data.shape)\n",
        "print(\"y_labels.shape:\",Y_labels.shape)\n",
        "X_train, X_test, y_train, y_test = train_test_split(X_data, Y_labels, test_size=0.2, random_state=42)\n",
        "print(\"X_train: \",X_train.shape)\n",
        "print(\"y_train:\",y_train.shape)"
      ],
      "metadata": {
        "colab": {
          "base_uri": "https://localhost:8080/"
        },
        "id": "EgDIOOBOCiDP",
        "outputId": "fd12076f-f768-4857-9bf8-11a50cd89514"
      },
      "execution_count": 9,
      "outputs": [
        {
          "output_type": "stream",
          "name": "stdout",
          "text": [
            "X_data.shape: (1001, 100, 2)\n",
            "y_labels.shape: (1001,)\n",
            "X_train:  (800, 100, 2)\n",
            "y_train: (800,)\n"
          ]
        }
      ]
    },
    {
      "cell_type": "code",
      "source": [
        "X_data"
      ],
      "metadata": {
        "colab": {
          "base_uri": "https://localhost:8080/"
        },
        "id": "u6xp3jDU-hCE",
        "outputId": "b25f60f7-5f3b-4118-8222-6b9f0aa2103a"
      },
      "execution_count": 6,
      "outputs": [
        {
          "output_type": "execute_result",
          "data": {
            "text/plain": [
              "array([[[ 50.40322581, 239.58333333],\n",
              "        [ 59.28233952, 240.5232024 ],\n",
              "        [ 68.16145324, 241.16042515],\n",
              "        ...,\n",
              "        [911.67725644, 239.09361956],\n",
              "        [920.55637015, 238.88162163],\n",
              "        [929.43548387, 238.23051948]],\n",
              "\n",
              "       [[ 50.40322581, 239.58333333],\n",
              "        [ 59.28233952, 240.5232024 ],\n",
              "        [ 68.16145324, 241.16042515],\n",
              "        ...,\n",
              "        [911.67725644, 236.50279475],\n",
              "        [920.55637015, 238.88162163],\n",
              "        [929.43548387, 238.23051948]],\n",
              "\n",
              "       [[ 50.40322581, 239.58333333],\n",
              "        [ 59.28233952, 240.47005375],\n",
              "        [ 68.16145324, 241.16042515],\n",
              "        ...,\n",
              "        [911.67725644, 239.09361956],\n",
              "        [920.55637015, 238.88162163],\n",
              "        [929.43548387, 238.23051948]],\n",
              "\n",
              "       ...,\n",
              "\n",
              "       [[ 50.40322581, 239.58333333],\n",
              "        [ 59.28233952, 240.5232024 ],\n",
              "        [ 68.16145324, 241.74487631],\n",
              "        ...,\n",
              "        [911.67725644, 239.09361956],\n",
              "        [920.55637015, 238.0432138 ],\n",
              "        [929.43548387, 238.23051948]],\n",
              "\n",
              "       [[ 50.40322581, 239.58333333],\n",
              "        [ 59.28233952, 240.5232024 ],\n",
              "        [ 68.16145324, 241.16042515],\n",
              "        ...,\n",
              "        [911.67725644, 239.09361956],\n",
              "        [920.55637015, 238.88162163],\n",
              "        [929.43548387, 238.23051948]],\n",
              "\n",
              "       [[ 50.40322581, 245.23360276],\n",
              "        [ 59.28233952, 240.02095396],\n",
              "        [ 68.16145324, 243.96579412],\n",
              "        ...,\n",
              "        [911.67725644, 242.3236325 ],\n",
              "        [920.55637015, 238.88162163],\n",
              "        [929.43548387, 238.23051948]]])"
            ]
          },
          "metadata": {},
          "execution_count": 6
        }
      ]
    },
    {
      "cell_type": "code",
      "source": [
        "# Modeli oluşturma\n",
        "from keras.models import Sequential\n",
        "from keras.layers import Conv1D, MaxPooling1D, Flatten, Dense\n",
        "\n",
        "model = Sequential()\n",
        "model.add(Conv1D(32, kernel_size=3, activation='relu', input_shape=(sequence_length, num_features)))\n",
        "model.add(MaxPooling1D(pool_size=2))\n",
        "model.add(Flatten())\n",
        "model.add(Dense(64, activation='relu'))\n",
        "model.add(Dense(1, activation='sigmoid'))\n",
        "\n",
        "model.compile(optimizer='adam', loss='binary_crossentropy', metrics=['accuracy'])\n",
        "\n",
        "# Modeli eğitme\n",
        "model.fit(X_train, y_train, epochs=100, validation_split=0.1)\n",
        "\n",
        "# Modeli test etme\n",
        "test_loss, test_acc = model.evaluate(X_test, y_test)\n",
        "print(f'Test accuracy: {test_acc}')"
      ],
      "metadata": {
        "id": "3WDDw58E-I_i"
      },
      "execution_count": null,
      "outputs": []
    }
  ]
}