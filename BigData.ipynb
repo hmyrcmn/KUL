{
  "nbformat": 4,
  "nbformat_minor": 0,
  "metadata": {
    "colab": {
      "provenance": [],
      "authorship_tag": "ABX9TyN1CSCKrAsbHMMGyP5dRfNS",
      "include_colab_link": true
    },
    "kernelspec": {
      "name": "python3",
      "display_name": "Python 3"
    },
    "language_info": {
      "name": "python"
    }
  },
  "cells": [
    {
      "cell_type": "markdown",
      "metadata": {
        "id": "view-in-github",
        "colab_type": "text"
      },
      "source": [
        "<a href=\"https://colab.research.google.com/github/hmyrcmn/KUL/blob/main/BigData.ipynb\" target=\"_parent\"><img src=\"https://colab.research.google.com/assets/colab-badge.svg\" alt=\"Open In Colab\"/></a>"
      ]
    },
    {
      "cell_type": "code",
      "source": [
        "pip install tensorboard"
      ],
      "metadata": {
        "colab": {
          "base_uri": "https://localhost:8080/"
        },
        "id": "XklicHU61CVB",
        "outputId": "75fd5687-74ba-4bbd-e727-fabfba4641cd"
      },
      "execution_count": 2,
      "outputs": [
        {
          "output_type": "stream",
          "name": "stdout",
          "text": [
            "Requirement already satisfied: tensorboard in /usr/local/lib/python3.10/dist-packages (2.15.1)\n",
            "Requirement already satisfied: absl-py>=0.4 in /usr/local/lib/python3.10/dist-packages (from tensorboard) (1.4.0)\n",
            "Requirement already satisfied: grpcio>=1.48.2 in /usr/local/lib/python3.10/dist-packages (from tensorboard) (1.60.0)\n",
            "Requirement already satisfied: google-auth<3,>=1.6.3 in /usr/local/lib/python3.10/dist-packages (from tensorboard) (2.17.3)\n",
            "Requirement already satisfied: google-auth-oauthlib<2,>=0.5 in /usr/local/lib/python3.10/dist-packages (from tensorboard) (1.2.0)\n",
            "Requirement already satisfied: markdown>=2.6.8 in /usr/local/lib/python3.10/dist-packages (from tensorboard) (3.5.1)\n",
            "Requirement already satisfied: numpy>=1.12.0 in /usr/local/lib/python3.10/dist-packages (from tensorboard) (1.23.5)\n",
            "Requirement already satisfied: protobuf<4.24,>=3.19.6 in /usr/local/lib/python3.10/dist-packages (from tensorboard) (3.20.3)\n",
            "Requirement already satisfied: requests<3,>=2.21.0 in /usr/local/lib/python3.10/dist-packages (from tensorboard) (2.31.0)\n",
            "Requirement already satisfied: setuptools>=41.0.0 in /usr/local/lib/python3.10/dist-packages (from tensorboard) (67.7.2)\n",
            "Requirement already satisfied: six>1.9 in /usr/local/lib/python3.10/dist-packages (from tensorboard) (1.16.0)\n",
            "Requirement already satisfied: tensorboard-data-server<0.8.0,>=0.7.0 in /usr/local/lib/python3.10/dist-packages (from tensorboard) (0.7.2)\n",
            "Requirement already satisfied: werkzeug>=1.0.1 in /usr/local/lib/python3.10/dist-packages (from tensorboard) (3.0.1)\n",
            "Requirement already satisfied: cachetools<6.0,>=2.0.0 in /usr/local/lib/python3.10/dist-packages (from google-auth<3,>=1.6.3->tensorboard) (5.3.2)\n",
            "Requirement already satisfied: pyasn1-modules>=0.2.1 in /usr/local/lib/python3.10/dist-packages (from google-auth<3,>=1.6.3->tensorboard) (0.3.0)\n",
            "Requirement already satisfied: rsa<5,>=3.1.4 in /usr/local/lib/python3.10/dist-packages (from google-auth<3,>=1.6.3->tensorboard) (4.9)\n",
            "Requirement already satisfied: requests-oauthlib>=0.7.0 in /usr/local/lib/python3.10/dist-packages (from google-auth-oauthlib<2,>=0.5->tensorboard) (1.3.1)\n",
            "Requirement already satisfied: charset-normalizer<4,>=2 in /usr/local/lib/python3.10/dist-packages (from requests<3,>=2.21.0->tensorboard) (3.3.2)\n",
            "Requirement already satisfied: idna<4,>=2.5 in /usr/local/lib/python3.10/dist-packages (from requests<3,>=2.21.0->tensorboard) (3.6)\n",
            "Requirement already satisfied: urllib3<3,>=1.21.1 in /usr/local/lib/python3.10/dist-packages (from requests<3,>=2.21.0->tensorboard) (2.0.7)\n",
            "Requirement already satisfied: certifi>=2017.4.17 in /usr/local/lib/python3.10/dist-packages (from requests<3,>=2.21.0->tensorboard) (2023.11.17)\n",
            "Requirement already satisfied: MarkupSafe>=2.1.1 in /usr/local/lib/python3.10/dist-packages (from werkzeug>=1.0.1->tensorboard) (2.1.3)\n",
            "Requirement already satisfied: pyasn1<0.6.0,>=0.4.6 in /usr/local/lib/python3.10/dist-packages (from pyasn1-modules>=0.2.1->google-auth<3,>=1.6.3->tensorboard) (0.5.1)\n",
            "Requirement already satisfied: oauthlib>=3.0.0 in /usr/local/lib/python3.10/dist-packages (from requests-oauthlib>=0.7.0->google-auth-oauthlib<2,>=0.5->tensorboard) (3.2.2)\n"
          ]
        }
      ]
    },
    {
      "cell_type": "code",
      "execution_count": 1,
      "metadata": {
        "colab": {
          "base_uri": "https://localhost:8080/"
        },
        "id": "zp-AbDMx0ut2",
        "outputId": "f062b71a-b9dc-426c-89a9-93ffa4fbdbc0"
      },
      "outputs": [
        {
          "output_type": "stream",
          "name": "stdout",
          "text": [
            "Cloning into 'KUL'...\n",
            "remote: Enumerating objects: 74556, done.\u001b[K\n",
            "remote: Counting objects: 100% (3988/3988), done.\u001b[K\n",
            "remote: Compressing objects: 100% (456/456), done.\u001b[K\n",
            "remote: Total 74556 (delta 3547), reused 3960 (delta 3532), pack-reused 70568\u001b[K\n",
            "Receiving objects: 100% (74556/74556), 36.86 MiB | 9.06 MiB/s, done.\n",
            "Resolving deltas: 100% (73857/73857), done.\n",
            "Updating files: 100% (16096/16096), done.\n",
            "x_data shape:  (2000, 1000, 1)\n"
          ]
        },
        {
          "output_type": "execute_result",
          "data": {
            "text/plain": [
              "array([[[201.32509767],\n",
              "        [201.29264308],\n",
              "        [201.2567427 ],\n",
              "        ...,\n",
              "        [201.05048642],\n",
              "        [200.92746245],\n",
              "        [200.79717031]],\n",
              "\n",
              "       [[201.32509767],\n",
              "        [201.29264308],\n",
              "        [201.2567427 ],\n",
              "        ...,\n",
              "        [201.05048642],\n",
              "        [200.92746245],\n",
              "        [200.79717031]],\n",
              "\n",
              "       [[201.32509767],\n",
              "        [201.29264308],\n",
              "        [201.2567427 ],\n",
              "        ...,\n",
              "        [201.05048642],\n",
              "        [200.92746245],\n",
              "        [200.79717031]],\n",
              "\n",
              "       ...,\n",
              "\n",
              "       [[199.74131559],\n",
              "        [200.11487128],\n",
              "        [200.45939665],\n",
              "        ...,\n",
              "        [211.67205227],\n",
              "        [211.52049   ],\n",
              "        [211.35571745]],\n",
              "\n",
              "       [[199.74131559],\n",
              "        [200.11487128],\n",
              "        [200.45939665],\n",
              "        ...,\n",
              "        [211.67205227],\n",
              "        [211.52049   ],\n",
              "        [211.35571745]],\n",
              "\n",
              "       [[199.74131559],\n",
              "        [200.11487128],\n",
              "        [200.45939665],\n",
              "        ...,\n",
              "        [211.67205227],\n",
              "        [211.52049   ],\n",
              "        [211.35571745]]])"
            ]
          },
          "metadata": {},
          "execution_count": 1
        }
      ],
      "source": [
        "import os\n",
        "import numpy as np\n",
        "from sklearn.model_selection import train_test_split\n",
        "from sklearn.preprocessing import MinMaxScaler\n",
        "from keras.models import Sequential\n",
        "from keras.layers import Dense, Dropout\n",
        "\n",
        "!git clone https://github.com/hmyrcmn/KUL.git\n",
        "\n",
        "# Veri yükleme\n",
        "true_folder ='/content/KUL/BigData/TrueValues'\n",
        "X_data = []\n",
        "x2_data=[]\n",
        "Y_labels = []\n",
        "\n",
        "for filename in os.listdir(true_folder):\n",
        "    data = np.genfromtxt(os.path.join(true_folder, filename), delimiter=',')\n",
        "    # X_data.append(data)\n",
        "    X_data.append(data[:, 1:])  # Sadece virgül sonrasındaki değerleri ekledim\n",
        "    x2_data.append(data[:, 0:])\n",
        "    Y_labels.append(1)\n",
        "\n",
        "\n",
        "\n",
        "\n",
        "\n",
        "\n",
        "\n",
        "\n",
        "false_folder = '/content/KUL/BigData/FalseValues'\n",
        "for filename in os.listdir(false_folder):\n",
        "    data = np.genfromtxt(os.path.join(false_folder, filename), delimiter=',')\n",
        "    # X_data.append(data)\n",
        "    X_data.append(data[:, 1:])  # Sadece virgül sonrasındaki değerleri ekledim\n",
        "    x2_data.append(data[:, 0:])\n",
        "    Y_labels.append(0)\n",
        "\n",
        "\n",
        "\n",
        "\n",
        "X_data = np.array(X_data)\n",
        "Y_labels = np.array(Y_labels)\n",
        "x2_data=np.array(x2_data)\n",
        "print(\"x_data shape: \",X_data.shape)\n",
        "# X_data=X_data,x2_data\n",
        "X_data\n",
        "\n"
      ]
    },
    {
      "cell_type": "code",
      "source": [
        "# Verileri düzenleme ve normalleştirme\n",
        "num_samples = len(X_data)\n",
        "sequence_length = X_data.shape[1]\n",
        "num_features = X_data.shape[2]\n",
        "\n",
        "X_data_normalized = X_data.reshape(num_samples, sequence_length * num_features)\n",
        "\n",
        "# Eğitim ve test setlerine bölme\n",
        "\n",
        "\n",
        "X_train, X_test, y_train, y_test = train_test_split(X_data_normalized, Y_labels, test_size=0.2, random_state=42)\n",
        "\n",
        "print(\"X_train.shape:\",X_train.shape)\n",
        "X_train"
      ],
      "metadata": {
        "colab": {
          "base_uri": "https://localhost:8080/"
        },
        "id": "de6_iL8O1GH2",
        "outputId": "54d130e4-576a-4726-dd72-dd581b39aa89"
      },
      "execution_count": 3,
      "outputs": [
        {
          "output_type": "stream",
          "name": "stdout",
          "text": [
            "X_train.shape: (1600, 1000)\n"
          ]
        },
        {
          "output_type": "execute_result",
          "data": {
            "text/plain": [
              "array([[201.32509767, 201.29264308, 201.2567427 , ..., 201.05048642,\n",
              "        200.92746245, 200.79717031],\n",
              "       [201.32509767, 201.29264308, 201.2567427 , ..., 201.05048642,\n",
              "        200.92746245, 200.79717031],\n",
              "       [201.32509767, 201.29264308, 201.2567427 , ..., 201.05048642,\n",
              "        200.92746245, 200.79717031],\n",
              "       ...,\n",
              "       [201.32509767, 201.29264308, 201.2567427 , ..., 201.05048642,\n",
              "        200.92746245, 200.79717031],\n",
              "       [199.74131559, 200.11487128, 200.45939665, ..., 211.67205227,\n",
              "        211.52049   , 211.35571745],\n",
              "       [207.74131559, 200.11487128, 200.45939665, ..., 211.67205227,\n",
              "        211.52049   , 211.35571745]])"
            ]
          },
          "metadata": {},
          "execution_count": 3
        }
      ]
    },
    {
      "cell_type": "code",
      "source": [
        "from keras.models import Sequential\n",
        "from keras.layers import Dense, Flatten\n",
        "from keras.callbacks import TensorBoard\n",
        "import tensorflow as tf\n",
        "import numpy as np\n",
        "from datetime import datetime\n",
        "\n",
        "\n",
        "# TensorBoard için bir log dizini oluşturun\n",
        "log_dir = \"logs/fit/\" + datetime.now().strftime(\"%Y%m%d-%H%M%S\")\n",
        "print(f\"TensorBoard Link: https://tensorboard.dev/experiment/{log_dir}\")\n",
        "\n",
        "# TensorBoard Callback'ini oluşturun\n",
        "tensorboard_callback = tf.keras.callbacks.TensorBoard(log_dir=log_dir, histogram_freq=1)\n",
        "\n",
        "# Model oluşturma\n",
        "model = Sequential()\n",
        "model.add(Flatten(input_shape=(1000, 1)))\n",
        "model.add(Dense(100, activation='relu'))\n",
        "model.add(Dense(100, activation='sigmoid'))\n",
        "model.add(Dense(2, activation='softmax'))\n",
        "\n",
        "# Model derleme\n",
        "model.compile(optimizer='Nadam', loss='mean_squared_error', metrics=['mse','accuracy'])\n",
        "\n",
        "# Model özetini yazdırma\n",
        "model.summary()\n",
        "\n",
        "# Modeli eğitme ve TensorBoard geri çağırımını kullanma\n",
        "model.fit(X_train, y_train, epochs=50, batch_size=128, validation_split=0.2, callbacks=[tensorboard_callback])\n",
        "\n",
        "# Diğer değerlendirmeleri yapma ve sonuçları yazdırma\n",
        "test_loss, test_mse, test_acc = model.evaluate(X_test, y_test)\n",
        "print(f'Test MSE: {test_mse}, Test Accuracy: {test_acc}')\n",
        "\n",
        "# Model özetini yazdırma\n",
        "model.summary()\n",
        "\n",
        "# Test seti üzerinde tahminler yapma\n",
        "y_pred_probabilities = model.predict(X_test)\n",
        "y_pred_classes = np.argmax(y_pred_probabilities, axis=1)\n",
        "\n",
        "# Tahmin edilen sınıfları ve olasılıkları yazdırma\n",
        "for i in range(5):\n",
        "    print(f\"Actual Class: {y_test[i]}, Predicted Class: {y_pred_classes[i]}, Probabilities: {y_pred_probabilities[i]}\")\n",
        "\n",
        "\n",
        "\n",
        "log_dir = \"logs/fit/\" + datetime.now().strftime(\"%Y%m%d-%H%M%S\")\n",
        "tensorboard_callback = tf.keras.callbacks.TensorBoard(log_dir=log_dir, histogram_freq=1)\n",
        "model.fit(X_train, y_train, epochs=60, batch_size=128, validation_split=0.2, callbacks=[tensorboard_callback])\n",
        "%load_ext tensorboard\n",
        "%tensorboard --logdir logs/fit\n",
        "\n",
        "\n",
        "\n"
      ],
      "metadata": {
        "id": "OO1DQMk81GEG"
      },
      "execution_count": null,
      "outputs": []
    },
    {
      "cell_type": "code",
      "source": [
        "import seaborn as sns\n",
        "import matplotlib.pyplot as plt\n",
        "from sklearn.metrics import confusion_matrix\n",
        "\n",
        "# Modelin tahminlerini alın\n",
        "y_pred_proba = model.predict(X_test)\n",
        "y_pred = (y_pred_proba[:, 1] > 0.5).astype(int)  # Eşik değeri üzerinden sınıflara dönüştürme\n",
        "\n",
        "# Confusion matrix oluşturun\n",
        "conf_matrix = confusion_matrix(y_test, y_pred)\n",
        "\n",
        "# Confusion matrix'i seaborn ile görselleştirme\n",
        "plt.figure(figsize=(8, 6))\n",
        "sns.heatmap(conf_matrix, annot=True, fmt='d', cmap='Reds', xticklabels=['0', '1'], yticklabels=['0', '1'])\n",
        "plt.title('Confusion Matrix')\n",
        "plt.xlabel('Predicted')\n",
        "plt.ylabel('True')\n",
        "plt.show()\n",
        "\n",
        "\n",
        "\n"
      ],
      "metadata": {
        "colab": {
          "base_uri": "https://localhost:8080/",
          "height": 581
        },
        "id": "2uEyOBlz1GBY",
        "outputId": "033f14d9-2746-4683-c903-961d03579585"
      },
      "execution_count": 7,
      "outputs": [
        {
          "output_type": "stream",
          "name": "stdout",
          "text": [
            "13/13 [==============================] - 0s 4ms/step\n"
          ]
        },
        {
          "output_type": "display_data",
          "data": {
            "text/plain": [
              "<Figure size 800x600 with 2 Axes>"
            ],
            "image/png": "[encoded data removed]"
          },
          "metadata": {}
        }
      ]
    },
    {
      "cell_type": "code",
      "source": [
        "import os\n",
        "import numpy as np\n",
        "from sklearn.model_selection import train_test_split\n",
        "from sklearn.preprocessing import MinMaxScaler\n",
        "from keras.models import Sequential\n",
        "from keras.layers import Dense, Dropout\n",
        "\n",
        "# !git clone https://github.com/hmyrcmn/KUL.git\n",
        "\n",
        "# Veri yükleme\n",
        "true_folder = '/content/KUL/BigData/TrueValues'\n",
        "X_data1 = []\n",
        "X_data2 = []\n",
        "\n",
        "Y_labels = []\n",
        "Y_labels2 = []\n",
        "\n",
        "\n",
        "for filename in os.listdir(true_folder):\n",
        "    data = np.genfromtxt(os.path.join(true_folder, filename), delimiter=',')\n",
        "    # X_data.append(data)\n",
        "    X_data1.append(data[:, 1:])  # Sadece virgül sonrasındaki değerleri ekledim\n",
        "\n",
        "    Y_labels.append(1)\n",
        "\n",
        "false_folder = '/content/KUL/BigData/FalseValues'\n",
        "for filename in os.listdir(false_folder):\n",
        "    data = np.genfromtxt(os.path.join(false_folder, filename), delimiter=',')\n",
        "    # X_data.append(data)\n",
        "    X_data2.append(data[:, 1:])  # Sadece virgül sonrasındaki değerleri ekledim\n",
        "\n",
        "    Y_labels2.append(0)\n",
        "\n",
        "X_data1 = np.array(X_data1)\n",
        "X_data2 = np.array(X_data2)\n",
        "\n",
        "Y_labels = np.array(Y_labels)\n",
        "Y_labels2 = np.array(Y_labels2)\n"
      ],
      "metadata": {
        "id": "efCTl3w91rjT"
      },
      "execution_count": 8,
      "outputs": []
    },
    {
      "cell_type": "code",
      "source": [],
      "metadata": {
        "id": "DOpkYHOV1reF"
      },
      "execution_count": null,
      "outputs": []
    }
  ]
}