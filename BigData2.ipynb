{
  "nbformat": 4,
  "nbformat_minor": 0,
  "metadata": {
    "colab": {
      "provenance": [],
      "toc_visible": true,
      "include_colab_link": true
    },
    "kernelspec": {
      "name": "python3",
      "display_name": "Python 3"
    },
    "language_info": {
      "name": "python"
    }
  },
  "cells": [
    {
      "cell_type": "markdown",
      "metadata": {
        "id": "view-in-github",
        "colab_type": "text"
      },
      "source": [
        "<a href=\"https://colab.research.google.com/github/hmyrcmn/KUL/blob/main/BigData2.ipynb\" target=\"_parent\"><img src=\"https://colab.research.google.com/assets/colab-badge.svg\" alt=\"Open In Colab\"/></a>"
      ]
    },
    {
      "cell_type": "code",
      "source": [
        "pip install tensorboard"
      ],
      "metadata": {
        "colab": {
          "base_uri": "https://localhost:8080/"
        },
        "id": "XklicHU61CVB",
        "outputId": "adcf941e-7cf6-4d4f-8ed0-42416e5402c2"
      },
      "execution_count": 1,
      "outputs": [
        {
          "output_type": "stream",
          "name": "stdout",
          "text": [
            "Requirement already satisfied: tensorboard in /usr/local/lib/python3.10/dist-packages (2.15.2)\n",
            "Requirement already satisfied: absl-py>=0.4 in /usr/local/lib/python3.10/dist-packages (from tensorboard) (1.4.0)\n",
            "Requirement already satisfied: grpcio>=1.48.2 in /usr/local/lib/python3.10/dist-packages (from tensorboard) (1.60.1)\n",
            "Requirement already satisfied: google-auth<3,>=1.6.3 in /usr/local/lib/python3.10/dist-packages (from tensorboard) (2.27.0)\n",
            "Requirement already satisfied: google-auth-oauthlib<2,>=0.5 in /usr/local/lib/python3.10/dist-packages (from tensorboard) (1.2.0)\n",
            "Requirement already satisfied: markdown>=2.6.8 in /usr/local/lib/python3.10/dist-packages (from tensorboard) (3.5.2)\n",
            "Requirement already satisfied: numpy>=1.12.0 in /usr/local/lib/python3.10/dist-packages (from tensorboard) (1.25.2)\n",
            "Requirement already satisfied: protobuf!=4.24.0,>=3.19.6 in /usr/local/lib/python3.10/dist-packages (from tensorboard) (3.20.3)\n",
            "Requirement already satisfied: requests<3,>=2.21.0 in /usr/local/lib/python3.10/dist-packages (from tensorboard) (2.31.0)\n",
            "Requirement already satisfied: setuptools>=41.0.0 in /usr/local/lib/python3.10/dist-packages (from tensorboard) (67.7.2)\n",
            "Requirement already satisfied: six>1.9 in /usr/local/lib/python3.10/dist-packages (from tensorboard) (1.16.0)\n",
            "Requirement already satisfied: tensorboard-data-server<0.8.0,>=0.7.0 in /usr/local/lib/python3.10/dist-packages (from tensorboard) (0.7.2)\n",
            "Requirement already satisfied: werkzeug>=1.0.1 in /usr/local/lib/python3.10/dist-packages (from tensorboard) (3.0.1)\n",
            "Requirement already satisfied: cachetools<6.0,>=2.0.0 in /usr/local/lib/python3.10/dist-packages (from google-auth<3,>=1.6.3->tensorboard) (5.3.2)\n",
            "Requirement already satisfied: pyasn1-modules>=0.2.1 in /usr/local/lib/python3.10/dist-packages (from google-auth<3,>=1.6.3->tensorboard) (0.3.0)\n",
            "Requirement already satisfied: rsa<5,>=3.1.4 in /usr/local/lib/python3.10/dist-packages (from google-auth<3,>=1.6.3->tensorboard) (4.9)\n",
            "Requirement already satisfied: requests-oauthlib>=0.7.0 in /usr/local/lib/python3.10/dist-packages (from google-auth-oauthlib<2,>=0.5->tensorboard) (1.3.1)\n",
            "Requirement already satisfied: charset-normalizer<4,>=2 in /usr/local/lib/python3.10/dist-packages (from requests<3,>=2.21.0->tensorboard) (3.3.2)\n",
            "Requirement already satisfied: idna<4,>=2.5 in /usr/local/lib/python3.10/dist-packages (from requests<3,>=2.21.0->tensorboard) (3.6)\n",
            "Requirement already satisfied: urllib3<3,>=1.21.1 in /usr/local/lib/python3.10/dist-packages (from requests<3,>=2.21.0->tensorboard) (2.0.7)\n",
            "Requirement already satisfied: certifi>=2017.4.17 in /usr/local/lib/python3.10/dist-packages (from requests<3,>=2.21.0->tensorboard) (2024.2.2)\n",
            "Requirement already satisfied: MarkupSafe>=2.1.1 in /usr/local/lib/python3.10/dist-packages (from werkzeug>=1.0.1->tensorboard) (2.1.5)\n",
            "Requirement already satisfied: pyasn1<0.6.0,>=0.4.6 in /usr/local/lib/python3.10/dist-packages (from pyasn1-modules>=0.2.1->google-auth<3,>=1.6.3->tensorboard) (0.5.1)\n",
            "Requirement already satisfied: oauthlib>=3.0.0 in /usr/local/lib/python3.10/dist-packages (from requests-oauthlib>=0.7.0->google-auth-oauthlib<2,>=0.5->tensorboard) (3.2.2)\n"
          ]
        }
      ]
    },
    {
      "cell_type": "code",
      "execution_count": 2,
      "metadata": {
        "colab": {
          "base_uri": "https://localhost:8080/"
        },
        "id": "zp-AbDMx0ut2",
        "outputId": "2b48a0b8-3231-4b9c-ccdd-fb0df0471ac1"
      },
      "outputs": [
        {
          "output_type": "stream",
          "name": "stdout",
          "text": [
            "Cloning into 'KUL'...\n",
            "remote: Enumerating objects: 94527, done.\u001b[K\n",
            "remote: Counting objects: 100% (23959/23959), done.\u001b[K\n",
            "remote: Compressing objects: 100% (2201/2201), done.\u001b[K\n",
            "remote: Total 94527 (delta 21755), reused 23955 (delta 21754), pack-reused 70568\u001b[K\n",
            "Receiving objects: 100% (94527/94527), 109.00 MiB | 13.29 MiB/s, done.\n",
            "Resolving deltas: 100% (92065/92065), done.\n",
            "Updating files: 100% (28125/28125), done.\n",
            "x_data shape:  (2000, 1000, 1)\n"
          ]
        },
        {
          "output_type": "execute_result",
          "data": {
            "text/plain": [
              "array([[[201.32509767],\n",
              "        [201.29264308],\n",
              "        [201.2567427 ],\n",
              "        ...,\n",
              "        [201.05048642],\n",
              "        [200.92746245],\n",
              "        [200.79717031]],\n",
              "\n",
              "       [[201.32509767],\n",
              "        [201.29264308],\n",
              "        [201.2567427 ],\n",
              "        ...,\n",
              "        [201.05048642],\n",
              "        [200.92746245],\n",
              "        [200.79717031]],\n",
              "\n",
              "       [[201.32509767],\n",
              "        [201.29264308],\n",
              "        [201.2567427 ],\n",
              "        ...,\n",
              "        [201.05048642],\n",
              "        [200.92746245],\n",
              "        [200.79717031]],\n",
              "\n",
              "       ...,\n",
              "\n",
              "       [[201.32509767],\n",
              "        [201.29264308],\n",
              "        [201.2567427 ],\n",
              "        ...,\n",
              "        [201.05048642],\n",
              "        [200.92746245],\n",
              "        [200.79717031]],\n",
              "\n",
              "       [[201.32509767],\n",
              "        [201.29264308],\n",
              "        [201.2567427 ],\n",
              "        ...,\n",
              "        [201.05048642],\n",
              "        [191.11240651],\n",
              "        [200.79717031]],\n",
              "\n",
              "       [[201.32509767],\n",
              "        [201.29264308],\n",
              "        [201.2567427 ],\n",
              "        ...,\n",
              "        [201.05048642],\n",
              "        [200.92746245],\n",
              "        [200.79717031]]])"
            ]
          },
          "metadata": {},
          "execution_count": 2
        }
      ],
      "source": [
        "import os\n",
        "import numpy as np\n",
        "from sklearn.model_selection import train_test_split\n",
        "from sklearn.preprocessing import MinMaxScaler\n",
        "from keras.models import Sequential\n",
        "from keras.layers import Dense, Dropout\n",
        "\n",
        "!git clone https://github.com/hmyrcmn/KUL.git\n",
        "\n",
        "# Veri yükleme\n",
        "true_folder ='/content/KUL/BigData/TrueValues'\n",
        "X_data = []\n",
        "x2_data=[]\n",
        "Y_labels = []\n",
        "\n",
        "for filename in os.listdir(true_folder):\n",
        "    data = np.genfromtxt(os.path.join(true_folder, filename), delimiter=',')\n",
        "    # X_data.append(data)\n",
        "    X_data.append(data[:, 1:])  # Sadece virgül sonrasındaki değerleri ekledim\n",
        "    x2_data.append(data[:, 0:])\n",
        "    Y_labels.append(1)\n",
        "\n",
        "\n",
        "\n",
        "\n",
        "\n",
        "\n",
        "\n",
        "\n",
        "false_folder = '/content/KUL/BigData/FalseValues'\n",
        "for filename in os.listdir(false_folder):\n",
        "    data = np.genfromtxt(os.path.join(false_folder, filename), delimiter=',')\n",
        "    # X_data.append(data)\n",
        "    X_data.append(data[:, 1:])  # Sadece virgül sonrasındaki değerleri ekledim\n",
        "    x2_data.append(data[:, 0:])\n",
        "    Y_labels.append(0)\n",
        "\n",
        "\n",
        "\n",
        "\n",
        "X_data = np.array(X_data)\n",
        "Y_labels = np.array(Y_labels)\n",
        "x2_data=np.array(x2_data)\n",
        "print(\"x_data shape: \",X_data.shape)\n",
        "# X_data=X_data,x2_data\n",
        "X_data\n",
        "\n"
      ]
    },
    {
      "cell_type": "code",
      "source": [
        "# Verileri düzenleme ve normalleştirme\n",
        "num_samples = len(X_data)\n",
        "sequence_length = X_data.shape[1]\n",
        "num_features = X_data.shape[2]\n",
        "\n",
        "X_data_normalized = X_data.reshape(num_samples, sequence_length * num_features)\n",
        "\n",
        "# Eğitim ve test setlerine bölme\n",
        "\n",
        "\n",
        "X_train, X_test, y_train, y_test = train_test_split(X_data_normalized, Y_labels, test_size=0.2, random_state=42)\n",
        "\n",
        "print(\"X_train.shape:\",X_train.shape)\n",
        "X_train"
      ],
      "metadata": {
        "colab": {
          "base_uri": "https://localhost:8080/"
        },
        "id": "de6_iL8O1GH2",
        "outputId": "29d2bc35-f2e2-4d69-991c-5f42e878a7c1"
      },
      "execution_count": 20,
      "outputs": [
        {
          "output_type": "stream",
          "name": "stdout",
          "text": [
            "X_train.shape: (1600, 1000)\n"
          ]
        },
        {
          "output_type": "execute_result",
          "data": {
            "text/plain": [
              "array([[201.32509767, 201.29264308, 201.2567427 , ..., 201.05048642,\n",
              "        200.92746245, 200.79717031],\n",
              "       [201.32509767, 201.29264308, 201.2567427 , ..., 201.05048642,\n",
              "        200.92746245, 200.79717031],\n",
              "       [201.32509767, 201.29264308, 201.2567427 , ..., 201.05048642,\n",
              "        200.92746245, 200.79717031],\n",
              "       ...,\n",
              "       [201.32509767, 201.99802357, 201.2567427 , ..., 201.05048642,\n",
              "        200.92746245, 200.79717031],\n",
              "       [201.32509767, 201.29264308, 201.2567427 , ..., 201.05048642,\n",
              "        200.92746245, 200.79717031],\n",
              "       [194.22491762, 201.29264308, 201.2567427 , ..., 196.49646945,\n",
              "        200.92746245, 200.79717031]])"
            ]
          },
          "metadata": {},
          "execution_count": 20
        }
      ]
    },
    {
      "cell_type": "code",
      "source": [
        "\n",
        "print(y_train.shape)\n",
        "y_train"
      ],
      "metadata": {
        "id": "3gv_Um1akSmA",
        "outputId": "b3417029-d3e1-4578-e040-2b7cd154702b",
        "colab": {
          "base_uri": "https://localhost:8080/"
        }
      },
      "execution_count": 21,
      "outputs": [
        {
          "output_type": "stream",
          "name": "stdout",
          "text": [
            "(1600,)\n"
          ]
        },
        {
          "output_type": "execute_result",
          "data": {
            "text/plain": [
              "array([1, 1, 1, ..., 1, 0, 0])"
            ]
          },
          "metadata": {},
          "execution_count": 21
        }
      ]
    },
    {
      "cell_type": "markdown",
      "source": [
        "#deneme"
      ],
      "metadata": {
        "id": "SVfpCLXblhj-"
      }
    },
    {
      "cell_type": "code",
      "source": [
        "import numpy as np\n",
        "from sklearn.model_selection import train_test_split\n",
        "from tensorflow.keras.models import Sequential\n",
        "from tensorflow.keras.layers import Conv1D, MaxPooling1D, Flatten, Dense\n",
        "\n",
        "# Verileri uygun şekilde düzenleme ve ölçeklendirme\n",
        "X_train = np.expand_dims(X_train, axis=-1)\n",
        "y_train = np.array(y_train)\n",
        "\n",
        "# Veriyi eğitim ve test setlerine bölme\n",
        "X_train, X_test, y_train, y_test = train_test_split(X_train, y_train, test_size=0.2, random_state=42)\n",
        "model = Sequential()\n",
        "model.add(Conv1D(filters=32, kernel_size=3, activation='relu', input_shape=(1000, 1)))\n",
        "model.add(MaxPooling1D(pool_size=2))\n",
        "model.add(Flatten())\n",
        "model.add(Dense(1, activation='sigmoid'))\n",
        "\n",
        "model.compile(optimizer='adam', loss='binary_crossentropy', metrics=['accuracy'])\n",
        "\n",
        "model.fit(X_train, y_train, epochs=10, batch_size=32, validation_data=(X_test, y_test))\n"
      ],
      "metadata": {
        "id": "i9dUPedklhFR",
        "outputId": "cc2aa54c-cef2-4bc2-d17b-6ca8923aca68",
        "colab": {
          "base_uri": "https://localhost:8080/"
        }
      },
      "execution_count": 14,
      "outputs": [
        {
          "output_type": "stream",
          "name": "stdout",
          "text": [
            "Epoch 1/10\n",
            "40/40 [==============================] - 3s 58ms/step - loss: 16.6818 - accuracy: 0.5109 - val_loss: 6.9807 - val_accuracy: 0.4500\n",
            "Epoch 2/10\n",
            "40/40 [==============================] - 1s 34ms/step - loss: 3.8073 - accuracy: 0.5023 - val_loss: 5.9398 - val_accuracy: 0.4500\n",
            "Epoch 3/10\n",
            "40/40 [==============================] - 1s 30ms/step - loss: 2.1482 - accuracy: 0.5008 - val_loss: 0.7153 - val_accuracy: 0.5594\n",
            "Epoch 4/10\n",
            "40/40 [==============================] - 1s 19ms/step - loss: 0.7248 - accuracy: 0.5117 - val_loss: 0.7084 - val_accuracy: 0.4469\n",
            "Epoch 5/10\n",
            "40/40 [==============================] - 1s 20ms/step - loss: 0.7319 - accuracy: 0.5672 - val_loss: 0.9683 - val_accuracy: 0.4500\n",
            "Epoch 6/10\n",
            "40/40 [==============================] - 1s 16ms/step - loss: 0.7581 - accuracy: 0.5562 - val_loss: 0.8551 - val_accuracy: 0.4500\n",
            "Epoch 7/10\n",
            "40/40 [==============================] - 1s 20ms/step - loss: 0.6860 - accuracy: 0.6016 - val_loss: 0.7107 - val_accuracy: 0.5562\n",
            "Epoch 8/10\n",
            "40/40 [==============================] - 1s 19ms/step - loss: 0.7250 - accuracy: 0.5617 - val_loss: 0.6291 - val_accuracy: 0.8500\n",
            "Epoch 9/10\n",
            "40/40 [==============================] - 1s 16ms/step - loss: 0.9308 - accuracy: 0.5680 - val_loss: 0.8655 - val_accuracy: 0.5500\n",
            "Epoch 10/10\n",
            "40/40 [==============================] - 1s 19ms/step - loss: 0.5863 - accuracy: 0.7344 - val_loss: 0.4721 - val_accuracy: 0.8625\n"
          ]
        },
        {
          "output_type": "execute_result",
          "data": {
            "text/plain": [
              "<keras.src.callbacks.History at 0x7a22a62ce0b0>"
            ]
          },
          "metadata": {},
          "execution_count": 14
        }
      ]
    },
    {
      "cell_type": "code",
      "source": [],
      "metadata": {
        "id": "hCvfa8MslhCA"
      },
      "execution_count": null,
      "outputs": []
    },
    {
      "cell_type": "code",
      "source": [
        "from keras.models import Sequential\n",
        "from keras.layers import Dense, Flatten\n",
        "from keras.callbacks import TensorBoard\n",
        "import tensorflow as tf\n",
        "import numpy as np\n",
        "from datetime import datetime\n",
        "\n",
        "\n",
        "# TensorBoard için bir log dizini oluşturun\n",
        "log_dir = \"logs/fit/\" + datetime.now().strftime(\"%Y%m%d-%H%M%S\")\n",
        "print(f\"TensorBoard Link: https://tensorboard.dev/experiment/{log_dir}\")\n",
        "\n",
        "# TensorBoard Callback'ini oluşturun\n",
        "tensorboard_callback = tf.keras.callbacks.TensorBoard(log_dir=log_dir, histogram_freq=1)\n",
        "\n",
        "# Model oluşturma\n",
        "model = Sequential()\n",
        "model.add(Flatten(input_shape=(1000, 1)))\n",
        "model.add(Dense(100, activation='relu'))\n",
        "model.add(Dense(100, activation='sigmoid'))\n",
        "model.add(Dense(2, activation='softmax'))\n",
        "\n",
        "# Model derleme\n",
        "model.compile(optimizer='Nadam', loss='mean_squared_error', metrics=['mse','accuracy'])\n",
        "\n",
        "# Model özetini yazdırma\n",
        "model.summary()\n",
        "\n",
        "# Modeli eğitme ve TensorBoard geri çağırımını kullanma\n",
        "model.fit(X_train, y_train, epochs=50, batch_size=128, validation_split=0.2, callbacks=[tensorboard_callback])\n",
        "\n",
        "# Diğer değerlendirmeleri yapma ve sonuçları yazdırma\n",
        "test_loss, test_mse, test_acc = model.evaluate(X_test, y_test)\n",
        "print(f'Test MSE: {test_mse}, Test Accuracy: {test_acc}')\n",
        "\n",
        "# Model özetini yazdırma\n",
        "model.summary()\n",
        "\n",
        "# Test seti üzerinde tahminler yapma\n",
        "y_pred_probabilities = model.predict(X_test)\n",
        "y_pred_classes = np.argmax(y_pred_probabilities, axis=1)\n",
        "\n",
        "# Tahmin edilen sınıfları ve olasılıkları yazdırma\n",
        "for i in range(5):\n",
        "    print(f\"Actual Class: {y_test[i]}, Predicted Class: {y_pred_classes[i]}, Probabilities: {y_pred_probabilities[i]}\")\n",
        "\n",
        "\n",
        "\n",
        "log_dir = \"logs/fit/\" + datetime.now().strftime(\"%Y%m%d-%H%M%S\")\n",
        "tensorboard_callback = tf.keras.callbacks.TensorBoard(log_dir=log_dir, histogram_freq=1)\n",
        "model.fit(X_train, y_train, epochs=60, batch_size=128, validation_split=0.2, callbacks=[tensorboard_callback])\n",
        "%load_ext tensorboard\n",
        "%tensorboard --logdir logs/fit\n",
        "\n",
        "\n",
        "\n"
      ],
      "metadata": {
        "id": "OO1DQMk81GEG"
      },
      "execution_count": null,
      "outputs": []
    },
    {
      "cell_type": "markdown",
      "source": [
        "# confusion matrix"
      ],
      "metadata": {
        "id": "W6CncJhvoWqr"
      }
    },
    {
      "cell_type": "code",
      "source": [
        "from sklearn.metrics import confusion_matrix, classification_report\n",
        "import seaborn as sns\n",
        "import matplotlib.pyplot as plt\n",
        "\n",
        "# Modelin tahminlerini alın\n",
        "y_pred = model.predict(X_test)\n",
        "y_pred_binary = (y_pred > 0.5).astype(int)\n",
        "\n",
        "# Confusion matrix hesaplayın\n",
        "cm = confusion_matrix(y_test, y_pred_binary)\n",
        "\n",
        "# Confusion matrix'i görselleştirme\n",
        "plt.figure(figsize=(8, 6))\n",
        "sns.heatmap(cm, annot=True, fmt='d', cmap='Blues', cbar=False,\n",
        "            xticklabels=['Normal', 'Arızalı'], yticklabels=['Normal', 'Arızalı'])\n",
        "plt.xlabel('Tahmin Edilen Etiket')\n",
        "plt.ylabel('Gerçek Etiket')\n",
        "plt.title('Confusion Matrix')\n",
        "plt.show()\n",
        "\n",
        "# Sınıflandırma raporu\n",
        "print(\"\\nSınıflandırma Raporu:\\n\", classification_report(y_test, y_pred_binary))\n"
      ],
      "metadata": {
        "id": "OMuf5McHomqi",
        "outputId": "d71f25c2-a600-4694-a8aa-0bb81706c3b8",
        "colab": {
          "base_uri": "https://localhost:8080/",
          "height": 772
        }
      },
      "execution_count": 16,
      "outputs": [
        {
          "output_type": "stream",
          "name": "stdout",
          "text": [
            "10/10 [==============================] - 0s 14ms/step\n"
          ]
        },
        {
          "output_type": "display_data",
          "data": {
            "text/plain": [
              "<Figure size 800x600 with 1 Axes>"
            ],
            "image/png": "[encoded data removed]"
          },
          "metadata": {}
        },
        {
          "output_type": "stream",
          "name": "stdout",
          "text": [
            "\n",
            "Sınıflandırma Raporu:\n",
            "               precision    recall  f1-score   support\n",
            "\n",
            "           0       1.00      0.69      0.82       144\n",
            "           1       0.80      1.00      0.89       176\n",
            "\n",
            "    accuracy                           0.86       320\n",
            "   macro avg       0.90      0.85      0.85       320\n",
            "weighted avg       0.89      0.86      0.86       320\n",
            "\n"
          ]
        }
      ]
    },
    {
      "cell_type": "code",
      "source": [
        "import seaborn as sns\n",
        "import matplotlib.pyplot as plt\n",
        "from sklearn.metrics import confusion_matrix\n",
        "\n",
        "# Modelin tahminlerini alın\n",
        "y_pred_proba = model.predict(X_test)\n",
        "y_pred = (y_pred_proba[:, 1] > 0.5).astype(int)  # Eşik değeri üzerinden sınıflara dönüştürme\n",
        "\n",
        "# Confusion matrix oluşturun\n",
        "conf_matrix = confusion_matrix(y_test, y_pred)\n",
        "\n",
        "# Confusion matrix'i seaborn ile görselleştirme\n",
        "plt.figure(figsize=(8, 6))\n",
        "sns.heatmap(conf_matrix, annot=True, fmt='d', cmap='Reds', xticklabels=['0', '1'], yticklabels=['0', '1'])\n",
        "plt.title('Confusion Matrix')\n",
        "plt.xlabel('Predicted')\n",
        "plt.ylabel('True')\n",
        "plt.show()\n",
        "\n",
        "\n",
        "\n"
      ],
      "metadata": {
        "id": "2uEyOBlz1GBY"
      },
      "execution_count": null,
      "outputs": []
    },
    {
      "cell_type": "code",
      "source": [
        "import os\n",
        "import numpy as np\n",
        "from sklearn.model_selection import train_test_split\n",
        "from sklearn.preprocessing import MinMaxScaler\n",
        "from keras.models import Sequential\n",
        "from keras.layers import Dense, Dropout\n",
        "\n",
        "# !git clone https://github.com/hmyrcmn/KUL.git\n",
        "\n",
        "# Veri yükleme\n",
        "true_folder = '/content/KUL/BigData/TrueValues'\n",
        "X_data1 = []\n",
        "X_data2 = []\n",
        "\n",
        "Y_labels = []\n",
        "Y_labels2 = []\n",
        "\n",
        "\n",
        "for filename in os.listdir(true_folder):\n",
        "    data = np.genfromtxt(os.path.join(true_folder, filename), delimiter=',')\n",
        "    # X_data.append(data)\n",
        "    X_data1.append(data[:, 1:])  # Sadece virgül sonrasındaki değerleri ekledim\n",
        "\n",
        "    Y_labels.append(1)\n",
        "\n",
        "false_folder = '/content/KUL/BigData/FalseValues'\n",
        "for filename in os.listdir(false_folder):\n",
        "    data = np.genfromtxt(os.path.join(false_folder, filename), delimiter=',')\n",
        "    # X_data.append(data)\n",
        "    X_data2.append(data[:, 1:])  # Sadece virgül sonrasındaki değerleri ekledim\n",
        "\n",
        "    Y_labels2.append(0)\n",
        "\n",
        "X_data1 = np.array(X_data1)\n",
        "X_data2 = np.array(X_data2)\n",
        "\n",
        "Y_labels = np.array(Y_labels)\n",
        "Y_labels2 = np.array(Y_labels2)\n"
      ],
      "metadata": {
        "id": "efCTl3w91rjT"
      },
      "execution_count": null,
      "outputs": []
    },
    {
      "cell_type": "code",
      "source": [],
      "metadata": {
        "id": "DOpkYHOV1reF"
      },
      "execution_count": null,
      "outputs": []
    },
    {
      "cell_type": "markdown",
      "source": [
        "# new\n"
      ],
      "metadata": {
        "id": "SmnSRXp4vsfv"
      }
    },
    {
      "cell_type": "code",
      "source": [
        "import numpy as np\n",
        "from sklearn.model_selection import train_test_split\n",
        "from tensorflow.keras.models import Sequential\n",
        "from tensorflow.keras.layers import Conv1D, MaxPooling1D, Flatten, Dense\n",
        "\n",
        "# Verileri uygun şekilde düzenleme ve ölçeklendirme\n",
        "X_train = np.expand_dims(X_train, axis=-1)\n",
        "y_train = np.array(y_train)\n",
        "\n",
        "# Veriyi eğitim ve test setlerine bölme\n",
        "X_train, X_test, y_train, y_test = train_test_split(X_train, y_train, test_size=0.2, random_state=42)\n",
        "model = Sequential()\n",
        "model.add(Conv1D(filters=32, kernel_size=3, activation='relu', input_shape=(1000, 1)))\n",
        "model.add(MaxPooling1D(pool_size=2))\n",
        "model.add(Flatten())\n",
        "model.add(Dense(1, activation='sigmoid'))\n",
        "\n",
        "model.compile(optimizer='adam', loss='binary_crossentropy', metrics=['accuracy'])\n",
        "\n",
        "model.fit(X_train, y_train, epochs=100, batch_size=32, validation_data=(X_test, y_test))\n"
      ],
      "metadata": {
        "id": "uuf14C06vxGK",
        "outputId": "7738d3d5-b343-47d1-f6c0-ff4bc91b8a69",
        "colab": {
          "base_uri": "https://localhost:8080/"
        }
      },
      "execution_count": 22,
      "outputs": [
        {
          "output_type": "stream",
          "name": "stdout",
          "text": [
            "Epoch 1/100\n",
            "40/40 [==============================] - 2s 30ms/step - loss: 29.0441 - accuracy: 0.4977 - val_loss: 4.0627 - val_accuracy: 0.4500\n",
            "Epoch 2/100\n",
            "40/40 [==============================] - 1s 22ms/step - loss: 3.8064 - accuracy: 0.4789 - val_loss: 12.8297 - val_accuracy: 0.5500\n",
            "Epoch 3/100\n",
            "40/40 [==============================] - 1s 20ms/step - loss: 5.5996 - accuracy: 0.5008 - val_loss: 2.8576 - val_accuracy: 0.5500\n",
            "Epoch 4/100\n",
            "40/40 [==============================] - 1s 22ms/step - loss: 7.7351 - accuracy: 0.5133 - val_loss: 2.4355 - val_accuracy: 0.5500\n",
            "Epoch 5/100\n",
            "40/40 [==============================] - 1s 22ms/step - loss: 4.4902 - accuracy: 0.4898 - val_loss: 6.3633 - val_accuracy: 0.4500\n",
            "Epoch 6/100\n",
            "40/40 [==============================] - 1s 22ms/step - loss: 1.8877 - accuracy: 0.4742 - val_loss: 0.6788 - val_accuracy: 0.5813\n",
            "Epoch 7/100\n",
            "40/40 [==============================] - 1s 20ms/step - loss: 1.1812 - accuracy: 0.5141 - val_loss: 2.2257 - val_accuracy: 0.5500\n",
            "Epoch 8/100\n",
            "40/40 [==============================] - 1s 21ms/step - loss: 1.2342 - accuracy: 0.5203 - val_loss: 0.7465 - val_accuracy: 0.4500\n",
            "Epoch 9/100\n",
            "40/40 [==============================] - 1s 18ms/step - loss: 0.7391 - accuracy: 0.5742 - val_loss: 0.7607 - val_accuracy: 0.5500\n",
            "Epoch 10/100\n",
            "40/40 [==============================] - 1s 26ms/step - loss: 0.8836 - accuracy: 0.5266 - val_loss: 1.4253 - val_accuracy: 0.5500\n",
            "Epoch 11/100\n",
            "40/40 [==============================] - 1s 33ms/step - loss: 1.0168 - accuracy: 0.5445 - val_loss: 0.9103 - val_accuracy: 0.4500\n",
            "Epoch 12/100\n",
            "40/40 [==============================] - 1s 23ms/step - loss: 0.8734 - accuracy: 0.5531 - val_loss: 2.3319 - val_accuracy: 0.5500\n",
            "Epoch 13/100\n",
            "40/40 [==============================] - 1s 19ms/step - loss: 1.4672 - accuracy: 0.5164 - val_loss: 1.7789 - val_accuracy: 0.5500\n",
            "Epoch 14/100\n",
            "40/40 [==============================] - 1s 21ms/step - loss: 1.0604 - accuracy: 0.5531 - val_loss: 1.2920 - val_accuracy: 0.4500\n",
            "Epoch 15/100\n",
            "40/40 [==============================] - 1s 22ms/step - loss: 0.8011 - accuracy: 0.5258 - val_loss: 0.6538 - val_accuracy: 0.5750\n",
            "Epoch 16/100\n",
            "40/40 [==============================] - 1s 20ms/step - loss: 0.7244 - accuracy: 0.5570 - val_loss: 0.6269 - val_accuracy: 0.5969\n",
            "Epoch 17/100\n",
            "40/40 [==============================] - 1s 19ms/step - loss: 0.7865 - accuracy: 0.5266 - val_loss: 0.7958 - val_accuracy: 0.5500\n",
            "Epoch 18/100\n",
            "40/40 [==============================] - 1s 20ms/step - loss: 0.6167 - accuracy: 0.7047 - val_loss: 0.5771 - val_accuracy: 0.8750\n",
            "Epoch 19/100\n",
            "40/40 [==============================] - 1s 22ms/step - loss: 0.6471 - accuracy: 0.6273 - val_loss: 0.5583 - val_accuracy: 0.7531\n",
            "Epoch 20/100\n",
            "40/40 [==============================] - 1s 23ms/step - loss: 0.7239 - accuracy: 0.5891 - val_loss: 0.5846 - val_accuracy: 0.6781\n",
            "Epoch 21/100\n",
            "40/40 [==============================] - 1s 20ms/step - loss: 0.6880 - accuracy: 0.5992 - val_loss: 0.5529 - val_accuracy: 0.8062\n",
            "Epoch 22/100\n",
            "40/40 [==============================] - 1s 19ms/step - loss: 0.6151 - accuracy: 0.6609 - val_loss: 0.6575 - val_accuracy: 0.4500\n",
            "Epoch 23/100\n",
            "40/40 [==============================] - 1s 17ms/step - loss: 0.6074 - accuracy: 0.6180 - val_loss: 0.6409 - val_accuracy: 0.4500\n",
            "Epoch 24/100\n",
            "40/40 [==============================] - 1s 22ms/step - loss: 0.7644 - accuracy: 0.5406 - val_loss: 1.1048 - val_accuracy: 0.4500\n",
            "Epoch 25/100\n",
            "40/40 [==============================] - 1s 31ms/step - loss: 0.7260 - accuracy: 0.5609 - val_loss: 0.5482 - val_accuracy: 0.9625\n",
            "Epoch 26/100\n",
            "40/40 [==============================] - 1s 32ms/step - loss: 0.5919 - accuracy: 0.6672 - val_loss: 0.5993 - val_accuracy: 0.8156\n",
            "Epoch 27/100\n",
            "40/40 [==============================] - 1s 22ms/step - loss: 0.6430 - accuracy: 0.5875 - val_loss: 0.5649 - val_accuracy: 0.8094\n",
            "Epoch 28/100\n",
            "40/40 [==============================] - 1s 22ms/step - loss: 0.6028 - accuracy: 0.6727 - val_loss: 0.6781 - val_accuracy: 0.4500\n",
            "Epoch 29/100\n",
            "40/40 [==============================] - 1s 17ms/step - loss: 0.6028 - accuracy: 0.6773 - val_loss: 0.6332 - val_accuracy: 0.5781\n",
            "Epoch 30/100\n",
            "40/40 [==============================] - 1s 16ms/step - loss: 0.5869 - accuracy: 0.7531 - val_loss: 0.5509 - val_accuracy: 0.4500\n",
            "Epoch 31/100\n",
            "40/40 [==============================] - 1s 20ms/step - loss: 0.4995 - accuracy: 0.7703 - val_loss: 0.4801 - val_accuracy: 0.8875\n",
            "Epoch 32/100\n",
            "40/40 [==============================] - 1s 21ms/step - loss: 0.4774 - accuracy: 0.8594 - val_loss: 0.5153 - val_accuracy: 0.7281\n",
            "Epoch 33/100\n",
            "40/40 [==============================] - 1s 19ms/step - loss: 0.4625 - accuracy: 0.8383 - val_loss: 0.4431 - val_accuracy: 0.8813\n",
            "Epoch 34/100\n",
            "40/40 [==============================] - 1s 18ms/step - loss: 0.4729 - accuracy: 0.7930 - val_loss: 0.4859 - val_accuracy: 0.7875\n",
            "Epoch 35/100\n",
            "40/40 [==============================] - 1s 16ms/step - loss: 0.6268 - accuracy: 0.6258 - val_loss: 0.6328 - val_accuracy: 0.6375\n",
            "Epoch 36/100\n",
            "40/40 [==============================] - 1s 20ms/step - loss: 0.5184 - accuracy: 0.8391 - val_loss: 0.4527 - val_accuracy: 0.8594\n",
            "Epoch 37/100\n",
            "40/40 [==============================] - 1s 17ms/step - loss: 0.4204 - accuracy: 0.8844 - val_loss: 0.4376 - val_accuracy: 0.8750\n",
            "Epoch 38/100\n",
            "40/40 [==============================] - 1s 17ms/step - loss: 0.4542 - accuracy: 0.8539 - val_loss: 0.4242 - val_accuracy: 0.8625\n",
            "Epoch 39/100\n",
            "40/40 [==============================] - 1s 22ms/step - loss: 0.4669 - accuracy: 0.8445 - val_loss: 0.4346 - val_accuracy: 0.8031\n",
            "Epoch 40/100\n",
            "40/40 [==============================] - 1s 29ms/step - loss: 0.4778 - accuracy: 0.8133 - val_loss: 0.4448 - val_accuracy: 0.8875\n",
            "Epoch 41/100\n",
            "40/40 [==============================] - 1s 32ms/step - loss: 0.4229 - accuracy: 0.8703 - val_loss: 0.3983 - val_accuracy: 0.8344\n",
            "Epoch 42/100\n",
            "40/40 [==============================] - 1s 30ms/step - loss: 0.5321 - accuracy: 0.7852 - val_loss: 0.5170 - val_accuracy: 0.9656\n",
            "Epoch 43/100\n",
            "40/40 [==============================] - 1s 18ms/step - loss: 0.4049 - accuracy: 0.8891 - val_loss: 0.4273 - val_accuracy: 0.8094\n",
            "Epoch 44/100\n",
            "40/40 [==============================] - 1s 16ms/step - loss: 0.4031 - accuracy: 0.8641 - val_loss: 0.4297 - val_accuracy: 0.8938\n",
            "Epoch 45/100\n",
            "40/40 [==============================] - 1s 19ms/step - loss: 0.3846 - accuracy: 0.8938 - val_loss: 0.4141 - val_accuracy: 0.9594\n",
            "Epoch 46/100\n",
            "40/40 [==============================] - 1s 17ms/step - loss: 0.3681 - accuracy: 0.8914 - val_loss: 0.3798 - val_accuracy: 0.8719\n",
            "Epoch 47/100\n",
            "40/40 [==============================] - 1s 16ms/step - loss: 0.3927 - accuracy: 0.8594 - val_loss: 0.3944 - val_accuracy: 0.8781\n",
            "Epoch 48/100\n",
            "40/40 [==============================] - 1s 20ms/step - loss: 0.4118 - accuracy: 0.8828 - val_loss: 0.4027 - val_accuracy: 0.9250\n",
            "Epoch 49/100\n",
            "40/40 [==============================] - 1s 22ms/step - loss: 0.3760 - accuracy: 0.8852 - val_loss: 0.3790 - val_accuracy: 0.8687\n",
            "Epoch 50/100\n",
            "40/40 [==============================] - 1s 23ms/step - loss: 0.3792 - accuracy: 0.8852 - val_loss: 0.3906 - val_accuracy: 0.9500\n",
            "Epoch 51/100\n",
            "40/40 [==============================] - 1s 20ms/step - loss: 0.3267 - accuracy: 0.8961 - val_loss: 0.3393 - val_accuracy: 0.8781\n",
            "Epoch 52/100\n",
            "40/40 [==============================] - 1s 20ms/step - loss: 0.3514 - accuracy: 0.8875 - val_loss: 0.3933 - val_accuracy: 0.9563\n",
            "Epoch 53/100\n",
            "40/40 [==============================] - 1s 22ms/step - loss: 0.3467 - accuracy: 0.8945 - val_loss: 0.3388 - val_accuracy: 0.8875\n",
            "Epoch 54/100\n",
            "40/40 [==============================] - 1s 19ms/step - loss: 0.3310 - accuracy: 0.8992 - val_loss: 0.3523 - val_accuracy: 0.8938\n",
            "Epoch 55/100\n",
            "40/40 [==============================] - 1s 27ms/step - loss: 0.3261 - accuracy: 0.8906 - val_loss: 0.3387 - val_accuracy: 0.9312\n",
            "Epoch 56/100\n",
            "40/40 [==============================] - 1s 37ms/step - loss: 0.3291 - accuracy: 0.8984 - val_loss: 0.3349 - val_accuracy: 0.8813\n",
            "Epoch 57/100\n",
            "40/40 [==============================] - 2s 48ms/step - loss: 0.3746 - accuracy: 0.8727 - val_loss: 0.6498 - val_accuracy: 0.5875\n",
            "Epoch 58/100\n",
            "40/40 [==============================] - 1s 22ms/step - loss: 0.6330 - accuracy: 0.8547 - val_loss: 0.5620 - val_accuracy: 0.9656\n",
            "Epoch 59/100\n",
            "40/40 [==============================] - 1s 21ms/step - loss: 0.4353 - accuracy: 0.9148 - val_loss: 0.4518 - val_accuracy: 0.9750\n",
            "Epoch 60/100\n",
            "40/40 [==============================] - 1s 22ms/step - loss: 0.4014 - accuracy: 0.9828 - val_loss: 0.4364 - val_accuracy: 0.9719\n",
            "Epoch 61/100\n",
            "40/40 [==============================] - 1s 20ms/step - loss: 0.3916 - accuracy: 0.9875 - val_loss: 0.4273 - val_accuracy: 0.9688\n",
            "Epoch 62/100\n",
            "40/40 [==============================] - 1s 20ms/step - loss: 0.3846 - accuracy: 0.9844 - val_loss: 0.4189 - val_accuracy: 0.9688\n",
            "Epoch 63/100\n",
            "40/40 [==============================] - 1s 21ms/step - loss: 0.3774 - accuracy: 0.9789 - val_loss: 0.4111 - val_accuracy: 0.9688\n",
            "Epoch 64/100\n",
            "40/40 [==============================] - 1s 21ms/step - loss: 0.3706 - accuracy: 0.9703 - val_loss: 0.4040 - val_accuracy: 0.9688\n",
            "Epoch 65/100\n",
            "40/40 [==============================] - 1s 21ms/step - loss: 0.3642 - accuracy: 0.9680 - val_loss: 0.3965 - val_accuracy: 0.9656\n",
            "Epoch 66/100\n",
            "40/40 [==============================] - 1s 19ms/step - loss: 0.3591 - accuracy: 0.9648 - val_loss: 0.3907 - val_accuracy: 0.9656\n",
            "Epoch 67/100\n",
            "40/40 [==============================] - 1s 19ms/step - loss: 0.3531 - accuracy: 0.9617 - val_loss: 0.3835 - val_accuracy: 0.9656\n",
            "Epoch 68/100\n",
            "40/40 [==============================] - 1s 16ms/step - loss: 0.3471 - accuracy: 0.9594 - val_loss: 0.3777 - val_accuracy: 0.9656\n",
            "Epoch 69/100\n",
            "40/40 [==============================] - 1s 21ms/step - loss: 0.3425 - accuracy: 0.9578 - val_loss: 0.3715 - val_accuracy: 0.9625\n",
            "Epoch 70/100\n",
            "40/40 [==============================] - 1s 30ms/step - loss: 0.3373 - accuracy: 0.9578 - val_loss: 0.3669 - val_accuracy: 0.9625\n",
            "Epoch 71/100\n",
            "40/40 [==============================] - 1s 32ms/step - loss: 0.3326 - accuracy: 0.9578 - val_loss: 0.3613 - val_accuracy: 0.9625\n",
            "Epoch 72/100\n",
            "40/40 [==============================] - 1s 22ms/step - loss: 0.3279 - accuracy: 0.9563 - val_loss: 0.3569 - val_accuracy: 0.9625\n",
            "Epoch 73/100\n",
            "40/40 [==============================] - 1s 17ms/step - loss: 0.3233 - accuracy: 0.9555 - val_loss: 0.3511 - val_accuracy: 0.9594\n",
            "Epoch 74/100\n",
            "40/40 [==============================] - 1s 16ms/step - loss: 0.3190 - accuracy: 0.9547 - val_loss: 0.3465 - val_accuracy: 0.9594\n",
            "Epoch 75/100\n",
            "40/40 [==============================] - 1s 16ms/step - loss: 0.3161 - accuracy: 0.9539 - val_loss: 0.3429 - val_accuracy: 0.9594\n",
            "Epoch 76/100\n",
            "40/40 [==============================] - 1s 20ms/step - loss: 0.3116 - accuracy: 0.9523 - val_loss: 0.3419 - val_accuracy: 0.9531\n",
            "Epoch 77/100\n",
            "40/40 [==============================] - 1s 21ms/step - loss: 0.3081 - accuracy: 0.9500 - val_loss: 0.3330 - val_accuracy: 0.9563\n",
            "Epoch 78/100\n",
            "40/40 [==============================] - 1s 22ms/step - loss: 0.3038 - accuracy: 0.9500 - val_loss: 0.3296 - val_accuracy: 0.9594\n",
            "Epoch 79/100\n",
            "40/40 [==============================] - 1s 21ms/step - loss: 0.3004 - accuracy: 0.9500 - val_loss: 0.3251 - val_accuracy: 0.9563\n",
            "Epoch 80/100\n",
            "40/40 [==============================] - 1s 22ms/step - loss: 0.2971 - accuracy: 0.9484 - val_loss: 0.3218 - val_accuracy: 0.9563\n",
            "Epoch 81/100\n",
            "40/40 [==============================] - 1s 16ms/step - loss: 0.2942 - accuracy: 0.9484 - val_loss: 0.3192 - val_accuracy: 0.9563\n",
            "Epoch 82/100\n",
            "40/40 [==============================] - 1s 16ms/step - loss: 0.2905 - accuracy: 0.9477 - val_loss: 0.3147 - val_accuracy: 0.9563\n",
            "Epoch 83/100\n",
            "40/40 [==============================] - 1s 16ms/step - loss: 0.2870 - accuracy: 0.9461 - val_loss: 0.3105 - val_accuracy: 0.9563\n",
            "Epoch 84/100\n",
            "40/40 [==============================] - 1s 16ms/step - loss: 0.2837 - accuracy: 0.9469 - val_loss: 0.3073 - val_accuracy: 0.9531\n",
            "Epoch 85/100\n",
            "40/40 [==============================] - 1s 26ms/step - loss: 0.2817 - accuracy: 0.9469 - val_loss: 0.3037 - val_accuracy: 0.9500\n",
            "Epoch 86/100\n",
            "40/40 [==============================] - 1s 29ms/step - loss: 0.2784 - accuracy: 0.9453 - val_loss: 0.3007 - val_accuracy: 0.9500\n",
            "Epoch 87/100\n",
            "40/40 [==============================] - 1s 28ms/step - loss: 0.2770 - accuracy: 0.9430 - val_loss: 0.3025 - val_accuracy: 0.9563\n",
            "Epoch 88/100\n",
            "40/40 [==============================] - 1s 21ms/step - loss: 0.2733 - accuracy: 0.9453 - val_loss: 0.2970 - val_accuracy: 0.9531\n",
            "Epoch 89/100\n",
            "40/40 [==============================] - 1s 21ms/step - loss: 0.2716 - accuracy: 0.9453 - val_loss: 0.2941 - val_accuracy: 0.9531\n",
            "Epoch 90/100\n",
            "40/40 [==============================] - 1s 22ms/step - loss: 0.2694 - accuracy: 0.9422 - val_loss: 0.2889 - val_accuracy: 0.9500\n",
            "Epoch 91/100\n",
            "40/40 [==============================] - 1s 19ms/step - loss: 0.2652 - accuracy: 0.9445 - val_loss: 0.2875 - val_accuracy: 0.9500\n",
            "Epoch 92/100\n",
            "40/40 [==============================] - 1s 16ms/step - loss: 0.2625 - accuracy: 0.9438 - val_loss: 0.2924 - val_accuracy: 0.9563\n",
            "Epoch 93/100\n",
            "40/40 [==============================] - 1s 19ms/step - loss: 0.2608 - accuracy: 0.9461 - val_loss: 0.2817 - val_accuracy: 0.9500\n",
            "Epoch 94/100\n",
            "40/40 [==============================] - 1s 19ms/step - loss: 0.2583 - accuracy: 0.9414 - val_loss: 0.2809 - val_accuracy: 0.9531\n",
            "Epoch 95/100\n",
            "40/40 [==============================] - 2s 42ms/step - loss: 0.2564 - accuracy: 0.9414 - val_loss: 0.2799 - val_accuracy: 0.9406\n",
            "Epoch 96/100\n",
            "40/40 [==============================] - 2s 48ms/step - loss: 0.2538 - accuracy: 0.9391 - val_loss: 0.2738 - val_accuracy: 0.9500\n",
            "Epoch 97/100\n",
            "40/40 [==============================] - 2s 47ms/step - loss: 0.2508 - accuracy: 0.9430 - val_loss: 0.2725 - val_accuracy: 0.9438\n",
            "Epoch 98/100\n",
            "40/40 [==============================] - 2s 50ms/step - loss: 0.2491 - accuracy: 0.9422 - val_loss: 0.2695 - val_accuracy: 0.9500\n",
            "Epoch 99/100\n",
            "40/40 [==============================] - 2s 42ms/step - loss: 0.2458 - accuracy: 0.9445 - val_loss: 0.2658 - val_accuracy: 0.9500\n",
            "Epoch 100/100\n",
            "40/40 [==============================] - 2s 43ms/step - loss: 0.2445 - accuracy: 0.9422 - val_loss: 0.2644 - val_accuracy: 0.9438\n"
          ]
        },
        {
          "output_type": "execute_result",
          "data": {
            "text/plain": [
              "<keras.src.callbacks.History at 0x7a2292695e40>"
            ]
          },
          "metadata": {},
          "execution_count": 22
        }
      ]
    },
    {
      "cell_type": "markdown",
      "source": [
        "# confusion matrix"
      ],
      "metadata": {
        "id": "SBmuUdoBv1OH"
      }
    },
    {
      "cell_type": "code",
      "source": [
        "from sklearn.metrics import confusion_matrix, classification_report\n",
        "import seaborn as sns\n",
        "import matplotlib.pyplot as plt\n",
        "\n",
        "# Modelin tahminlerini alın\n",
        "y_pred = model.predict(X_test)\n",
        "y_pred_binary = (y_pred > 0.5).astype(int)\n",
        "\n",
        "# Confusion matrix hesaplayın\n",
        "cm = confusion_matrix(y_test, y_pred_binary)\n",
        "\n",
        "# Confusion matrix'i görselleştirme\n",
        "plt.figure(figsize=(8, 6))\n",
        "sns.heatmap(cm, annot=True, fmt='d', cmap='Blues', cbar=False,\n",
        "            xticklabels=['Normal', 'Arızalı'], yticklabels=['Normal', 'Arızalı'])\n",
        "plt.xlabel('Tahmin Edilen Etiket')\n",
        "plt.ylabel('Gerçek Etiket')\n",
        "plt.title('Confusion Matrix')\n",
        "plt.show()\n",
        "\n",
        "# Sınıflandırma raporu\n",
        "print(\"\\nSınıflandırma Raporu:\\n\", classification_report(y_test, y_pred_binary))\n"
      ],
      "metadata": {
        "id": "Y-0JzcuAv4be",
        "outputId": "4e669fd7-4e10-417a-981d-abfdefe4464c",
        "colab": {
          "base_uri": "https://localhost:8080/",
          "height": 772
        }
      },
      "execution_count": 23,
      "outputs": [
        {
          "output_type": "stream",
          "name": "stdout",
          "text": [
            "10/10 [==============================] - 1s 23ms/step\n"
          ]
        },
        {
          "output_type": "display_data",
          "data": {
            "text/plain": [
              "<Figure size 800x600 with 1 Axes>"
            ],
            "image/png": "[encoded data removed]"
          },
          "metadata": {}
        },
        {
          "output_type": "stream",
          "name": "stdout",
          "text": [
            "\n",
            "Sınıflandırma Raporu:\n",
            "               precision    recall  f1-score   support\n",
            "\n",
            "           0       1.00      0.88      0.93       144\n",
            "           1       0.91      1.00      0.95       176\n",
            "\n",
            "    accuracy                           0.94       320\n",
            "   macro avg       0.95      0.94      0.94       320\n",
            "weighted avg       0.95      0.94      0.94       320\n",
            "\n"
          ]
        }
      ]
    }
  ]
}