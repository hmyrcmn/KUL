{
  "nbformat": 4,
  "nbformat_minor": 0,
  "metadata": {
    "colab": {
      "provenance": [],
      "toc_visible": true,
      "authorship_tag": "ABX9TyNyruhV0r4Hr8+kJS3wHtNw",
      "include_colab_link": true
    },
    "kernelspec": {
      "name": "python3",
      "display_name": "Python 3"
    },
    "language_info": {
      "name": "python"
    }
  },
  "cells": [
    {
      "cell_type": "markdown",
      "metadata": {
        "id": "view-in-github",
        "colab_type": "text"
      },
      "source": [
        "<a href=\"https://colab.research.google.com/github/hmyrcmn/KUL/blob/main/suscess_sensor.ipynb\" target=\"_parent\"><img src=\"https://colab.research.google.com/assets/colab-badge.svg\" alt=\"Open In Colab\"/></a>"
      ]
    },
    {
      "cell_type": "code",
      "execution_count": 1,
      "metadata": {
        "colab": {
          "base_uri": "https://localhost:8080/"
        },
        "id": "n9d7SltlMJni",
        "outputId": "3f847cda-6aae-40f4-c0b9-8a1c304d86cd"
      },
      "outputs": [
        {
          "output_type": "stream",
          "name": "stdout",
          "text": [
            "Cloning into 'KUL'...\n",
            "remote: Enumerating objects: 104573, done.\u001b[K\n",
            "remote: Counting objects: 100% (34005/34005), done.\u001b[K\n",
            "remote: Compressing objects: 100% (4238/4238), done.\u001b[K\n",
            "remote: Total 104573 (delta 29777), reused 33991 (delta 29763), pack-reused 70568\u001b[K\n",
            "Receiving objects: 100% (104573/104573), 171.95 MiB | 17.64 MiB/s, done.\n",
            "Resolving deltas: 100% (100087/100087), done.\n",
            "Updating files: 100% (36152/36152), done.\n"
          ]
        }
      ],
      "source": [
        "import os\n",
        "import numpy as np\n",
        "from sklearn.model_selection import train_test_split\n",
        "from sklearn.preprocessing import MinMaxScaler\n",
        "from keras.models import Sequential\n",
        "from keras.layers import Dense, Dropout\n",
        "from sklearn.utils import shuffle\n",
        "\n",
        "!git clone https://github.com/hmyrcmn/KUL.git\n"
      ]
    },
    {
      "cell_type": "code",
      "source": [
        "import os\n",
        "import numpy as np\n",
        "from sklearn.model_selection import train_test_split\n",
        "from sklearn.preprocessing import MinMaxScaler\n",
        "from keras.models import Sequential\n",
        "from keras.layers import Dense, Dropout\n",
        "\n",
        "!git clone https://github.com/hmyrcmn/KUL.git\n",
        "\n",
        "# Veri yükleme\n",
        "true_folder ='/content/KUL/BigData/newData/trueVal'\n",
        "X_data = []\n",
        "\n",
        "Y_labels = []\n",
        "\n",
        "for filename in os.listdir(true_folder):\n",
        "    data = np.genfromtxt(os.path.join(true_folder, filename), delimiter=',')\n",
        "    # X_data.append(data)\n",
        "    X_data.append(data[:, 1:])  # Sadece virgül sonrasındaki değerleri ekledim\n",
        "\n",
        "    Y_labels.append(1)\n",
        "\n",
        "false_folder = '/content/KUL/BigData/newData/falseVal'\n",
        "for filename in os.listdir(false_folder):\n",
        "    data = np.genfromtxt(os.path.join(false_folder, filename), delimiter=',')\n",
        "    # X_data.append(data)\n",
        "    X_data.append(data[:, 1:])  # Sadece virgül sonrasındaki değerleri ekledim\n",
        "\n",
        "    Y_labels.append(0)\n",
        "\n",
        "\n",
        "\n",
        "\n",
        "X_data = np.array(X_data)\n",
        "Y_labels = np.array(Y_labels)\n",
        "\n",
        "# X_data ve Y_labels dizilerini karıştırın\n",
        "X_data, Y_labels = shuffle(X_data, Y_labels)\n",
        "\n",
        "\n",
        "print(\"x_data shape: \",X_data.shape)\n",
        "print(\"x_data 5: \",X_data[:1])\n",
        "print(\"Y_labels 5: \",Y_labels[:1])\n",
        "\n",
        "# X_data=X_data,x2_data\n",
        "X_data\n"
      ],
      "metadata": {
        "id": "omdPE0jdMd5U"
      },
      "execution_count": null,
      "outputs": []
    },
    {
      "cell_type": "code",
      "source": [
        "# Verileri düzenleme ve normalleştirme\n",
        "print(\"x_data shape: \",X_data.shape)\n",
        "\n",
        "num_samples = len(X_data)\n",
        "sequence_length = X_data.shape[1]\n",
        "num_features = X_data.shape[2]\n",
        "\n",
        "X_data_normalized = X_data.reshape(num_samples, sequence_length * num_features)#4000,1000 *1\n",
        "\n",
        "# Eğitim ve test setlerine bölme\n",
        "\n",
        "\n",
        "X_train, X_test, y_train, y_test = train_test_split(X_data_normalized, Y_labels, test_size=0.2, random_state=42)\n",
        "\n",
        "print(\"X_train.shape:\",X_train.shape)\n",
        "print(\"y_train:\",y_train.shape)\n"
      ],
      "metadata": {
        "colab": {
          "base_uri": "https://localhost:8080/"
        },
        "id": "fNA9ZnDVPI4q",
        "outputId": "07a4bcf1-4f9d-40c7-a221-71559e10a9d5"
      },
      "execution_count": 12,
      "outputs": [
        {
          "output_type": "stream",
          "name": "stdout",
          "text": [
            "x_data shape:  (4000, 1000, 1)\n",
            "X_train.shape: (3200, 1000)\n",
            "y_train: (3200,)\n"
          ]
        }
      ]
    },
    {
      "cell_type": "code",
      "source": [
        "import numpy as np\n",
        "import tensorflow as tf\n",
        "from tensorflow.keras.models import Sequential\n",
        "from tensorflow.keras.layers import Conv1D, MaxPooling1D, Flatten, Dense\n",
        "\n",
        "# Modeli oluştur\n",
        "model = Sequential([\n",
        "    Conv1D(filters=64, kernel_size=3, activation='relu', input_shape=(1000, 1)),\n",
        "    MaxPooling1D(pool_size=2),\n",
        "    Conv1D(filters=64, kernel_size=3, activation='relu'),\n",
        "    MaxPooling1D(pool_size=2),\n",
        "    Flatten(),\n",
        "    Dense(64, activation='relu'),\n",
        "    Dense(1, activation='sigmoid')\n",
        "])\n",
        "\n",
        "# Modeli derle\n",
        "model.compile(optimizer='adam', loss='binary_crossentropy', metrics=['accuracy'])\n",
        "\n",
        "# Modeli eğit\n",
        "model.fit(X_train, y_train, epochs=10, batch_size=32)\n",
        "\n",
        "# Modeli değerlendir\n",
        "loss, accuracy = model.evaluate(X_train, y_train)\n",
        "print(\"Accuracy: {:.2f}%\".format(accuracy * 100))"
      ],
      "metadata": {
        "colab": {
          "base_uri": "https://localhost:8080/"
        },
        "id": "mdNK-C8QTotz",
        "outputId": "0c5de50b-9f8e-4eb8-b022-22caaa669a0b"
      },
      "execution_count": 14,
      "outputs": [
        {
          "output_type": "stream",
          "name": "stdout",
          "text": [
            "Epoch 1/10\n",
            "100/100 [==============================] - 11s 100ms/step - loss: 4.0090 - accuracy: 0.8672\n",
            "Epoch 2/10\n",
            "100/100 [==============================] - 9s 90ms/step - loss: 0.0030 - accuracy: 1.0000\n",
            "Epoch 3/10\n",
            "100/100 [==============================] - 8s 77ms/step - loss: 0.0010 - accuracy: 1.0000\n",
            "Epoch 4/10\n",
            "100/100 [==============================] - 9s 93ms/step - loss: 5.4980e-04 - accuracy: 1.0000\n",
            "Epoch 5/10\n",
            "100/100 [==============================] - 8s 76ms/step - loss: 3.4531e-04 - accuracy: 1.0000\n",
            "Epoch 6/10\n",
            "100/100 [==============================] - 9s 90ms/step - loss: 2.3490e-04 - accuracy: 1.0000\n",
            "Epoch 7/10\n",
            "100/100 [==============================] - 9s 89ms/step - loss: 1.7128e-04 - accuracy: 1.0000\n",
            "Epoch 8/10\n",
            "100/100 [==============================] - 8s 77ms/step - loss: 1.3017e-04 - accuracy: 1.0000\n",
            "Epoch 9/10\n",
            "100/100 [==============================] - 9s 90ms/step - loss: 1.0259e-04 - accuracy: 1.0000\n",
            "Epoch 10/10\n",
            "100/100 [==============================] - 8s 81ms/step - loss: 8.2589e-05 - accuracy: 1.0000\n",
            "100/100 [==============================] - 4s 32ms/step - loss: 7.4440e-05 - accuracy: 1.0000\n",
            "Accuracy: 100.00%\n"
          ]
        }
      ]
    },
    {
      "cell_type": "markdown",
      "source": [
        "# test"
      ],
      "metadata": {
        "id": "OdlhTb3LU7Wq"
      }
    },
    {
      "cell_type": "code",
      "source": [
        "import os\n",
        "import numpy as np\n",
        "from sklearn.model_selection import train_test_split\n",
        "from sklearn.preprocessing import MinMaxScaler\n",
        "from keras.models import Sequential\n",
        "from keras.layers import Dense, Dropout\n",
        "\n",
        "!git clone https://github.com/hmyrcmn/KUL.git\n",
        "\n",
        "# Veri yükleme\n",
        "true_folder ='/content/KUL/BigData/newData/trues'\n",
        "X_data_test = []\n",
        "\n",
        "Y_labels_test = []\n",
        "\n",
        "for filename in os.listdir(true_folder):\n",
        "    data = np.genfromtxt(os.path.join(true_folder, filename), delimiter=',')\n",
        "    # X_data.append(data)\n",
        "    X_data_test.append(data[:, 1:])  # Sadece virgül sonrasındaki değerleri ekledim\n",
        "\n",
        "    Y_labels_test.append(1)\n",
        "\n",
        "false_folder = '/content/KUL/BigData/newData/falses'\n",
        "for filename in os.listdir(false_folder):\n",
        "    data = np.genfromtxt(os.path.join(false_folder, filename), delimiter=',')\n",
        "    # X_data.append(data)\n",
        "    X_data_test.append(data[:, 1:])  # Sadece virgül sonrasındaki değerleri ekledim\n",
        "\n",
        "    Y_labels_test.append(0)\n",
        "\n",
        "\n",
        "\n",
        "\n",
        "X_data_test = np.array(X_data_test)\n",
        "Y_labels_test = np.array(Y_labels_test)\n",
        "\n",
        "# X_data ve Y_labels dizilerini karıştırın\n",
        "X_data_test, Y_labels_test = shuffle(X_data_test, Y_labels_test)\n",
        "\n",
        "\n",
        "print(\"x_data shape: \",X_data_test.shape)\n",
        "# print(\"x_data 5: \",X_data_test[:1])\n",
        "print(\"Y_labels 5: \",Y_labels_test.shape)\n",
        "\n"
      ],
      "metadata": {
        "colab": {
          "base_uri": "https://localhost:8080/"
        },
        "id": "ZTr4RKHYU9RS",
        "outputId": "e78de8d8-eb25-4ddf-f5e6-4a35a4a70c03"
      },
      "execution_count": 19,
      "outputs": [
        {
          "output_type": "stream",
          "name": "stdout",
          "text": [
            "fatal: destination path 'KUL' already exists and is not an empty directory.\n",
            "x_data shape:  (21, 1000, 1)\n",
            "Y_labels 5:  [1 1 0 1 1 1 0 0 0 0 1]\n"
          ]
        }
      ]
    },
    {
      "cell_type": "code",
      "source": [
        "# Modeli tahmin et\n",
        "predictions = model.predict(X_data_test)\n",
        "\n",
        "# Tahminleri yazdır\n",
        "# print(\"Tahminler:\", predictions)\n",
        "print(\"Y_labels 5: \",Y_labels_test)\n",
        "threshold = 0.5\n",
        "predictions_classes = (predictions > threshold).astype(int)\n",
        "\n",
        "print(\"Tahminlerin Sınıfları:\", predictions_classes.flatten())\n",
        "\n"
      ],
      "metadata": {
        "colab": {
          "base_uri": "https://localhost:8080/"
        },
        "id": "3iPtQH4OWMzP",
        "outputId": "6f4c9997-f411-4900-caea-30dc4579f65c"
      },
      "execution_count": 21,
      "outputs": [
        {
          "output_type": "stream",
          "name": "stdout",
          "text": [
            "1/1 [==============================] - 0s 35ms/step\n",
            "Y_labels 5:  [1 1 0 1 1 1 0 0 0 0 1 0 0 1 0 0 1 1 0 0 1]\n",
            "Tahminlerin Sınıfları: [1 1 0 1 1 1 0 0 0 0 1 0 0 1 0 0 1 1 0 0 1]\n"
          ]
        }
      ]
    },
    {
      "cell_type": "code",
      "source": [
        "from sklearn.metrics import confusion_matrix\n",
        "\n",
        "# Gerçek sınıflar ile tahmin edilen sınıflar arasındaki karşılaştırma\n",
        "conf_matrix = confusion_matrix(Y_labels_test, predictions_classes)\n",
        "\n",
        "print(\"Konfüzyon Matrisi:\")\n",
        "print(conf_matrix)\n",
        "import seaborn as sns\n",
        "import matplotlib.pyplot as plt\n",
        "\n",
        "# Konfüzyon matrisi görselleştirme\n",
        "plt.figure(figsize=(8, 6))\n",
        "sns.heatmap(conf_matrix, annot=True, cmap='Blues', fmt='g')\n",
        "plt.xlabel('Tahmin Edilen Sınıf')\n",
        "plt.ylabel('Gerçek Sınıf')\n",
        "plt.title('Konfüzyon Matrisi')\n",
        "plt.show()\n"
      ],
      "metadata": {
        "colab": {
          "base_uri": "https://localhost:8080/",
          "height": 619
        },
        "id": "CtZMEg-bWsrP",
        "outputId": "cffa9324-247a-4f12-d194-64d6229b9266"
      },
      "execution_count": 24,
      "outputs": [
        {
          "output_type": "stream",
          "name": "stdout",
          "text": [
            "Konfüzyon Matrisi:\n",
            "[[11  0]\n",
            " [ 0 10]]\n"
          ]
        },
        {
          "output_type": "display_data",
          "data": {
            "text/plain": [
              "<Figure size 800x600 with 2 Axes>"
            ],
            "image/png": "[encoded data removed]"
          },
          "metadata": {}
        }
      ]
    },
    {
      "cell_type": "code",
      "source": [
        "print(\"Y_labels 5: \",Y_labels_test.shape)\n"
      ],
      "metadata": {
        "colab": {
          "base_uri": "https://localhost:8080/"
        },
        "id": "lsgvotRaW4aw",
        "outputId": "9a240f0b-1e80-4818-9c22-da82d45213e0"
      },
      "execution_count": 23,
      "outputs": [
        {
          "output_type": "stream",
          "name": "stdout",
          "text": [
            "Y_labels 5:  (21,)\n"
          ]
        }
      ]
    },
    {
      "cell_type": "markdown",
      "source": [
        "# test 2"
      ],
      "metadata": {
        "id": "UXF7duzOb2F9"
      }
    },
    {
      "cell_type": "code",
      "source": [
        "\n",
        "!git clone https://github.com/hmyrcmn/KUL.git"
      ],
      "metadata": {
        "colab": {
          "base_uri": "https://localhost:8080/"
        },
        "id": "IDQsxqo9cBug",
        "outputId": "a4a23dd4-054a-4ede-ffe6-8803d43c236e"
      },
      "execution_count": 30,
      "outputs": [
        {
          "output_type": "stream",
          "name": "stdout",
          "text": [
            "fatal: destination path 'KUL' already exists and is not an empty directory.\n"
          ]
        }
      ]
    },
    {
      "cell_type": "code",
      "source": [
        "import os\n",
        "import numpy as np\n",
        "from sklearn.model_selection import train_test_split\n",
        "from sklearn.preprocessing import MinMaxScaler\n",
        "from keras.models import Sequential\n",
        "from keras.layers import Dense, Dropout\n",
        "\n",
        "!git clone https://github.com/hmyrcmn/KUL.git\n",
        "\n",
        "# Veri yükleme\n",
        "true_folder ='/content/KUL/BigData/newData/test/tt'\n",
        "X_data_test = []\n",
        "\n",
        "Y_labels_test = []\n",
        "\n",
        "for filename in os.listdir(true_folder):\n",
        "    data = np.genfromtxt(os.path.join(true_folder, filename), delimiter=',')\n",
        "    # X_data.append(data)\n",
        "    X_data_test.append(data[:, 1:])  # Sadece virgül sonrasındaki değerleri ekledim\n",
        "\n",
        "    Y_labels_test.append(1)\n",
        "\n",
        "false_folder = '/content/KUL/BigData/newData/test/ff'\n",
        "for filename in os.listdir(false_folder):\n",
        "    data = np.genfromtxt(os.path.join(false_folder, filename), delimiter=',')\n",
        "    # X_data.append(data)\n",
        "    X_data_test.append(data[:, 1:])  # Sadece virgül sonrasındaki değerleri ekledim\n",
        "\n",
        "    Y_labels_test.append(0)\n",
        "\n",
        "\n",
        "\n",
        "\n",
        "X_data_test = np.array(X_data_test)\n",
        "Y_labels_test = np.array(Y_labels_test)\n",
        "\n",
        "# X_data ve Y_labels dizilerini karıştırın\n",
        "X_data_test, Y_labels_test = shuffle(X_data_test, Y_labels_test)\n",
        "\n",
        "\n",
        "print(\"x_data shape: \",X_data_test.shape)\n",
        "# print(\"x_data 5: \",X_data_test[:1])\n",
        "print(\"Y_labels 5: \",Y_labels_test.shape)\n"
      ],
      "metadata": {
        "id": "wE--MPbbb13g"
      },
      "execution_count": null,
      "outputs": []
    },
    {
      "cell_type": "markdown",
      "source": [
        "# yeni egitim"
      ],
      "metadata": {
        "id": "-WJjST8DXhs3"
      }
    },
    {
      "cell_type": "code",
      "source": [
        "import numpy as np\n",
        "import tensorflow as tf\n",
        "from tensorflow.keras.models import Sequential\n",
        "from tensorflow.keras.layers import Conv1D, MaxPooling1D, Flatten, Dense\n",
        "\n",
        "# Modeli oluştur\n",
        "model = Sequential([\n",
        "    Conv1D(filters=64, kernel_size=3, activation='relu', input_shape=(1000, 1)),\n",
        "    MaxPooling1D(pool_size=2),\n",
        "    Conv1D(filters=64, kernel_size=3, activation='relu'),\n",
        "    MaxPooling1D(pool_size=2),\n",
        "    Flatten(),\n",
        "    Dense(64, activation='relu'),\n",
        "    Dense(1, activation='sigmoid')\n",
        "])\n",
        "\n",
        "# Modeli derle\n",
        "model.compile(optimizer='adam', loss='binary_crossentropy', metrics=['accuracy'])\n",
        "\n",
        "# Modeli eğit\n",
        "model.fit(X_train, y_train, epochs=10, batch_size=4)\n",
        "\n",
        "# Modeli değerlendir\n",
        "loss, accuracy = model.evaluate(X_train, y_train)\n",
        "print(\"Accuracy: {:.2f}%\".format(accuracy * 100))"
      ],
      "metadata": {
        "colab": {
          "base_uri": "https://localhost:8080/"
        },
        "id": "9wyOvzbjXjeR",
        "outputId": "76c75b58-c122-40ad-e97a-2d3cde66c2f7"
      },
      "execution_count": 28,
      "outputs": [
        {
          "output_type": "stream",
          "name": "stdout",
          "text": [
            "Epoch 1/10\n",
            "800/800 [==============================] - 27s 30ms/step - loss: 1.1756 - accuracy: 0.4884\n",
            "Epoch 2/10\n",
            "800/800 [==============================] - 19s 24ms/step - loss: 0.6932 - accuracy: 0.4956\n",
            "Epoch 3/10\n",
            "800/800 [==============================] - 21s 26ms/step - loss: 0.6932 - accuracy: 0.5000\n",
            "Epoch 4/10\n",
            "800/800 [==============================] - 20s 25ms/step - loss: 0.6932 - accuracy: 0.5038\n",
            "Epoch 5/10\n",
            "800/800 [==============================] - 23s 29ms/step - loss: 0.6932 - accuracy: 0.5000\n",
            "Epoch 6/10\n",
            "800/800 [==============================] - 20s 26ms/step - loss: 0.6932 - accuracy: 0.5038\n",
            "Epoch 7/10\n",
            "800/800 [==============================] - 20s 26ms/step - loss: 0.6933 - accuracy: 0.5038\n",
            "Epoch 8/10\n",
            "800/800 [==============================] - 19s 24ms/step - loss: 0.6932 - accuracy: 0.5006\n",
            "Epoch 9/10\n",
            "800/800 [==============================] - 19s 24ms/step - loss: 0.6932 - accuracy: 0.5038\n",
            "Epoch 10/10\n",
            "800/800 [==============================] - 20s 25ms/step - loss: 0.6933 - accuracy: 0.5000\n",
            "100/100 [==============================] - 2s 19ms/step - loss: 0.6931 - accuracy: 0.5038\n",
            "Accuracy: 50.38%\n"
          ]
        }
      ]
    },
    {
      "cell_type": "code",
      "source": [
        "from keras.models import Sequential\n",
        "from keras.layers import Dense, Flatten\n",
        "from keras.callbacks import TensorBoard\n",
        "import tensorflow as tf\n",
        "import numpy as np\n",
        "from datetime import datetime\n",
        "\n",
        "\n",
        "# TensorBoard için bir log dizini oluşturun\n",
        "log_dir = \"logs/fit/\" + datetime.now().strftime(\"%Y%m%d-%H%M%S\")\n",
        "print(f\"TensorBoard Link: https://tensorboard.dev/experiment/{log_dir}\")\n",
        "\n",
        "# TensorBoard Callback'ini oluşturun\n",
        "tensorboard_callback = tf.keras.callbacks.TensorBoard(log_dir=log_dir, histogram_freq=1)\n",
        "\n",
        "# Model oluşturma\n",
        "model = Sequential()\n",
        "model.add(Flatten(input_shape=(1000, 1)))\n",
        "model.add(Dense(100, activation='relu'))\n",
        "model.add(Dense(100, activation='sigmoid'))\n",
        "model.add(Dense(2, activation='softmax'))\n",
        "\n",
        "# Model derleme\n",
        "model.compile(optimizer='Nadam', loss='mean_squared_error', metrics=['mse','accuracy'])\n",
        "\n",
        "# Model özetini yazdırma\n",
        "model.summary()\n",
        "\n",
        "# Modeli eğitme ve TensorBoard geri çağırımını kullanma\n",
        "model.fit(X_train, y_train, epochs=50, batch_size=128, validation_split=0.2, callbacks=[tensorboard_callback])\n",
        "\n",
        "# Diğer değerlendirmeleri yapma ve sonuçları yazdırma\n",
        "test_loss, test_mse, test_acc = model.evaluate(X_test, y_test)\n",
        "print(f'Test MSE: {test_mse}, Test Accuracy: {test_acc}')\n",
        "\n",
        "# Model özetini yazdırma\n",
        "model.summary()\n",
        "\n",
        "# Test seti üzerinde tahminler yapma\n",
        "y_pred_probabilities = model.predict(X_test)\n",
        "y_pred_classes = np.argmax(y_pred_probabilities, axis=1)\n",
        "\n",
        "# Tahmin edilen sınıfları ve olasılıkları yazdırma\n",
        "for i in range(5):\n",
        "    print(f\"Actual Class: {y_test[i]}, Predicted Class: {y_pred_classes[i]}, Probabilities: {y_pred_probabilities[i]}\")\n",
        "\n",
        "\n",
        "\n",
        "log_dir = \"logs/fit/\" + datetime.now().strftime(\"%Y%m%d-%H%M%S\")\n",
        "tensorboard_callback = tf.keras.callbacks.TensorBoard(log_dir=log_dir, histogram_freq=1)\n",
        "model.fit(X_train, y_train, epochs=60, batch_size=128, validation_split=0.2, callbacks=[tensorboard_callback])\n",
        "%load_ext tensorboard\n",
        "%tensorboard --logdir logs/fit\n",
        "\n"
      ],
      "metadata": {
        "id": "zmFxTsgVTdRS"
      },
      "execution_count": null,
      "outputs": []
    },
    {
      "cell_type": "code",
      "source": [
        "import numpy as np\n",
        "import pandas as pd\n",
        "from tensorflow.keras.models import Sequential\n",
        "from tensorflow.keras.layers import Conv1D, MaxPooling1D, Dense, Dropout\n",
        "from tensorflow.keras.utils import to_categorical\n",
        "\n",
        "# Verileri yükle\n",
        "data = []\n",
        "for filename in os.listdir('trues'):\n",
        "    if filename.endswith('.txt'):\n",
        "        file_path = os.path.join('trues', filename)\n",
        "        with open(file_path, 'r') as f:\n",
        "            lines = f.readlines()\n",
        "            data_point = []\n",
        "            for line in lines:\n",
        "                x, y = line.strip().split(',')\n",
        "                data_point.append([float(x), float(y)])\n",
        "            data.append(data_point)\n",
        "\n",
        "# Verileri ön işleyin\n",
        "data = np.array(data)\n",
        "data = data.reshape(-1, 1000, 2)  # (num_files, num_timesteps, num_features)\n",
        "\n",
        "# Verileri normalize edin\n",
        "data = (data - data.mean()) / data.std()\n",
        "\n",
        "# Verileri hazırlayın\n",
        "X_train, X_val, X_test, y_train, y_val, y_test = train_test_split(data, y, test_size=0.2, random_state=42)\n",
        "\n",
        "# Model oluşturun\n",
        "model = Sequential()\n",
        "model.add(Conv1D(filters=32, kernel_size=3, activation='relu', input_shape=(1000, 2)))\n",
        "model.add(MaxPooling1D(pool_size=2))\n",
        "model.add(Conv1D(filters=64, kernel_size=3, activation='relu'))\n",
        "model.add(MaxPooling1D(pool_size=2))\n",
        "model.add(Flatten())\n",
        "model.add(Dense(128, activation='relu'))\n",
        "model.add(Dropout(0.5))\n",
        "model.add(Dense(num_classes, activation='softmax'))\n",
        "\n",
        "# Derlemeyi yapın\n",
        "model.compile(loss='categorical_crossentropy', optimizer='adam', metrics=['accuracy'])\n",
        "\n",
        "# Modeli eğitin\n",
        "model.fit(X_train, y_train, epochs=10, batch_size=32, validation_data=(X_val, y_val))\n",
        "\n",
        "# Modelin performansını değerlendirin\n",
        "score = model.evaluate(X_test, y_test)\n",
        "print('Test Kümesi Skoru:', score)\n"
      ],
      "metadata": {
        "id": "1HGWYqRvMKkr"
      },
      "execution_count": null,
      "outputs": []
    },
    {
      "cell_type": "code",
      "source": [],
      "metadata": {
        "id": "RlEZqWLLMKik"
      },
      "execution_count": null,
      "outputs": []
    }
  ]
}