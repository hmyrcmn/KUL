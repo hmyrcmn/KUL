{
  "nbformat": 4,
  "nbformat_minor": 0,
  "metadata": {
    "colab": {
      "provenance": [],
      "authorship_tag": "ABX9TyOMy9MPpl/88ZfOF9/hZKjs",
      "include_colab_link": true
    },
    "kernelspec": {
      "name": "python3",
      "display_name": "Python 3"
    },
    "language_info": {
      "name": "python"
    }
  },
  "cells": [
    {
      "cell_type": "markdown",
      "metadata": {
        "id": "view-in-github",
        "colab_type": "text"
      },
      "source": [
        "<a href=\"https://colab.research.google.com/github/hmyrcmn/KUL/blob/main/multiLineDeciseneripynb.ipynb\" target=\"_parent\"><img src=\"https://colab.research.google.com/assets/colab-badge.svg\" alt=\"Open In Colab\"/></a>"
      ]
    },
    {
      "cell_type": "code",
      "execution_count": 13,
      "metadata": {
        "colab": {
          "base_uri": "https://localhost:8080/"
        },
        "id": "XUDe2-o8nDRu",
        "outputId": "23c016c9-2605-4405-f76c-c5b6769bfd34"
      },
      "outputs": [
        {
          "output_type": "stream",
          "name": "stdout",
          "text": [
            "fatal: destination path 'KUL' already exists and is not an empty directory.\n",
            "x_data shape:  (4000, 100, 1)\n"
          ]
        },
        {
          "output_type": "execute_result",
          "data": {
            "text/plain": [
              "array([[[200.10677005],\n",
              "        [199.41021706],\n",
              "        [198.77841218],\n",
              "        ...,\n",
              "        [201.9444308 ],\n",
              "        [203.36231439],\n",
              "        [201.70454545]],\n",
              "\n",
              "       [[200.3517316 ],\n",
              "        [199.41021706],\n",
              "        [198.77841218],\n",
              "        ...,\n",
              "        [201.9444308 ],\n",
              "        [202.01229305],\n",
              "        [201.70454545]],\n",
              "\n",
              "       [[201.18903541],\n",
              "        [199.41021706],\n",
              "        [198.77841218],\n",
              "        ...,\n",
              "        [201.9444308 ],\n",
              "        [202.01229305],\n",
              "        [201.33357578]],\n",
              "\n",
              "       ...,\n",
              "\n",
              "       [[100.49097244],\n",
              "        [102.82737612],\n",
              "        [102.4746375 ],\n",
              "        ...,\n",
              "        [ 82.55299927],\n",
              "        [ 83.59985508],\n",
              "        [ 81.48558758]],\n",
              "\n",
              "       [[100.49097244],\n",
              "        [101.68549689],\n",
              "        [102.4746375 ],\n",
              "        ...,\n",
              "        [ 82.55299927],\n",
              "        [ 83.59985508],\n",
              "        [ 83.11387519]],\n",
              "\n",
              "       [[100.49097244],\n",
              "        [101.68549689],\n",
              "        [102.4746375 ],\n",
              "        ...,\n",
              "        [ 82.55299927],\n",
              "        [ 83.59985508],\n",
              "        [ 80.67742962]]])"
            ]
          },
          "metadata": {},
          "execution_count": 13
        }
      ],
      "source": [
        "import os\n",
        "import numpy as np\n",
        "from sklearn.model_selection import train_test_split\n",
        "from sklearn.preprocessing import MinMaxScaler\n",
        "from keras.models import Sequential\n",
        "from keras.layers import Dense, Dropout\n",
        "\n",
        "!git clone https://github.com/hmyrcmn/KUL.git\n",
        "\n",
        "# Veri yükleme\n",
        "true_folder = '/content/KUL/truedata'\n",
        "\n",
        "X_data = []\n",
        "Y_labels = []\n",
        "\n",
        "for filename in os.listdir(true_folder):\n",
        "    data = np.genfromtxt(os.path.join(true_folder, filename), delimiter=',')\n",
        "    # X_data.append(data)\n",
        "    X_data.append(data[:, 1:])  # Sadece virgül sonrasındaki değerleri ekledim\n",
        "\n",
        "    Y_labels.append(1)\n",
        "true_folder2 = '/content/KUL/truedata2'\n",
        "\n",
        "for filename in os.listdir(true_folder2):\n",
        "    data = np.genfromtxt(os.path.join(true_folder2, filename), delimiter=',')\n",
        "    # X_data.append(data)\n",
        "    X_data.append(data[:, 1:])  # Sadece virgül sonrasındaki değerleri ekledim\n",
        "\n",
        "    Y_labels.append(1)\n",
        "\n",
        "false_folder = '/content/KUL/falsedata'\n",
        "for filename in os.listdir(false_folder):\n",
        "    data = np.genfromtxt(os.path.join(false_folder, filename), delimiter=',')\n",
        "    # X_data.append(data)\n",
        "    X_data.append(data[:, 1:])  # Sadece virgül sonrasındaki değerleri ekledim\n",
        "\n",
        "    Y_labels.append(0)\n",
        "\n",
        "false_folder2 = '/content/KUL/falsedata2'\n",
        "for filename in os.listdir(false_folder2):\n",
        "    data = np.genfromtxt(os.path.join(false_folder2, filename), delimiter=',')\n",
        "    # X_data.append(data)\n",
        "    X_data.append(data[:, 1:])  # Sadece virgül sonrasındaki değerleri ekledim\n",
        "\n",
        "    Y_labels.append(0)\n",
        "\n",
        "X_data = np.array(X_data)\n",
        "Y_labels = np.array(Y_labels)\n",
        "print(\"x_data shape: \",X_data.shape)\n",
        "X_data"
      ]
    },
    {
      "cell_type": "code",
      "source": [
        "# Verileri düzenleme ve normalleştirme\n",
        "num_samples = len(X_data)\n",
        "sequence_length = X_data.shape[1]\n",
        "num_features = X_data.shape[2]\n",
        "\n",
        "X_data_normalized = X_data.reshape(num_samples, sequence_length * num_features)\n",
        "\n",
        "# Eğitim ve test setlerine bölme\n",
        "\n",
        "X_train, X_test, y_train, y_test = train_test_split(X_data_normalized, Y_labels, test_size=0.2, random_state=42)\n",
        "\n",
        "print(\"X_train.shape:\",X_train.shape)\n",
        "X_train"
      ],
      "metadata": {
        "colab": {
          "base_uri": "https://localhost:8080/"
        },
        "id": "Q6X6QvFtF82-",
        "outputId": "47e51704-098d-48ff-e029-5430aa81fb91"
      },
      "execution_count": 14,
      "outputs": [
        {
          "output_type": "stream",
          "name": "stdout",
          "text": [
            "X_train.shape: (3200, 100)\n"
          ]
        },
        {
          "output_type": "execute_result",
          "data": {
            "text/plain": [
              "array([[100.49097244, 101.26422372, 102.4746375 , ...,  82.55299927,\n",
              "         84.85925616,  80.39108279],\n",
              "       [200.3517316 , 199.41021706, 198.77841218, ..., 201.9444308 ,\n",
              "        202.01229305, 201.70454545],\n",
              "       [201.70454545, 201.53584893, 201.49991349, ..., 203.03753731,\n",
              "        203.29109527, 203.73376623],\n",
              "       ...,\n",
              "       [200.3517316 , 199.41021706, 198.77841218, ..., 201.9444308 ,\n",
              "        202.01229305, 201.70454545],\n",
              "       [100.49097244, 104.34167099, 104.10014841, ...,  82.55299927,\n",
              "         84.09842213,  82.81734163],\n",
              "       [100.49097244, 101.68549689, 102.4746375 , ...,  83.83269193,\n",
              "         83.59985508,  81.48558758]])"
            ]
          },
          "metadata": {},
          "execution_count": 14
        }
      ]
    },
    {
      "cell_type": "code",
      "source": [
        "import numpy as np\n",
        "import matplotlib.pyplot as plt\n",
        "\n",
        "# Define the paths to your text files\n",
        "true = '/content/KUL/truedata/smooth2001_0.txt'\n",
        "false = '/content/KUL/falsedata/smooth2003_0.txt'\n",
        "true1 = '/content/KUL/truedata2/smooth2004_0.txt'\n",
        "false1 = '/content/KUL/falsedata2/smooth2005_0.txt'\n",
        "\n",
        "# Load data from the first text file\n",
        "data1 = np.genfromtxt(true, delimiter=',')\n",
        "y_values1 = data1[:, 1]\n",
        "\n",
        "# Load data from the second text file\n",
        "data2 = np.genfromtxt(false, delimiter=',')\n",
        "y_values2 = data2[:, 1]\n",
        "\n",
        "\n",
        "# Load data from the first text file\n",
        "data3 = np.genfromtxt(true1, delimiter=',')\n",
        "y_values3 = data3[:, 1]\n",
        "\n",
        "# Load data from the second text file\n",
        "data4 = np.genfromtxt(false1, delimiter=',')\n",
        "y_values4 = data4[:, 1]\n",
        "\n",
        "# Plot the data from both files on the same graph\n",
        "plt.plot(y_values1, label='true')\n",
        "plt.plot(y_values2, label='false')\n",
        "plt.plot(y_values3, label='true1')\n",
        "plt.plot(y_values4, label='false1')\n",
        "\n",
        "# Add labels and title\n",
        "plt.xlabel('Data Point Index')\n",
        "plt.ylabel('Y Values')\n",
        "plt.title('Data from Two Text Files')\n",
        "plt.legend()\n",
        "plt.show()\n"
      ],
      "metadata": {
        "colab": {
          "base_uri": "https://localhost:8080/",
          "height": 472
        },
        "id": "FZLsDpy4F_YN",
        "outputId": "f4c1226e-f76b-4219-fbce-fe4e5b7b4eb4"
      },
      "execution_count": 15,
      "outputs": [
        {
          "output_type": "display_data",
          "data": {
            "text/plain": [
              "<Figure size 640x480 with 1 Axes>"
            ],
            "image/png": "[encoded data removed]"
          },
          "metadata": {}
        }
      ]
    },
    {
      "cell_type": "code",
      "source": [
        "from keras.models import Sequential\n",
        "from keras.layers import Dense, BatchNormalization, Dropout\n",
        "from sklearn.model_selection import train_test_split\n",
        "from keras.layers import Conv1D, MaxPooling1D, Flatten, Dense\n",
        "\n",
        "model = Sequential()\n",
        "model.add(Conv1D(32, kernel_size=15, activation='sigmoid', input_shape=(100, 1)))\n",
        "model.add(Flatten())\n",
        "\n",
        "# model.add(Dense(200, activation='sigmoid'))\n",
        "model.add(Dense(100, activation='sigmoid'))\n",
        "model.add(Dense(100, activation='sigmoid'))\n",
        "\n",
        "model.add(Dense(50, activation='sigmoid'))\n",
        "\n",
        "\n",
        "model.add(Dense(2, activation='softmax'))\n",
        "\n",
        "\n",
        "\n",
        "# Modeli derleme\n",
        "# model.compile(optimizer='adam',loss=\"sparse_categorical_crossentropy\", metrics=['accuracy'])\n",
        "model.compile(optimizer='sgd', loss='sparse_categorical_crossentropy', metrics=['accuracy'])\n",
        "\n",
        "# Model özetini yazdırma\n",
        "model.summary()\n",
        "# Modeli eğitme\n",
        "model.fit(X_train, y_train, epochs=50, batch_size=32, validation_split=0.2)\n",
        "\n",
        "# Modelin performansını değerlendirme\n",
        "test_loss, test_acc = model.evaluate(X_test, y_test)\n",
        "print(f'Test accuracy: {test_acc}')\n",
        "\n",
        "\n",
        "# Model özetini yazdırma\n",
        "model.summary()\n"
      ],
      "metadata": {
        "colab": {
          "base_uri": "https://localhost:8080/"
        },
        "id": "84J69HAVH_Q4",
        "outputId": "6c580d15-5b3e-4e02-9f48-ef2727537900"
      },
      "execution_count": 16,
      "outputs": [
        {
          "output_type": "stream",
          "name": "stdout",
          "text": [
            "Model: \"sequential_3\"\n",
            "_________________________________________________________________\n",
            " Layer (type)                Output Shape              Param #   \n",
            "=================================================================\n",
            " conv1d_3 (Conv1D)           (None, 86, 32)            512       \n",
            "                                                                 \n",
            " flatten_3 (Flatten)         (None, 2752)              0         \n",
            "                                                                 \n",
            " dense_12 (Dense)            (None, 100)               275300    \n",
            "                                                                 \n",
            " dense_13 (Dense)            (None, 100)               10100     \n",
            "                                                                 \n",
            " dense_14 (Dense)            (None, 50)                5050      \n",
            "                                                                 \n",
            " dense_15 (Dense)            (None, 2)                 102       \n",
            "                                                                 \n",
            "=================================================================\n",
            "Total params: 291064 (1.11 MB)\n",
            "Trainable params: 291064 (1.11 MB)\n",
            "Non-trainable params: 0 (0.00 Byte)\n",
            "_________________________________________________________________\n",
            "Epoch 1/50\n",
            "80/80 [==============================] - 1s 10ms/step - loss: 0.6945 - accuracy: 0.4961 - val_loss: 0.6923 - val_accuracy: 0.5172\n",
            "Epoch 2/50\n",
            "80/80 [==============================] - 1s 7ms/step - loss: 0.6931 - accuracy: 0.4980 - val_loss: 0.6914 - val_accuracy: 0.5172\n",
            "Epoch 3/50\n",
            "80/80 [==============================] - 1s 7ms/step - loss: 0.6925 - accuracy: 0.5203 - val_loss: 0.6919 - val_accuracy: 0.5172\n",
            "Epoch 4/50\n",
            "80/80 [==============================] - 1s 7ms/step - loss: 0.6922 - accuracy: 0.5176 - val_loss: 0.6902 - val_accuracy: 0.5172\n",
            "Epoch 5/50\n",
            "80/80 [==============================] - 1s 9ms/step - loss: 0.6912 - accuracy: 0.5340 - val_loss: 0.6900 - val_accuracy: 0.7625\n",
            "Epoch 6/50\n",
            "80/80 [==============================] - 1s 13ms/step - loss: 0.6907 - accuracy: 0.5305 - val_loss: 0.6885 - val_accuracy: 0.5172\n",
            "Epoch 7/50\n",
            "80/80 [==============================] - 1s 13ms/step - loss: 0.6895 - accuracy: 0.5340 - val_loss: 0.6884 - val_accuracy: 0.7625\n",
            "Epoch 8/50\n",
            "80/80 [==============================] - 1s 12ms/step - loss: 0.6885 - accuracy: 0.5703 - val_loss: 0.6869 - val_accuracy: 0.5172\n",
            "Epoch 9/50\n",
            "80/80 [==============================] - 1s 9ms/step - loss: 0.6872 - accuracy: 0.5398 - val_loss: 0.6860 - val_accuracy: 0.7625\n",
            "Epoch 10/50\n",
            "80/80 [==============================] - 1s 7ms/step - loss: 0.6862 - accuracy: 0.6070 - val_loss: 0.6840 - val_accuracy: 0.7719\n",
            "Epoch 11/50\n",
            "80/80 [==============================] - 1s 7ms/step - loss: 0.6845 - accuracy: 0.5988 - val_loss: 0.6823 - val_accuracy: 0.5172\n",
            "Epoch 12/50\n",
            "80/80 [==============================] - 1s 7ms/step - loss: 0.6822 - accuracy: 0.6016 - val_loss: 0.6808 - val_accuracy: 0.7625\n",
            "Epoch 13/50\n",
            "80/80 [==============================] - 1s 7ms/step - loss: 0.6803 - accuracy: 0.6238 - val_loss: 0.6780 - val_accuracy: 0.5172\n",
            "Epoch 14/50\n",
            "80/80 [==============================] - 1s 7ms/step - loss: 0.6767 - accuracy: 0.6883 - val_loss: 0.6788 - val_accuracy: 0.4828\n",
            "Epoch 15/50\n",
            "80/80 [==============================] - 1s 7ms/step - loss: 0.6748 - accuracy: 0.7000 - val_loss: 0.6711 - val_accuracy: 1.0000\n",
            "Epoch 16/50\n",
            "80/80 [==============================] - 1s 7ms/step - loss: 0.6709 - accuracy: 0.7270 - val_loss: 0.6669 - val_accuracy: 0.5172\n",
            "Epoch 17/50\n",
            "80/80 [==============================] - 1s 7ms/step - loss: 0.6655 - accuracy: 0.6684 - val_loss: 0.6648 - val_accuracy: 0.4828\n",
            "Epoch 18/50\n",
            "80/80 [==============================] - 1s 7ms/step - loss: 0.6627 - accuracy: 0.7512 - val_loss: 0.6599 - val_accuracy: 0.4828\n",
            "Epoch 19/50\n",
            "80/80 [==============================] - 1s 7ms/step - loss: 0.6573 - accuracy: 0.8535 - val_loss: 0.6547 - val_accuracy: 1.0000\n",
            "Epoch 20/50\n",
            "80/80 [==============================] - 1s 7ms/step - loss: 0.6510 - accuracy: 0.8652 - val_loss: 0.6476 - val_accuracy: 1.0000\n",
            "Epoch 21/50\n",
            "80/80 [==============================] - 1s 7ms/step - loss: 0.6437 - accuracy: 0.9703 - val_loss: 0.6362 - val_accuracy: 1.0000\n",
            "Epoch 22/50\n",
            "80/80 [==============================] - 1s 7ms/step - loss: 0.6363 - accuracy: 0.9234 - val_loss: 0.6208 - val_accuracy: 1.0000\n",
            "Epoch 23/50\n",
            "80/80 [==============================] - 1s 7ms/step - loss: 0.6256 - accuracy: 0.9777 - val_loss: 0.6222 - val_accuracy: 0.7719\n",
            "Epoch 24/50\n",
            "80/80 [==============================] - 1s 7ms/step - loss: 0.6117 - accuracy: 0.9773 - val_loss: 0.6159 - val_accuracy: 1.0000\n",
            "Epoch 25/50\n",
            "80/80 [==============================] - 1s 7ms/step - loss: 0.5998 - accuracy: 0.9891 - val_loss: 0.5873 - val_accuracy: 1.0000\n",
            "Epoch 26/50\n",
            "80/80 [==============================] - 1s 7ms/step - loss: 0.5837 - accuracy: 1.0000 - val_loss: 0.5620 - val_accuracy: 1.0000\n",
            "Epoch 27/50\n",
            "80/80 [==============================] - 1s 13ms/step - loss: 0.5602 - accuracy: 1.0000 - val_loss: 0.5251 - val_accuracy: 1.0000\n",
            "Epoch 28/50\n",
            "80/80 [==============================] - 1s 12ms/step - loss: 0.5354 - accuracy: 1.0000 - val_loss: 0.5394 - val_accuracy: 1.0000\n",
            "Epoch 29/50\n",
            "80/80 [==============================] - 1s 11ms/step - loss: 0.5153 - accuracy: 0.9941 - val_loss: 0.4863 - val_accuracy: 1.0000\n",
            "Epoch 30/50\n",
            "80/80 [==============================] - 1s 12ms/step - loss: 0.4996 - accuracy: 0.9926 - val_loss: 0.4322 - val_accuracy: 1.0000\n",
            "Epoch 31/50\n",
            "80/80 [==============================] - 1s 7ms/step - loss: 0.4245 - accuracy: 1.0000 - val_loss: 0.4806 - val_accuracy: 1.0000\n",
            "Epoch 32/50\n",
            "80/80 [==============================] - 1s 7ms/step - loss: 0.4276 - accuracy: 0.9973 - val_loss: 0.4148 - val_accuracy: 1.0000\n",
            "Epoch 33/50\n",
            "80/80 [==============================] - 1s 7ms/step - loss: 0.4167 - accuracy: 1.0000 - val_loss: 0.4165 - val_accuracy: 1.0000\n",
            "Epoch 34/50\n",
            "80/80 [==============================] - 1s 7ms/step - loss: 0.3479 - accuracy: 0.9855 - val_loss: 0.4593 - val_accuracy: 1.0000\n",
            "Epoch 35/50\n",
            "80/80 [==============================] - 1s 7ms/step - loss: 0.5699 - accuracy: 0.8199 - val_loss: 0.5534 - val_accuracy: 0.7625\n",
            "Epoch 36/50\n",
            "80/80 [==============================] - 1s 7ms/step - loss: 0.5366 - accuracy: 0.8695 - val_loss: 0.5803 - val_accuracy: 0.7625\n",
            "Epoch 37/50\n",
            "80/80 [==============================] - 1s 7ms/step - loss: 0.5183 - accuracy: 0.8727 - val_loss: 0.3999 - val_accuracy: 1.0000\n",
            "Epoch 38/50\n",
            "80/80 [==============================] - 1s 7ms/step - loss: 0.5175 - accuracy: 0.8945 - val_loss: 0.4544 - val_accuracy: 1.0000\n",
            "Epoch 39/50\n",
            "80/80 [==============================] - 1s 7ms/step - loss: 0.5565 - accuracy: 0.8062 - val_loss: 0.6196 - val_accuracy: 0.7625\n",
            "Epoch 40/50\n",
            "80/80 [==============================] - 1s 7ms/step - loss: 0.5512 - accuracy: 0.7902 - val_loss: 0.5945 - val_accuracy: 0.7625\n",
            "Epoch 41/50\n",
            "80/80 [==============================] - 1s 7ms/step - loss: 0.6061 - accuracy: 0.7066 - val_loss: 0.5870 - val_accuracy: 0.7625\n",
            "Epoch 42/50\n",
            "80/80 [==============================] - 1s 7ms/step - loss: 0.5571 - accuracy: 0.7652 - val_loss: 0.5979 - val_accuracy: 0.7625\n",
            "Epoch 43/50\n",
            "80/80 [==============================] - 1s 7ms/step - loss: 0.5676 - accuracy: 0.7512 - val_loss: 0.5283 - val_accuracy: 0.7625\n",
            "Epoch 44/50\n",
            "80/80 [==============================] - 1s 7ms/step - loss: 0.5513 - accuracy: 0.7477 - val_loss: 0.4419 - val_accuracy: 1.0000\n",
            "Epoch 45/50\n",
            "80/80 [==============================] - 1s 7ms/step - loss: 0.5569 - accuracy: 0.7434 - val_loss: 0.5485 - val_accuracy: 0.7625\n",
            "Epoch 46/50\n",
            "80/80 [==============================] - 1s 7ms/step - loss: 0.5617 - accuracy: 0.7211 - val_loss: 0.4144 - val_accuracy: 0.7625\n",
            "Epoch 47/50\n",
            "80/80 [==============================] - 1s 7ms/step - loss: 0.5659 - accuracy: 0.7227 - val_loss: 0.5398 - val_accuracy: 0.7625\n",
            "Epoch 48/50\n",
            "80/80 [==============================] - 1s 9ms/step - loss: 0.5570 - accuracy: 0.7242 - val_loss: 0.5314 - val_accuracy: 0.7625\n",
            "Epoch 49/50\n",
            "80/80 [==============================] - 1s 12ms/step - loss: 0.5500 - accuracy: 0.7328 - val_loss: 0.5261 - val_accuracy: 0.7625\n",
            "Epoch 50/50\n",
            "80/80 [==============================] - 1s 13ms/step - loss: 0.5422 - accuracy: 0.7281 - val_loss: 0.4945 - val_accuracy: 0.7625\n",
            "25/25 [==============================] - 0s 6ms/step - loss: 0.5050 - accuracy: 0.7575\n",
            "Test accuracy: 0.7574999928474426\n",
            "Model: \"sequential_3\"\n",
            "_________________________________________________________________\n",
            " Layer (type)                Output Shape              Param #   \n",
            "=================================================================\n",
            " conv1d_3 (Conv1D)           (None, 86, 32)            512       \n",
            "                                                                 \n",
            " flatten_3 (Flatten)         (None, 2752)              0         \n",
            "                                                                 \n",
            " dense_12 (Dense)            (None, 100)               275300    \n",
            "                                                                 \n",
            " dense_13 (Dense)            (None, 100)               10100     \n",
            "                                                                 \n",
            " dense_14 (Dense)            (None, 50)                5050      \n",
            "                                                                 \n",
            " dense_15 (Dense)            (None, 2)                 102       \n",
            "                                                                 \n",
            "=================================================================\n",
            "Total params: 291064 (1.11 MB)\n",
            "Trainable params: 291064 (1.11 MB)\n",
            "Non-trainable params: 0 (0.00 Byte)\n",
            "_________________________________________________________________\n"
          ]
        }
      ]
    },
    {
      "cell_type": "code",
      "source": [
        "from sklearn.metrics import classification_report\n",
        "\n",
        "# Modelin tahminlerini alın\n",
        "y_pred_proba = model.predict(X_test)\n",
        "\n",
        "# Her bir örnek için en yüksek olasılığa sahip sınıfı seçin\n",
        "y_pred = np.argmax(y_pred_proba, axis=1)\n",
        "\n",
        "# Sınıflandırma raporu\n",
        "class_report = classification_report(y_test, y_pred)\n",
        "\n",
        "print(\"Classification Report:\")\n",
        "print(class_report)\n",
        "\n",
        "# Modelin özetini yazdırma\n",
        "model.summary()\n"
      ],
      "metadata": {
        "colab": {
          "base_uri": "https://localhost:8080/"
        },
        "id": "m55kC5zOP084",
        "outputId": "07fd4d93-19c0-4806-daaa-376d5eb17995"
      },
      "execution_count": 17,
      "outputs": [
        {
          "output_type": "stream",
          "name": "stdout",
          "text": [
            "25/25 [==============================] - 0s 3ms/step\n",
            "Classification Report:\n",
            "              precision    recall  f1-score   support\n",
            "\n",
            "           0       1.00      0.49      0.65       378\n",
            "           1       0.69      1.00      0.81       422\n",
            "\n",
            "    accuracy                           0.76       800\n",
            "   macro avg       0.84      0.74      0.73       800\n",
            "weighted avg       0.83      0.76      0.74       800\n",
            "\n",
            "Model: \"sequential_3\"\n",
            "_________________________________________________________________\n",
            " Layer (type)                Output Shape              Param #   \n",
            "=================================================================\n",
            " conv1d_3 (Conv1D)           (None, 86, 32)            512       \n",
            "                                                                 \n",
            " flatten_3 (Flatten)         (None, 2752)              0         \n",
            "                                                                 \n",
            " dense_12 (Dense)            (None, 100)               275300    \n",
            "                                                                 \n",
            " dense_13 (Dense)            (None, 100)               10100     \n",
            "                                                                 \n",
            " dense_14 (Dense)            (None, 50)                5050      \n",
            "                                                                 \n",
            " dense_15 (Dense)            (None, 2)                 102       \n",
            "                                                                 \n",
            "=================================================================\n",
            "Total params: 291064 (1.11 MB)\n",
            "Trainable params: 291064 (1.11 MB)\n",
            "Non-trainable params: 0 (0.00 Byte)\n",
            "_________________________________________________________________\n"
          ]
        }
      ]
    },
    {
      "cell_type": "code",
      "source": [
        "import seaborn as sns\n",
        "import matplotlib.pyplot as plt\n",
        "from sklearn.metrics import confusion_matrix\n",
        "\n",
        "# Modelin tahminlerini alın\n",
        "y_pred_proba = model.predict(X_test)\n",
        "y_pred = (y_pred_proba[:, 1] > 0.5).astype(int)  # Eşik değeri üzerinden sınıflara dönüştürme\n",
        "\n",
        "# Confusion matrix oluşturun\n",
        "conf_matrix = confusion_matrix(y_test, y_pred)\n",
        "print(\"conf_matrix:\",conf_matrix)\n",
        "# Confusion matrix'i seaborn ile görselleştirme\n",
        "plt.figure(figsize=(8, 6))\n",
        "sns.heatmap(conf_matrix, annot=True, fmt='d', cmap='Blues', xticklabels=['0', '1'], yticklabels=['0', '1'])\n",
        "plt.title('Confusion Matrix')\n",
        "plt.xlabel('Predicted')\n",
        "plt.ylabel('True')\n",
        "plt.show()\n"
      ],
      "metadata": {
        "colab": {
          "base_uri": "https://localhost:8080/",
          "height": 619
        },
        "id": "Qmr7_9bkII-N",
        "outputId": "02c86243-6900-4448-922a-fc134638e70f"
      },
      "execution_count": 18,
      "outputs": [
        {
          "output_type": "stream",
          "name": "stdout",
          "text": [
            "25/25 [==============================] - 0s 5ms/step\n",
            "conf_matrix: [[184 194]\n",
            " [  0 422]]\n"
          ]
        },
        {
          "output_type": "display_data",
          "data": {
            "text/plain": [
              "<Figure size 800x600 with 2 Axes>"
            ],
            "image/png": "[encoded data removed]"
          },
          "metadata": {}
        }
      ]
    },
    {
      "cell_type": "code",
      "source": [
        "import os\n",
        "import numpy as np\n",
        "from sklearn.model_selection import train_test_split\n",
        "from sklearn.preprocessing import MinMaxScaler\n",
        "from keras.models import Sequential\n",
        "from keras.layers import Dense, Dropout\n",
        "\n",
        "\n",
        "# Veri yükleme\n",
        "true_folder = '/content/KUL/errors/true'\n",
        "X_data2= []\n",
        "Y_labels2 = []\n",
        "\n",
        "for filename in os.listdir(true_folder):\n",
        "    data2 = np.genfromtxt(os.path.join(true_folder, filename), delimiter=',')\n",
        "    # X_data.append(data)\n",
        "    X_data2.append(data2[:, 1:])  # Sadece virgül sonrasındaki değerleri ekledim\n",
        "\n",
        "    Y_labels2.append(1)\n",
        "true_folder2 = '/content/KUL/errors/true2'\n",
        "\n",
        "for filename in os.listdir(true_folder2):\n",
        "    data2 = np.genfromtxt(os.path.join(true_folder2, filename), delimiter=',')\n",
        "    # X_data.append(data)\n",
        "    X_data2.append(data2[:, 1:])  # Sadece virgül sonrasındaki değerleri ekledim\n",
        "\n",
        "    Y_labels2.append(1)\n",
        "false_folder = '/content/KUL/errors/false'\n",
        "for filename in os.listdir(false_folder):\n",
        "\n",
        "    data2 = np.genfromtxt(os.path.join(false_folder, filename), delimiter=',')\n",
        "    # X_data.append(data)\n",
        "    X_data2.append(data2[:, 1:])  # Sadece virgül sonrasındaki değerleri ekledim\n",
        "\n",
        "    Y_labels2.append(0)\n",
        "false_folder2= '/content/KUL/errors/false2'\n",
        "for filename in os.listdir(false_folder2):\n",
        "\n",
        "    data2 = np.genfromtxt(os.path.join(false_folder2, filename), delimiter=',')\n",
        "    # X_data.append(data)\n",
        "    X_data2.append(data2[:, 1:])  # Sadece virgül sonrasındaki değerleri ekledim\n",
        "\n",
        "    Y_labels2.append(0)\n",
        "\n",
        "X_data2= np.array(X_data2)\n",
        "Y_labels2 = np.array(Y_labels2)\n",
        "print(\"x_data shape: \",X_data2.shape)\n",
        "\n",
        "\n",
        "# Verileri düzenleme ve normalleştirme\n",
        "num_samples = len(X_data2)\n",
        "sequence_length = X_data2.shape[1]\n",
        "num_features = X_data.shape[2]\n",
        "\n",
        "X_data_normalized2 = X_data2.reshape(num_samples, sequence_length * num_features)\n",
        "print(\"y:\",Y_labels2.shape)\n",
        "Y_labels2\n",
        "\n",
        "\n",
        "\n"
      ],
      "metadata": {
        "colab": {
          "base_uri": "https://localhost:8080/"
        },
        "id": "Toy25cuFILBB",
        "outputId": "d6ae7b4b-b7f8-4911-88d4-dcdeb51040ba"
      },
      "execution_count": 19,
      "outputs": [
        {
          "output_type": "stream",
          "name": "stdout",
          "text": [
            "x_data shape:  (20, 100, 1)\n",
            "y: (20,)\n"
          ]
        },
        {
          "output_type": "execute_result",
          "data": {
            "text/plain": [
              "array([1, 1, 1, 1, 1, 1, 1, 1, 1, 1, 0, 0, 0, 0, 0, 0, 0, 0, 0, 0])"
            ]
          },
          "metadata": {},
          "execution_count": 19
        }
      ]
    },
    {
      "cell_type": "code",
      "source": [
        "# Model ile tahmin yapma\n",
        "predictions = model.predict(X_data_normalized2)\n",
        "# Tahmin sonuçlarını eşik değere göre ikili sınıflara dönüştürme\n",
        "binary_predictions = (predictions > 0.5).astype(int)\n",
        "# print(\":binary_predictions\",binary_predictions)\n",
        "# Her bir örnek için tahmin edilen sınıfı ve olasılığı yazdırma\n",
        "for i in range(len(binary_predictions)):\n",
        "    predicted_class = binary_predictions[i][1]  # Sadece ilk sınıfın tahminini al\n",
        "    probability = predictions[i][predicted_class]  # Tahmin edilen sınıfa ait olasılığı al\n",
        "    print(f\"Sample {i + 1}: Predicted Class: {predicted_class}, Probability: {probability:.4f}\")\n",
        "\n",
        "# binary_predictions"
      ],
      "metadata": {
        "colab": {
          "base_uri": "https://localhost:8080/"
        },
        "id": "yywp_Ay9Kepx",
        "outputId": "8000d24a-5d82-4c1e-9d50-de5ea913839b"
      },
      "execution_count": 21,
      "outputs": [
        {
          "output_type": "stream",
          "name": "stdout",
          "text": [
            "1/1 [==============================] - 0s 98ms/step\n",
            "Sample 1: Predicted Class: 1, Probability: 0.6835\n",
            "Sample 2: Predicted Class: 1, Probability: 0.6835\n",
            "Sample 3: Predicted Class: 1, Probability: 0.6834\n",
            "Sample 4: Predicted Class: 1, Probability: 0.6830\n",
            "Sample 5: Predicted Class: 1, Probability: 0.6832\n",
            "Sample 6: Predicted Class: 1, Probability: 0.6494\n",
            "Sample 7: Predicted Class: 1, Probability: 0.6498\n",
            "Sample 8: Predicted Class: 1, Probability: 0.6495\n",
            "Sample 9: Predicted Class: 1, Probability: 0.6490\n",
            "Sample 10: Predicted Class: 1, Probability: 0.6495\n",
            "Sample 11: Predicted Class: 1, Probability: 0.6206\n",
            "Sample 12: Predicted Class: 1, Probability: 0.6208\n",
            "Sample 13: Predicted Class: 1, Probability: 0.6200\n",
            "Sample 14: Predicted Class: 1, Probability: 0.6207\n",
            "Sample 15: Predicted Class: 1, Probability: 0.6206\n",
            "Sample 16: Predicted Class: 0, Probability: 0.7878\n",
            "Sample 17: Predicted Class: 0, Probability: 0.7866\n",
            "Sample 18: Predicted Class: 0, Probability: 0.7860\n",
            "Sample 19: Predicted Class: 0, Probability: 0.7903\n",
            "Sample 20: Predicted Class: 0, Probability: 0.7860\n"
          ]
        }
      ]
    }
  ]
}